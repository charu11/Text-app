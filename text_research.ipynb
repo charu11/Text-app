{
 "cells": [
  {
   "cell_type": "markdown",
   "metadata": {},
   "source": [
    "# Import the dataset"
   ]
  },
  {
   "cell_type": "code",
   "execution_count": 1,
   "metadata": {
    "executionInfo": {
     "elapsed": 3684,
     "status": "ok",
     "timestamp": 1620288690730,
     "user": {
      "displayName": "Charun Umesh",
      "photoUrl": "https://lh3.googleusercontent.com/a-/AOh14Ghzs-ksY7r-r2Z0dg0X5T80WP9Bav3EwTznk27TQw=s64",
      "userId": "07812142606232750963"
     },
     "user_tz": -330
    },
    "id": "_nzCXpIXuvns"
   },
   "outputs": [
    {
     "name": "stderr",
     "output_type": "stream",
     "text": [
      "/home/charun/snap/jupyter/common/lib/python3.7/site-packages/joblib/_multiprocessing_helpers.py:45: UserWarning: [Errno 13] Permission denied.  joblib will operate in serial mode\n",
      "  warnings.warn('%s.  joblib will operate in serial mode' % (e,))\n"
     ]
    }
   ],
   "source": [
    "#import all the libraries\n",
    "\n",
    "import pandas as pd\n",
    "import numpy as np\n",
    "import matplotlib.pyplot as plt\n",
    "from textblob import TextBlob\n",
    "import re\n",
    "from nltk.corpus import stopwords\n",
    "from nltk.stem.wordnet import WordNetLemmatizer\n",
    "from numpy import savetxt\n",
    "import pickle\n",
    "from random import shuffle\n",
    "from sklearn.feature_selection import chi2\n",
    "from sklearn.feature_extraction.text import TfidfVectorizer\n",
    "from sklearn.feature_extraction.text import CountVectorizer"
   ]
  },
  {
   "cell_type": "code",
   "execution_count": 2,
   "metadata": {},
   "outputs": [],
   "source": [
    "import numpy as np # linear algebra\n",
    "import pandas as pd # data processing, CSV file I/O (e.g. pd.read_csv)\n",
    "import tensorflow as tf\n",
    "from keras.layers import Dense, Embedding, LSTM, SpatialDropout1D\n",
    "from keras.models import Sequential\n",
    "from sklearn.feature_extraction.text import CountVectorizer\n",
    "from keras.preprocessing.text import Tokenizer\n",
    "from keras.preprocessing.sequence import pad_sequences\n",
    "from sklearn.model_selection import train_test_split\n",
    "from keras.utils.np_utils import to_categorical\n",
    "from keras.callbacks import EarlyStopping\n",
    "from tqdm import tqdm\n"
   ]
  },
  {
   "cell_type": "code",
   "execution_count": 3,
   "metadata": {},
   "outputs": [
    {
     "data": {
      "text/plain": [
       "Index(['Text', 'Label'], dtype='object')"
      ]
     },
     "execution_count": 3,
     "metadata": {},
     "output_type": "execute_result"
    }
   ],
   "source": [
    "#import the dataset using the pandas\n",
    "\n",
    "df_train = pd.read_excel('/home/charun/Documents/Projects/text_research/train_dataset.xlsx')\n",
    "\n",
    "df_train.columns"
   ]
  },
  {
   "cell_type": "code",
   "execution_count": 4,
   "metadata": {},
   "outputs": [
    {
     "data": {
      "text/plain": [
       "Integration          976\n",
       "Debug                952\n",
       "User Interface       937\n",
       "Core                 925\n",
       "Document and text    888\n",
       "label                  1\n",
       "Name: Label, dtype: int64"
      ]
     },
     "execution_count": 4,
     "metadata": {},
     "output_type": "execute_result"
    }
   ],
   "source": [
    "df_train.Label.value_counts()"
   ]
  },
  {
   "cell_type": "code",
   "execution_count": 5,
   "metadata": {},
   "outputs": [],
   "source": [
    "num_of_categories = 888\n",
    "shuffled = df_train.reindex(np.random.permutation(df_train.index))\n",
    "\n",
    "Debug = shuffled[shuffled['Label'] == 'Debug'][:num_of_categories]\n",
    "User_interface  = shuffled[shuffled['Label'] == 'User Interface'][:num_of_categories]\n",
    "Integration = shuffled[shuffled['Label'] == 'Integration'][:num_of_categories]\n",
    "Core = shuffled[shuffled['Label'] == 'Core'][:num_of_categories]\n",
    "Document_and_text = shuffled[shuffled['Label'] == 'Document and text'][:num_of_categories]\n",
    "\n",
    "concated = pd.concat([Debug,User_interface,Integration,Core,Document_and_text], ignore_index=True)\n",
    "#Shuffle the dataset\n",
    "concated = concated.reindex(np.random.permutation(concated.index))\n",
    "concated['LABEL'] = 0"
   ]
  },
  {
   "cell_type": "code",
   "execution_count": 7,
   "metadata": {},
   "outputs": [
    {
     "data": {
      "text/html": [
       "<div>\n",
       "<style scoped>\n",
       "    .dataframe tbody tr th:only-of-type {\n",
       "        vertical-align: middle;\n",
       "    }\n",
       "\n",
       "    .dataframe tbody tr th {\n",
       "        vertical-align: top;\n",
       "    }\n",
       "\n",
       "    .dataframe thead th {\n",
       "        text-align: right;\n",
       "    }\n",
       "</style>\n",
       "<table border=\"1\" class=\"dataframe\">\n",
       "  <thead>\n",
       "    <tr style=\"text-align: right;\">\n",
       "      <th></th>\n",
       "      <th>Text</th>\n",
       "      <th>Label</th>\n",
       "      <th>LABEL</th>\n",
       "    </tr>\n",
       "  </thead>\n",
       "  <tbody>\n",
       "    <tr>\n",
       "      <th>3835</th>\n",
       "      <td>[Undo] - Splitting up of text commands after i...</td>\n",
       "      <td>Document and text</td>\n",
       "      <td>0</td>\n",
       "    </tr>\n",
       "    <tr>\n",
       "      <th>707</th>\n",
       "      <td>OutputStreamMonitor #read method is inefficient</td>\n",
       "      <td>Debug</td>\n",
       "      <td>0</td>\n",
       "    </tr>\n",
       "    <tr>\n",
       "      <th>3644</th>\n",
       "      <td>Refactoring logs exception from JavaReconciler</td>\n",
       "      <td>Document and text</td>\n",
       "      <td>0</td>\n",
       "    </tr>\n",
       "    <tr>\n",
       "      <th>988</th>\n",
       "      <td>pde.exportPlugins ant task doesn't support cycles</td>\n",
       "      <td>User Interface</td>\n",
       "      <td>0</td>\n",
       "    </tr>\n",
       "    <tr>\n",
       "      <th>4056</th>\n",
       "      <td>[implementation][api] Sleeping scheduled synch...</td>\n",
       "      <td>Document and text</td>\n",
       "      <td>0</td>\n",
       "    </tr>\n",
       "  </tbody>\n",
       "</table>\n",
       "</div>"
      ],
      "text/plain": [
       "                                                   Text              Label  \\\n",
       "3835  [Undo] - Splitting up of text commands after i...  Document and text   \n",
       "707     OutputStreamMonitor #read method is inefficient              Debug   \n",
       "3644     Refactoring logs exception from JavaReconciler  Document and text   \n",
       "988   pde.exportPlugins ant task doesn't support cycles     User Interface   \n",
       "4056  [implementation][api] Sleeping scheduled synch...  Document and text   \n",
       "\n",
       "      LABEL  \n",
       "3835      0  \n",
       "707       0  \n",
       "3644      0  \n",
       "988       0  \n",
       "4056      0  "
      ]
     },
     "execution_count": 7,
     "metadata": {},
     "output_type": "execute_result"
    }
   ],
   "source": [
    "concated.head(5)"
   ]
  },
  {
   "cell_type": "code",
   "execution_count": 6,
   "metadata": {},
   "outputs": [
    {
     "name": "stdout",
     "output_type": "stream",
     "text": [
      "3944    4\n",
      "191     0\n",
      "2329    2\n",
      "1279    1\n",
      "2978    3\n",
      "1854    2\n",
      "4357    4\n",
      "3617    4\n",
      "2004    2\n",
      "1847    2\n",
      "Name: LABEL, dtype: int64\n",
      "[[0. 0. 0. 0. 1.]\n",
      " [1. 0. 0. 0. 0.]\n",
      " [0. 0. 1. 0. 0.]\n",
      " [0. 1. 0. 0. 0.]\n",
      " [0. 0. 0. 1. 0.]\n",
      " [0. 0. 1. 0. 0.]\n",
      " [0. 0. 0. 0. 1.]\n",
      " [0. 0. 0. 0. 1.]\n",
      " [0. 0. 1. 0. 0.]\n",
      " [0. 0. 1. 0. 0.]]\n"
     ]
    }
   ],
   "source": [
    "#One-hot encode the lab\n",
    "concated.loc[concated['Label'] == 'Debug', 'LABEL'] = 0\n",
    "concated.loc[concated['Label'] == 'User Interface', 'LABEL'] = 1\n",
    "concated.loc[concated['Label'] == 'Integration', 'LABEL'] = 2\n",
    "concated.loc[concated['Label'] == 'Core', 'LABEL'] = 3\n",
    "concated.loc[concated['Label'] == 'Document and text', 'LABEL'] = 4\n",
    "print(concated['LABEL'][:10])\n",
    "labels = to_categorical(concated['LABEL'], num_classes=5)\n",
    "print(labels[:10])\n",
    "if 'Label' in concated.keys():\n",
    "    concated.drop(['Label'], axis=1)\n",
    "    \n",
    "      "
   ]
  },
  {
   "cell_type": "code",
   "execution_count": 7,
   "metadata": {},
   "outputs": [
    {
     "name": "stderr",
     "output_type": "stream",
     "text": [
      "/snap/jupyter/6/lib/python3.7/site-packages/ipykernel_launcher.py:1: FutureWarning: The default value of regex will change from True to False in a future version.\n",
      "  \"\"\"Entry point for launching an IPython kernel.\n"
     ]
    }
   ],
   "source": [
    "concated['Text'] = concated['Text'].str.replace('\\d+', ' ')\n",
    "concated['Text'] = concated['Text'].apply(str)"
   ]
  },
  {
   "cell_type": "code",
   "execution_count": 8,
   "metadata": {},
   "outputs": [],
   "source": [
    "# preprocess our evaluation dataset\n",
    "import pandas as pd\n",
    "import numpy as np\n",
    "from textblob import TextBlob\n",
    "import re\n",
    "from nltk.corpus import stopwords\n",
    "from nltk.stem.wordnet import WordNetLemmatizer\n",
    "from numpy import savetxt\n",
    "import pickle\n",
    "\n",
    "def form_sentence(tweet):\n",
    "    tweet = re.sub(r\"(?:\\#+[\\w_]+[\\w\\'_\\-]*[\\w_]+)\", '', tweet)\n",
    "    tweet = re.sub(r'<[^>]+>', '', tweet)\n",
    "    tweet = re.sub(r'http[s]?://(?:[a-z]|[0-9]|[$-_@.&+]|[!*\\(\\),]|(?:%[0-9a-f][0-9a-f]))+', '', tweet)\n",
    "    tweet_blob = TextBlob(tweet)\n",
    "    return ' '.join(tweet_blob.words)\n",
    "\n",
    "\n",
    "def no_user_alpha(tweet):\n",
    "    tweet_list = [ele for ele in tweet.split() if ele != 'user']\n",
    "    clean_tokens = [t for t in tweet_list if re.match(r'[^\\W\\d]*$', t)]\n",
    "    clean_s = ' '.join(clean_tokens)\n",
    "    clean_mess = [word for word in clean_s.split() if word.lower() not in stopwords.words('english')]\n",
    "    return clean_mess\n",
    "\n",
    "\n",
    "def normalization(tweet_list):\n",
    "    lem = WordNetLemmatizer()\n",
    "    normalized_tweet = []\n",
    "    for word in tweet_list:\n",
    "        normalized_text = lem.lemmatize(word, 'v')\n",
    "        normalized_tweet.append(normalized_text)\n",
    "    return normalized_tweet\n",
    "\n",
    "\n",
    "Final_words_train = [] \n",
    "\n",
    "\n",
    "\n",
    "for data in concated['Text']:\n",
    "    filtered = normalization(no_user_alpha(form_sentence(data)))\n",
    "    word_Final = ' '.join(filtered)\n",
    "    Final_words_train.append(word_Final)\n",
    "    \n",
    "\n",
    "\n",
    "# store preprocessed data to new dataframe called final_bodyTrain    \n",
    "    \n",
    "final_body_train = pd.DataFrame(Final_words_train, columns=['text'])"
   ]
  },
  {
   "cell_type": "code",
   "execution_count": 31,
   "metadata": {
    "collapsed": true
   },
   "outputs": [
    {
     "ename": "ValueError",
     "evalue": "The number of FixedLocator locations (20), usually from a call to set_ticks, does not match the number of ticklabels (3400).",
     "output_type": "error",
     "traceback": [
      "\u001b[0;31m---------------------------------------------------------------------------\u001b[0m",
      "\u001b[0;31mValueError\u001b[0m                                Traceback (most recent call last)",
      "\u001b[0;32m<ipython-input-31-746c45748961>\u001b[0m in \u001b[0;36m<module>\u001b[0;34m\u001b[0m\n\u001b[1;32m     14\u001b[0m \u001b[0mplt\u001b[0m\u001b[0;34m.\u001b[0m\u001b[0mbarh\u001b[0m\u001b[0;34m(\u001b[0m\u001b[0mx\u001b[0m\u001b[0;34m,\u001b[0m\u001b[0mtopchi2\u001b[0m\u001b[0;34m[\u001b[0m\u001b[0;36m1\u001b[0m\u001b[0;34m]\u001b[0m\u001b[0;34m,\u001b[0m \u001b[0malign\u001b[0m\u001b[0;34m=\u001b[0m\u001b[0;34m'center'\u001b[0m\u001b[0;34m,\u001b[0m \u001b[0malpha\u001b[0m\u001b[0;34m=\u001b[0m\u001b[0;36m0.5\u001b[0m\u001b[0;34m)\u001b[0m\u001b[0;34m\u001b[0m\u001b[0;34m\u001b[0m\u001b[0m\n\u001b[1;32m     15\u001b[0m \u001b[0mplt\u001b[0m\u001b[0;34m.\u001b[0m\u001b[0mplot\u001b[0m\u001b[0;34m(\u001b[0m\u001b[0mtopchi2\u001b[0m\u001b[0;34m[\u001b[0m\u001b[0;36m1\u001b[0m\u001b[0;34m]\u001b[0m\u001b[0;34m,\u001b[0m \u001b[0mx\u001b[0m\u001b[0;34m,\u001b[0m \u001b[0;34m'-o'\u001b[0m\u001b[0;34m,\u001b[0m \u001b[0mmarkersize\u001b[0m\u001b[0;34m=\u001b[0m\u001b[0;36m5\u001b[0m\u001b[0;34m,\u001b[0m \u001b[0malpha\u001b[0m\u001b[0;34m=\u001b[0m\u001b[0;36m0.8\u001b[0m\u001b[0;34m)\u001b[0m\u001b[0;34m\u001b[0m\u001b[0;34m\u001b[0m\u001b[0m\n\u001b[0;32m---> 16\u001b[0;31m \u001b[0mplt\u001b[0m\u001b[0;34m.\u001b[0m\u001b[0myticks\u001b[0m\u001b[0;34m(\u001b[0m\u001b[0mx\u001b[0m\u001b[0;34m,\u001b[0m \u001b[0mlabels\u001b[0m\u001b[0;34m)\u001b[0m\u001b[0;34m\u001b[0m\u001b[0;34m\u001b[0m\u001b[0m\n\u001b[0m\u001b[1;32m     17\u001b[0m \u001b[0mplt\u001b[0m\u001b[0;34m.\u001b[0m\u001b[0mxlabel\u001b[0m\u001b[0;34m(\u001b[0m\u001b[0;34m'value'\u001b[0m\u001b[0;34m)\u001b[0m\u001b[0;34m\u001b[0m\u001b[0;34m\u001b[0m\u001b[0m\n\u001b[1;32m     18\u001b[0m \u001b[0mplt\u001b[0m\u001b[0;34m.\u001b[0m\u001b[0mshow\u001b[0m\u001b[0;34m(\u001b[0m\u001b[0;34m)\u001b[0m\u001b[0;34m;\u001b[0m\u001b[0;34m\u001b[0m\u001b[0;34m\u001b[0m\u001b[0m\n",
      "\u001b[0;32m/home/charun/snap/jupyter/common/lib/python3.7/site-packages/matplotlib/pyplot.py\u001b[0m in \u001b[0;36myticks\u001b[0;34m(ticks, labels, **kwargs)\u001b[0m\n\u001b[1;32m   1841\u001b[0m         \u001b[0mlabels\u001b[0m \u001b[0;34m=\u001b[0m \u001b[0max\u001b[0m\u001b[0;34m.\u001b[0m\u001b[0mget_yticklabels\u001b[0m\u001b[0;34m(\u001b[0m\u001b[0;34m)\u001b[0m\u001b[0;34m\u001b[0m\u001b[0;34m\u001b[0m\u001b[0m\n\u001b[1;32m   1842\u001b[0m     \u001b[0;32melse\u001b[0m\u001b[0;34m:\u001b[0m\u001b[0;34m\u001b[0m\u001b[0;34m\u001b[0m\u001b[0m\n\u001b[0;32m-> 1843\u001b[0;31m         \u001b[0mlabels\u001b[0m \u001b[0;34m=\u001b[0m \u001b[0max\u001b[0m\u001b[0;34m.\u001b[0m\u001b[0mset_yticklabels\u001b[0m\u001b[0;34m(\u001b[0m\u001b[0mlabels\u001b[0m\u001b[0;34m,\u001b[0m \u001b[0;34m**\u001b[0m\u001b[0mkwargs\u001b[0m\u001b[0;34m)\u001b[0m\u001b[0;34m\u001b[0m\u001b[0;34m\u001b[0m\u001b[0m\n\u001b[0m\u001b[1;32m   1844\u001b[0m     \u001b[0;32mfor\u001b[0m \u001b[0ml\u001b[0m \u001b[0;32min\u001b[0m \u001b[0mlabels\u001b[0m\u001b[0;34m:\u001b[0m\u001b[0;34m\u001b[0m\u001b[0;34m\u001b[0m\u001b[0m\n\u001b[1;32m   1845\u001b[0m         \u001b[0ml\u001b[0m\u001b[0;34m.\u001b[0m\u001b[0mupdate\u001b[0m\u001b[0;34m(\u001b[0m\u001b[0mkwargs\u001b[0m\u001b[0;34m)\u001b[0m\u001b[0;34m\u001b[0m\u001b[0;34m\u001b[0m\u001b[0m\n",
      "\u001b[0;32m/home/charun/snap/jupyter/common/lib/python3.7/site-packages/matplotlib/axes/_base.py\u001b[0m in \u001b[0;36mwrapper\u001b[0;34m(self, *args, **kwargs)\u001b[0m\n\u001b[1;32m     71\u001b[0m \u001b[0;34m\u001b[0m\u001b[0m\n\u001b[1;32m     72\u001b[0m         \u001b[0;32mdef\u001b[0m \u001b[0mwrapper\u001b[0m\u001b[0;34m(\u001b[0m\u001b[0mself\u001b[0m\u001b[0;34m,\u001b[0m \u001b[0;34m*\u001b[0m\u001b[0margs\u001b[0m\u001b[0;34m,\u001b[0m \u001b[0;34m**\u001b[0m\u001b[0mkwargs\u001b[0m\u001b[0;34m)\u001b[0m\u001b[0;34m:\u001b[0m\u001b[0;34m\u001b[0m\u001b[0;34m\u001b[0m\u001b[0m\n\u001b[0;32m---> 73\u001b[0;31m             \u001b[0;32mreturn\u001b[0m \u001b[0mget_method\u001b[0m\u001b[0;34m(\u001b[0m\u001b[0mself\u001b[0m\u001b[0;34m)\u001b[0m\u001b[0;34m(\u001b[0m\u001b[0;34m*\u001b[0m\u001b[0margs\u001b[0m\u001b[0;34m,\u001b[0m \u001b[0;34m**\u001b[0m\u001b[0mkwargs\u001b[0m\u001b[0;34m)\u001b[0m\u001b[0;34m\u001b[0m\u001b[0;34m\u001b[0m\u001b[0m\n\u001b[0m\u001b[1;32m     74\u001b[0m \u001b[0;34m\u001b[0m\u001b[0m\n\u001b[1;32m     75\u001b[0m         \u001b[0mwrapper\u001b[0m\u001b[0;34m.\u001b[0m\u001b[0m__module__\u001b[0m \u001b[0;34m=\u001b[0m \u001b[0mowner\u001b[0m\u001b[0;34m.\u001b[0m\u001b[0m__module__\u001b[0m\u001b[0;34m\u001b[0m\u001b[0;34m\u001b[0m\u001b[0m\n",
      "\u001b[0;32m/home/charun/snap/jupyter/common/lib/python3.7/site-packages/matplotlib/_api/deprecation.py\u001b[0m in \u001b[0;36mwrapper\u001b[0;34m(*args, **kwargs)\u001b[0m\n\u001b[1;32m    469\u001b[0m                 \u001b[0;34m\"parameter will become keyword-only %(removal)s.\"\u001b[0m\u001b[0;34m,\u001b[0m\u001b[0;34m\u001b[0m\u001b[0;34m\u001b[0m\u001b[0m\n\u001b[1;32m    470\u001b[0m                 name=name, obj_type=f\"parameter of {func.__name__}()\")\n\u001b[0;32m--> 471\u001b[0;31m         \u001b[0;32mreturn\u001b[0m \u001b[0mfunc\u001b[0m\u001b[0;34m(\u001b[0m\u001b[0;34m*\u001b[0m\u001b[0margs\u001b[0m\u001b[0;34m,\u001b[0m \u001b[0;34m**\u001b[0m\u001b[0mkwargs\u001b[0m\u001b[0;34m)\u001b[0m\u001b[0;34m\u001b[0m\u001b[0;34m\u001b[0m\u001b[0m\n\u001b[0m\u001b[1;32m    472\u001b[0m \u001b[0;34m\u001b[0m\u001b[0m\n\u001b[1;32m    473\u001b[0m     \u001b[0;32mreturn\u001b[0m \u001b[0mwrapper\u001b[0m\u001b[0;34m\u001b[0m\u001b[0;34m\u001b[0m\u001b[0m\n",
      "\u001b[0;32m/home/charun/snap/jupyter/common/lib/python3.7/site-packages/matplotlib/axis.py\u001b[0m in \u001b[0;36m_set_ticklabels\u001b[0;34m(self, labels, fontdict, minor, **kwargs)\u001b[0m\n\u001b[1;32m   1777\u001b[0m         \u001b[0;32mif\u001b[0m \u001b[0mfontdict\u001b[0m \u001b[0;32mis\u001b[0m \u001b[0;32mnot\u001b[0m \u001b[0;32mNone\u001b[0m\u001b[0;34m:\u001b[0m\u001b[0;34m\u001b[0m\u001b[0;34m\u001b[0m\u001b[0m\n\u001b[1;32m   1778\u001b[0m             \u001b[0mkwargs\u001b[0m\u001b[0;34m.\u001b[0m\u001b[0mupdate\u001b[0m\u001b[0;34m(\u001b[0m\u001b[0mfontdict\u001b[0m\u001b[0;34m)\u001b[0m\u001b[0;34m\u001b[0m\u001b[0;34m\u001b[0m\u001b[0m\n\u001b[0;32m-> 1779\u001b[0;31m         \u001b[0;32mreturn\u001b[0m \u001b[0mself\u001b[0m\u001b[0;34m.\u001b[0m\u001b[0mset_ticklabels\u001b[0m\u001b[0;34m(\u001b[0m\u001b[0mlabels\u001b[0m\u001b[0;34m,\u001b[0m \u001b[0mminor\u001b[0m\u001b[0;34m=\u001b[0m\u001b[0mminor\u001b[0m\u001b[0;34m,\u001b[0m \u001b[0;34m**\u001b[0m\u001b[0mkwargs\u001b[0m\u001b[0;34m)\u001b[0m\u001b[0;34m\u001b[0m\u001b[0;34m\u001b[0m\u001b[0m\n\u001b[0m\u001b[1;32m   1780\u001b[0m \u001b[0;34m\u001b[0m\u001b[0m\n\u001b[1;32m   1781\u001b[0m     \u001b[0;32mdef\u001b[0m \u001b[0mset_ticks\u001b[0m\u001b[0;34m(\u001b[0m\u001b[0mself\u001b[0m\u001b[0;34m,\u001b[0m \u001b[0mticks\u001b[0m\u001b[0;34m,\u001b[0m \u001b[0;34m*\u001b[0m\u001b[0;34m,\u001b[0m \u001b[0mminor\u001b[0m\u001b[0;34m=\u001b[0m\u001b[0;32mFalse\u001b[0m\u001b[0;34m)\u001b[0m\u001b[0;34m:\u001b[0m\u001b[0;34m\u001b[0m\u001b[0;34m\u001b[0m\u001b[0m\n",
      "\u001b[0;32m/home/charun/snap/jupyter/common/lib/python3.7/site-packages/matplotlib/axis.py\u001b[0m in \u001b[0;36mset_ticklabels\u001b[0;34m(self, ticklabels, minor, **kwargs)\u001b[0m\n\u001b[1;32m   1699\u001b[0m             \u001b[0;32mif\u001b[0m \u001b[0mlen\u001b[0m\u001b[0;34m(\u001b[0m\u001b[0mlocator\u001b[0m\u001b[0;34m.\u001b[0m\u001b[0mlocs\u001b[0m\u001b[0;34m)\u001b[0m \u001b[0;34m!=\u001b[0m \u001b[0mlen\u001b[0m\u001b[0;34m(\u001b[0m\u001b[0mticklabels\u001b[0m\u001b[0;34m)\u001b[0m \u001b[0;32mand\u001b[0m \u001b[0mlen\u001b[0m\u001b[0;34m(\u001b[0m\u001b[0mticklabels\u001b[0m\u001b[0;34m)\u001b[0m \u001b[0;34m!=\u001b[0m \u001b[0;36m0\u001b[0m\u001b[0;34m:\u001b[0m\u001b[0;34m\u001b[0m\u001b[0;34m\u001b[0m\u001b[0m\n\u001b[1;32m   1700\u001b[0m                 raise ValueError(\n\u001b[0;32m-> 1701\u001b[0;31m                     \u001b[0;34m\"The number of FixedLocator locations\"\u001b[0m\u001b[0;34m\u001b[0m\u001b[0;34m\u001b[0m\u001b[0m\n\u001b[0m\u001b[1;32m   1702\u001b[0m                     \u001b[0;34mf\" ({len(locator.locs)}), usually from a call to\"\u001b[0m\u001b[0;34m\u001b[0m\u001b[0;34m\u001b[0m\u001b[0m\n\u001b[1;32m   1703\u001b[0m                     \u001b[0;34m\" set_ticks, does not match\"\u001b[0m\u001b[0;34m\u001b[0m\u001b[0;34m\u001b[0m\u001b[0m\n",
      "\u001b[0;31mValueError\u001b[0m: The number of FixedLocator locations (20), usually from a call to set_ticks, does not match the number of ticklabels (3400)."
     ]
    },
    {
     "data": {
      "image/png": "[encoded data removed]",
      "text/plain": [
       "<Figure size 1152x576 with 1 Axes>"
      ]
     },
     "metadata": {
      "needs_background": "light"
     },
     "output_type": "display_data"
    }
   ],
   "source": [
    "from sklearn.feature_selection import chi2\n",
    "tfidf = TfidfVectorizer(max_features=30000,ngram_range=(1, 3))\n",
    "X_tfidf = tfidf.fit_transform(concated['Text'])\n",
    "y = concated.LABEL\n",
    "chi2score = chi2(X_tfidf, y)[0]\n",
    "\n",
    "\n",
    "plt.figure(figsize=(16,8))\n",
    "scores = list(zip(tfidf.get_feature_names(), chi2score))\n",
    "chi2 = sorted(scores, key=lambda x:x[1])\n",
    "topchi2 = list(zip(*chi2[-20:]))\n",
    "x = range(len(topchi2[1]))\n",
    "labels_ = topchi2[0]\n",
    "plt.barh(x,topchi2[1], align='center', alpha=0.5)\n",
    "plt.plot(topchi2[1], x, '-o', markersize=5, alpha=0.8)\n",
    "plt.yticks(x, labels)\n",
    "plt.xlabel('value')\n",
    "plt.show();"
   ]
  },
  {
   "cell_type": "code",
   "execution_count": 20,
   "metadata": {},
   "outputs": [],
   "source": [
    "feature_set = []\n",
    "\n",
    "for i in range(0, len(chi2)):\n",
    "    if chi2[i][1] < 0.25:\n",
    "        feature_set.append(chi2[i][0])\n",
    "    "
   ]
  },
  {
   "cell_type": "code",
   "execution_count": 21,
   "metadata": {},
   "outputs": [],
   "source": [
    "# then we remove the words of the feature_list from our original dataset. we replace those words with a space.\n",
    "# so the words with less than 0.5 score are removed from the dataset\n",
    "for data in concated['Text']:\n",
    "    for feature in feature_set:\n",
    "        if feature in data:\n",
    "            concated['Text'] = concated['Text'].replace(feature, ' ')"
   ]
  },
  {
   "cell_type": "code",
   "execution_count": 9,
   "metadata": {},
   "outputs": [
    {
     "name": "stderr",
     "output_type": "stream",
     "text": [
      "400000it [00:17, 23400.60it/s]\n",
      "100%|██████████| 3391/3391 [00:00<00:00, 357170.46it/s]\n"
     ]
    }
   ],
   "source": [
    "token = Tokenizer()\n",
    "token.fit_on_texts(final_body_train['text'])\n",
    "\n",
    "#integer encode the documents\n",
    "seq = token.texts_to_sequences(final_body_train['text'])\n",
    "\n",
    "# pad the document\n",
    "\n",
    "max_length = 100\n",
    "pad_seq = pad_sequences(seq, maxlen=max_length, padding='post')\n",
    "\n",
    "#test set\n",
    "\n",
    "#test_data = token.texts_to_sequences(final_bodyTest['body'])\n",
    "#testing_seq = pad_sequences(test_data, maxlen = max_length, padding= 'post')\n",
    "\n",
    "\n",
    "vocab_size = len(token.word_index) +1\n",
    "\n",
    "#load the embedding layer\n",
    "\n",
    "embedding_vector = {}\n",
    "\n",
    "f = open('/home/charun/Documents/Projects/text_research/glove.6B/glove.6B.100d.txt')\n",
    " \n",
    "for line in tqdm(f):\n",
    "  value = line.split(' ')\n",
    "  word = value[0]\n",
    "  coef = np.array(value[1:], dtype = 'float32')\n",
    "  embedding_vector[word] = coef\n",
    "\n",
    "\n",
    "# create a weight matrix for words in training docs\n",
    "embedding_matrix = np.zeros((vocab_size, 100))\n",
    "for word,i in tqdm(token.word_index.items()):\n",
    "    embedding_value = embedding_vector.get(word)\n",
    "    if embedding_value is not None:\n",
    "        embedding_matrix[i] = embedding_value\n"
   ]
  },
  {
   "cell_type": "code",
   "execution_count": 69,
   "metadata": {},
   "outputs": [
    {
     "name": "stdout",
     "output_type": "stream",
     "text": [
      "Found 4671 unique tokens.\n"
     ]
    }
   ],
   "source": [
    "n_most_common_words = 8000\n",
    "max_len = 130\n",
    "tokenizer = Tokenizer(num_words=n_most_common_words, filters='!\"#$%&()*+,-./:;<=>?@[\\]^_`{|}~', lower=True)\n",
    "tokenizer.fit_on_texts(concated['Text'].values)\n",
    "sequences = tokenizer.texts_to_sequences(concated['Text'].values)\n",
    "word_index = tokenizer.word_index\n",
    "print('Found %s unique tokens.' % len(word_index))\n",
    "\n",
    "X = pad_sequences(sequences, maxlen=max_len)"
   ]
  },
  {
   "cell_type": "code",
   "execution_count": 11,
   "metadata": {},
   "outputs": [],
   "source": [
    "# split the dataset in to train and test data\n",
    "X_train, X_test, y_train, y_test = train_test_split(pad_seq , labels, test_size=0.3, random_state=42)"
   ]
  },
  {
   "cell_type": "code",
   "execution_count": 12,
   "metadata": {},
   "outputs": [],
   "source": [
    "import matplotlib.pyplot as plt\n",
    "import time\n",
    "import tensorflow as tf\n",
    "from sklearn.metrics import accuracy_score,precision_score, recall_score,f1_score,roc_auc_score,roc_curve\n",
    "from tensorflow.keras.preprocessing.text import Tokenizer\n",
    "from tensorflow.keras.preprocessing.sequence import pad_sequences\n",
    "from tensorflow.keras.layers import Dense, Embedding, Bidirectional, LSTM, Dropout\n",
    "from tensorflow.keras.callbacks import Callback\n",
    "from tensorflow.keras import regularizers\n",
    "from tensorflow.keras.models import Sequential\n",
    "import matplotlib.pyplot as plt\n",
    "import pickle\n",
    "from tensorflow.keras.callbacks import EarlyStopping"
   ]
  },
  {
   "cell_type": "code",
   "execution_count": 23,
   "metadata": {},
   "outputs": [
    {
     "name": "stdout",
     "output_type": "stream",
     "text": [
      "Epoch 1/250\n",
      "17/17 [==============================] - 9s 323ms/step - loss: 1.7643 - accuracy: 0.8000 - precision: 0.0000e+00 - recall: 0.0000e+00 - val_loss: 1.7320 - val_accuracy: 0.8000 - val_precision: 0.0000e+00 - val_recall: 0.0000e+00\n",
      "Epoch 2/250\n",
      "17/17 [==============================] - 5s 276ms/step - loss: 1.7208 - accuracy: 0.8000 - precision: 0.0000e+00 - recall: 0.0000e+00 - val_loss: 1.6919 - val_accuracy: 0.8000 - val_precision: 0.0000e+00 - val_recall: 0.0000e+00\n",
      "Epoch 3/250\n",
      "17/17 [==============================] - 5s 274ms/step - loss: 1.6889 - accuracy: 0.8001 - precision: 0.3889 - recall: 2.8592e-04 - val_loss: 1.6513 - val_accuracy: 0.8000 - val_precision: 0.0000e+00 - val_recall: 0.0000e+00\n",
      "Epoch 4/250\n",
      "17/17 [==============================] - 5s 268ms/step - loss: 1.6401 - accuracy: 0.8012 - precision: 0.9352 - recall: 0.0060 - val_loss: 1.6086 - val_accuracy: 0.8002 - val_precision: 1.0000 - val_recall: 0.0011\n",
      "Epoch 5/250\n",
      "17/17 [==============================] - 5s 298ms/step - loss: 1.6062 - accuracy: 0.8035 - precision: 1.0000 - recall: 0.0173 - val_loss: 1.5774 - val_accuracy: 0.8032 - val_precision: 1.0000 - val_recall: 0.0161\n",
      "Epoch 6/250\n",
      "17/17 [==============================] - 5s 271ms/step - loss: 1.5761 - accuracy: 0.8050 - precision: 0.9304 - recall: 0.0272 - val_loss: 1.5541 - val_accuracy: 0.8066 - val_precision: 1.0000 - val_recall: 0.0332\n",
      "Epoch 7/250\n",
      "17/17 [==============================] - 5s 270ms/step - loss: 1.5571 - accuracy: 0.8060 - precision: 0.7793 - recall: 0.0422 - val_loss: 1.5367 - val_accuracy: 0.8077 - val_precision: 1.0000 - val_recall: 0.0386\n",
      "Epoch 8/250\n",
      "17/17 [==============================] - 5s 276ms/step - loss: 1.5319 - accuracy: 0.8086 - precision: 0.8265 - recall: 0.0542 - val_loss: 1.5180 - val_accuracy: 0.8090 - val_precision: 0.9773 - val_recall: 0.0461\n",
      "Epoch 9/250\n",
      "17/17 [==============================] - 6s 342ms/step - loss: 1.5005 - accuracy: 0.8092 - precision: 0.8845 - recall: 0.0533 - val_loss: 1.4980 - val_accuracy: 0.8092 - val_precision: 0.9778 - val_recall: 0.0472\n",
      "Epoch 10/250\n",
      "17/17 [==============================] - 5s 310ms/step - loss: 1.5020 - accuracy: 0.8079 - precision: 0.8594 - recall: 0.0471 - val_loss: 1.4783 - val_accuracy: 0.8105 - val_precision: 0.9623 - val_recall: 0.0547\n",
      "Epoch 11/250\n",
      "17/17 [==============================] - 5s 290ms/step - loss: 1.5063 - accuracy: 0.8064 - precision: 0.7198 - recall: 0.0527 - val_loss: 1.4727 - val_accuracy: 0.8101 - val_precision: 0.9434 - val_recall: 0.0536\n",
      "Epoch 12/250\n",
      "17/17 [==============================] - 5s 290ms/step - loss: 1.4625 - accuracy: 0.8103 - precision: 0.8267 - recall: 0.0654 - val_loss: 1.4568 - val_accuracy: 0.8101 - val_precision: 0.9434 - val_recall: 0.0536\n",
      "Epoch 13/250\n",
      "17/17 [==============================] - 5s 286ms/step - loss: 1.4700 - accuracy: 0.8091 - precision: 0.8599 - recall: 0.0545 - val_loss: 1.4431 - val_accuracy: 0.8114 - val_precision: 0.9344 - val_recall: 0.0611\n",
      "Epoch 14/250\n",
      "17/17 [==============================] - 5s 279ms/step - loss: 1.4688 - accuracy: 0.8102 - precision: 0.7836 - recall: 0.0708 - val_loss: 1.4386 - val_accuracy: 0.8114 - val_precision: 0.9206 - val_recall: 0.0622\n",
      "Epoch 15/250\n",
      "17/17 [==============================] - 5s 296ms/step - loss: 1.4552 - accuracy: 0.8111 - precision: 0.8384 - recall: 0.0686 - val_loss: 1.4286 - val_accuracy: 0.8126 - val_precision: 0.9041 - val_recall: 0.0707\n",
      "Epoch 16/250\n",
      "17/17 [==============================] - 5s 275ms/step - loss: 1.4343 - accuracy: 0.8115 - precision: 0.7672 - recall: 0.0830 - val_loss: 1.4219 - val_accuracy: 0.8124 - val_precision: 0.9265 - val_recall: 0.0675\n",
      "Epoch 17/250\n",
      "17/17 [==============================] - 5s 276ms/step - loss: 1.4412 - accuracy: 0.8124 - precision: 0.8176 - recall: 0.0796 - val_loss: 1.4032 - val_accuracy: 0.8124 - val_precision: 0.9394 - val_recall: 0.0665\n",
      "Epoch 18/250\n",
      "17/17 [==============================] - 5s 276ms/step - loss: 1.4296 - accuracy: 0.8123 - precision: 0.8105 - recall: 0.0802 - val_loss: 1.3972 - val_accuracy: 0.8124 - val_precision: 0.9394 - val_recall: 0.0665\n",
      "Epoch 19/250\n",
      "17/17 [==============================] - 5s 277ms/step - loss: 1.4364 - accuracy: 0.8141 - precision: 0.8250 - recall: 0.0894 - val_loss: 1.3909 - val_accuracy: 0.8129 - val_precision: 0.9412 - val_recall: 0.0686\n",
      "Epoch 20/250\n",
      "17/17 [==============================] - 5s 276ms/step - loss: 1.4198 - accuracy: 0.8160 - precision: 0.8350 - recall: 0.1006 - val_loss: 1.3855 - val_accuracy: 0.8146 - val_precision: 0.9474 - val_recall: 0.0772\n",
      "Epoch 21/250\n",
      "17/17 [==============================] - 5s 278ms/step - loss: 1.4015 - accuracy: 0.8168 - precision: 0.7983 - recall: 0.1123 - val_loss: 1.3716 - val_accuracy: 0.8189 - val_precision: 0.8929 - val_recall: 0.1072\n",
      "Epoch 22/250\n",
      "17/17 [==============================] - 5s 277ms/step - loss: 1.4020 - accuracy: 0.8162 - precision: 0.7500 - recall: 0.1215 - val_loss: 1.3617 - val_accuracy: 0.8163 - val_precision: 0.9222 - val_recall: 0.0890\n",
      "Epoch 23/250\n",
      "17/17 [==============================] - 5s 278ms/step - loss: 1.3972 - accuracy: 0.8157 - precision: 0.7233 - recall: 0.1271 - val_loss: 1.3741 - val_accuracy: 0.8161 - val_precision: 0.9412 - val_recall: 0.0857\n"
     ]
    }
   ],
   "source": [
    "callback = EarlyStopping(monitor='val_loss')\n",
    "#define the model\n",
    "\n",
    "model = Sequential()\n",
    "model.add(Embedding(vocab_size, 100, weights = [embedding_matrix], input_length=max_length, trainable=False))\n",
    "model.add(Bidirectional(LSTM(100, dropout=0.5)))\n",
    "model.add(Dense(8, activation='relu',kernel_regularizer=regularizers.l2(0.01)))\n",
    "model.add(Dropout(0.5))\n",
    "model.add(Dense(5,activation = 'softmax'))\n",
    "\n",
    "model.compile(\n",
    "    optimizer = 'adam',\n",
    "    loss = 'categorical_crossentropy',\n",
    "    #metrics = [tf.keras.metrics.Accuracy(), tf.keras.metrics.Precision(), tf.keras.metrics.Recall()]\n",
    "    metrics = [tf.keras.metrics.BinaryAccuracy(name='accuracy'),\n",
    "               tf.keras.metrics.Precision(name='precision'),\n",
    "               tf.keras.metrics.Recall(name='recall')]\n",
    ")\n",
    "\n",
    "#path = '/content/drive/My Drive/Covid-19 research/patients_data/logs/fit/'\n",
    "#tensorboard_callback = tf.keras.callbacks.TensorBoard(log_dir=path, histogram_freq=1)\n",
    "\n",
    "history = model.fit(\n",
    "    X_train, y_train, \n",
    "    batch_size = 128,\n",
    "    epochs = 250,\n",
    "    validation_split = 0.30,\n",
    "    \n",
    "    callbacks = [callback]\n",
    ")\n",
    "\n",
    "\n",
    "\n",
    "model.save(f'/home/charun/Documents/Projects/text_research/testing_model.h5')"
   ]
  },
  {
   "cell_type": "code",
   "execution_count": 13,
   "metadata": {
    "collapsed": true
   },
   "outputs": [
    {
     "name": "stdout",
     "output_type": "stream",
     "text": [
      "((2380, 130), (2380, 5), (1020, 130), (1020, 5))\n",
      "Model: \"sequential_1\"\n",
      "_________________________________________________________________\n",
      "Layer (type)                 Output Shape              Param #   \n",
      "=================================================================\n",
      "embedding_1 (Embedding)      (None, 130, 128)          1024000   \n",
      "_________________________________________________________________\n",
      "spatial_dropout1d_1 (Spatial (None, 130, 128)          0         \n",
      "_________________________________________________________________\n",
      "lstm_1 (LSTM)                (None, 64)                49408     \n",
      "_________________________________________________________________\n",
      "dense_1 (Dense)              (None, 5)                 325       \n",
      "=================================================================\n",
      "Total params: 1,073,733\n",
      "Trainable params: 1,073,733\n",
      "Non-trainable params: 0\n",
      "_________________________________________________________________\n",
      "None\n",
      "Epoch 1/50\n",
      "15/15 [==============================] - 6s 260ms/step - loss: 1.6094 - accuracy: 0.8000 - precision_1: 0.0000e+00 - recall_1: 0.0000e+00 - val_loss: 1.6057 - val_accuracy: 0.8000 - val_precision_1: 0.0000e+00 - val_recall_1: 0.0000e+00\n",
      "Epoch 2/50\n",
      "15/15 [==============================] - 3s 225ms/step - loss: 1.5995 - accuracy: 0.8000 - precision_1: 0.0000e+00 - recall_1: 0.0000e+00 - val_loss: 1.6000 - val_accuracy: 0.8000 - val_precision_1: 0.0000e+00 - val_recall_1: 0.0000e+00\n",
      "Epoch 3/50\n",
      "15/15 [==============================] - 3s 230ms/step - loss: 1.5920 - accuracy: 0.8000 - precision_1: 0.0000e+00 - recall_1: 0.0000e+00 - val_loss: 1.5894 - val_accuracy: 0.8000 - val_precision_1: 0.0000e+00 - val_recall_1: 0.0000e+00\n",
      "Epoch 4/50\n",
      "15/15 [==============================] - 3s 227ms/step - loss: 1.5713 - accuracy: 0.8000 - precision_1: 0.0000e+00 - recall_1: 0.0000e+00 - val_loss: 1.5700 - val_accuracy: 0.8000 - val_precision_1: 0.0000e+00 - val_recall_1: 0.0000e+00\n",
      "Epoch 5/50\n",
      "15/15 [==============================] - 3s 228ms/step - loss: 1.5457 - accuracy: 0.8000 - precision_1: 0.0000e+00 - recall_1: 0.0000e+00 - val_loss: 1.5396 - val_accuracy: 0.8000 - val_precision_1: 0.0000e+00 - val_recall_1: 0.0000e+00\n",
      "Epoch 6/50\n",
      "15/15 [==============================] - 3s 231ms/step - loss: 1.5051 - accuracy: 0.8000 - precision_1: 0.3479 - recall_1: 8.8382e-04 - val_loss: 1.4892 - val_accuracy: 0.8000 - val_precision_1: 0.0000e+00 - val_recall_1: 0.0000e+00\n",
      "Epoch 7/50\n",
      "15/15 [==============================] - 3s 230ms/step - loss: 1.4399 - accuracy: 0.8002 - precision_1: 0.5751 - recall_1: 0.0045 - val_loss: 1.4201 - val_accuracy: 0.8000 - val_precision_1: 0.0000e+00 - val_recall_1: 0.0000e+00\n",
      "Epoch 8/50\n",
      "15/15 [==============================] - 3s 233ms/step - loss: 1.3411 - accuracy: 0.8041 - precision_1: 0.7684 - recall_1: 0.0300 - val_loss: 1.3074 - val_accuracy: 0.8130 - val_precision_1: 0.9697 - val_recall_1: 0.0672\n",
      "Epoch 9/50\n",
      "15/15 [==============================] - 3s 232ms/step - loss: 1.2359 - accuracy: 0.8248 - precision_1: 0.8710 - recall_1: 0.1466 - val_loss: 1.2186 - val_accuracy: 0.8252 - val_precision_1: 0.9545 - val_recall_1: 0.1324\n",
      "Epoch 10/50\n",
      "15/15 [==============================] - 4s 234ms/step - loss: 1.1029 - accuracy: 0.8417 - precision_1: 0.8727 - recall_1: 0.2457 - val_loss: 1.0912 - val_accuracy: 0.8534 - val_precision_1: 0.8396 - val_recall_1: 0.3298\n",
      "Epoch 11/50\n",
      "15/15 [==============================] - 4s 242ms/step - loss: 0.9868 - accuracy: 0.8634 - precision_1: 0.8311 - recall_1: 0.3976 - val_loss: 1.0218 - val_accuracy: 0.8639 - val_precision_1: 0.8276 - val_recall_1: 0.4034\n",
      "Epoch 12/50\n",
      "15/15 [==============================] - 4s 235ms/step - loss: 0.8747 - accuracy: 0.8803 - precision_1: 0.8381 - recall_1: 0.4977 - val_loss: 0.9775 - val_accuracy: 0.8689 - val_precision_1: 0.8130 - val_recall_1: 0.4475\n",
      "Epoch 13/50\n",
      "15/15 [==============================] - 4s 236ms/step - loss: 0.7878 - accuracy: 0.8918 - precision_1: 0.8648 - recall_1: 0.5442 - val_loss: 0.9510 - val_accuracy: 0.8714 - val_precision_1: 0.7931 - val_recall_1: 0.4832\n",
      "Epoch 14/50\n",
      "15/15 [==============================] - 4s 236ms/step - loss: 0.7024 - accuracy: 0.9052 - precision_1: 0.8661 - recall_1: 0.6221 - val_loss: 0.9262 - val_accuracy: 0.8723 - val_precision_1: 0.7739 - val_recall_1: 0.5105\n",
      "Epoch 15/50\n",
      "15/15 [==============================] - 4s 237ms/step - loss: 0.6248 - accuracy: 0.9150 - precision_1: 0.8752 - recall_1: 0.6704 - val_loss: 0.9086 - val_accuracy: 0.8748 - val_precision_1: 0.7799 - val_recall_1: 0.5210\n",
      "Epoch 16/50\n",
      "15/15 [==============================] - 4s 245ms/step - loss: 0.6001 - accuracy: 0.9163 - precision_1: 0.8709 - recall_1: 0.6829 - val_loss: 0.8957 - val_accuracy: 0.8773 - val_precision_1: 0.7771 - val_recall_1: 0.5420\n",
      "Epoch 17/50\n",
      "15/15 [==============================] - 4s 238ms/step - loss: 0.5727 - accuracy: 0.9239 - precision_1: 0.8878 - recall_1: 0.7095 - val_loss: 0.9033 - val_accuracy: 0.8777 - val_precision_1: 0.7729 - val_recall_1: 0.5504\n",
      "Epoch 18/50\n",
      "15/15 [==============================] - 4s 240ms/step - loss: 0.5332 - accuracy: 0.9261 - precision_1: 0.8833 - recall_1: 0.7264 - val_loss: 0.8887 - val_accuracy: 0.8832 - val_precision_1: 0.7912 - val_recall_1: 0.5651\n",
      "Epoch 19/50\n",
      "15/15 [==============================] - 4s 242ms/step - loss: 0.5137 - accuracy: 0.9293 - precision_1: 0.8848 - recall_1: 0.7433 - val_loss: 0.8878 - val_accuracy: 0.8853 - val_precision_1: 0.7812 - val_recall_1: 0.5924\n",
      "Epoch 20/50\n",
      "15/15 [==============================] - 4s 241ms/step - loss: 0.4674 - accuracy: 0.9362 - precision_1: 0.8983 - recall_1: 0.7678 - val_loss: 0.8966 - val_accuracy: 0.8836 - val_precision_1: 0.7772 - val_recall_1: 0.5861\n",
      "Epoch 21/50\n",
      "15/15 [==============================] - 4s 241ms/step - loss: 0.4355 - accuracy: 0.9392 - precision_1: 0.8955 - recall_1: 0.7880 - val_loss: 0.9154 - val_accuracy: 0.8836 - val_precision_1: 0.7668 - val_recall_1: 0.6008\n",
      "Epoch 22/50\n",
      "15/15 [==============================] - 4s 241ms/step - loss: 0.4293 - accuracy: 0.9406 - precision_1: 0.8984 - recall_1: 0.7926 - val_loss: 0.9051 - val_accuracy: 0.8853 - val_precision_1: 0.7736 - val_recall_1: 0.6029\n",
      "Epoch 23/50\n",
      "15/15 [==============================] - 4s 241ms/step - loss: 0.3843 - accuracy: 0.9499 - precision_1: 0.9229 - recall_1: 0.8178 - val_loss: 0.9246 - val_accuracy: 0.8866 - val_precision_1: 0.7655 - val_recall_1: 0.6239\n",
      "Epoch 24/50\n",
      "15/15 [==============================] - 4s 241ms/step - loss: 0.3350 - accuracy: 0.9555 - precision_1: 0.9267 - recall_1: 0.8442 - val_loss: 0.9512 - val_accuracy: 0.8794 - val_precision_1: 0.7455 - val_recall_1: 0.6029\n",
      "Epoch 25/50\n",
      "15/15 [==============================] - 4s 240ms/step - loss: 0.3581 - accuracy: 0.9513 - precision_1: 0.9199 - recall_1: 0.8285 - val_loss: 0.9460 - val_accuracy: 0.8819 - val_precision_1: 0.7506 - val_recall_1: 0.6134\n",
      "Epoch 26/50\n",
      "15/15 [==============================] - 4s 240ms/step - loss: 0.3427 - accuracy: 0.9564 - precision_1: 0.9247 - recall_1: 0.8516 - val_loss: 0.9345 - val_accuracy: 0.8878 - val_precision_1: 0.7646 - val_recall_1: 0.6345\n"
     ]
    }
   ],
   "source": [
    "print((X_train.shape, y_train.shape, X_test.shape, y_test.shape))\n",
    "\n",
    "model = Sequential()\n",
    "model.add(Embedding(n_most_common_words, emb_dim, input_length=X.shape[1]))\n",
    "model.add(SpatialDropout1D(0.7))\n",
    "model.add(LSTM(64, dropout=0.7, recurrent_dropout=0.7))\n",
    "model.add(Dense(5, activation='softmax'))\n",
    "model.compile(optimizer='adam', loss='categorical_crossentropy',\n",
    "             metrics = [tf.keras.metrics.BinaryAccuracy('accuracy'), tf.keras.metrics.Precision(), tf.keras.metrics.Recall()])\n",
    "print(model.summary())\n",
    "history = model.fit(X_train, y_train, epochs=epochs, batch_size=batch_size,validation_split=0.2,callbacks=[EarlyStopping(monitor='val_loss',patience=7, min_delta=0.0001)])\n",
    "\n",
    "model.save('/home/charun/Documents/Projects/text_research/model.h5')"
   ]
  },
  {
   "cell_type": "code",
   "execution_count": 26,
   "metadata": {},
   "outputs": [],
   "source": [
    "import tensorflow\n",
    "\n",
    "model = tf.keras.models.load_model('/home/charun/Documents/Projects/text_research/testing_model.h5')"
   ]
  },
  {
   "cell_type": "code",
   "execution_count": 27,
   "metadata": {},
   "outputs": [
    {
     "name": "stdout",
     "output_type": "stream",
     "text": [
      "[[0.2698176  0.18354066 0.17970876 0.17237405 0.19455895]] Debug\n"
     ]
    }
   ],
   "source": [
    "max_len = 100\n",
    "txt = [\"Compile warning in official build\"]\n",
    "seq = token.texts_to_sequences(txt)\n",
    "padded = pad_sequences(seq, maxlen=max_len)\n",
    "pred = model.predict(padded)\n",
    "labels = ['Debug', 'User Interface', 'Integration', 'Core', 'Document and text']\n",
    "print(pred, labels[np.argmax(pred)])"
   ]
  },
  {
   "cell_type": "code",
   "execution_count": 28,
   "metadata": {},
   "outputs": [
    {
     "data": {
      "text/html": [
       "<div>\n",
       "<style scoped>\n",
       "    .dataframe tbody tr th:only-of-type {\n",
       "        vertical-align: middle;\n",
       "    }\n",
       "\n",
       "    .dataframe tbody tr th {\n",
       "        vertical-align: top;\n",
       "    }\n",
       "\n",
       "    .dataframe thead th {\n",
       "        text-align: right;\n",
       "    }\n",
       "</style>\n",
       "<table border=\"1\" class=\"dataframe\">\n",
       "  <thead>\n",
       "    <tr style=\"text-align: right;\">\n",
       "      <th></th>\n",
       "      <th>text</th>\n",
       "      <th>label</th>\n",
       "    </tr>\n",
       "  </thead>\n",
       "  <tbody>\n",
       "    <tr>\n",
       "      <th>0</th>\n",
       "      <td>Install/Update pref Page; clean workspace diff...</td>\n",
       "      <td>Core</td>\n",
       "    </tr>\n",
       "    <tr>\n",
       "      <th>1</th>\n",
       "      <td>Remove warnings in latest build</td>\n",
       "      <td>Core</td>\n",
       "    </tr>\n",
       "    <tr>\n",
       "      <th>2</th>\n",
       "      <td>Ambiguous method invocation</td>\n",
       "      <td>Core</td>\n",
       "    </tr>\n",
       "    <tr>\n",
       "      <th>3</th>\n",
       "      <td>Compile warning in official build</td>\n",
       "      <td>Core</td>\n",
       "    </tr>\n",
       "    <tr>\n",
       "      <th>4</th>\n",
       "      <td>Dilip is learning bugzilla bug tracker</td>\n",
       "      <td>Core</td>\n",
       "    </tr>\n",
       "  </tbody>\n",
       "</table>\n",
       "</div>"
      ],
      "text/plain": [
       "                                                text label\n",
       "0  Install/Update pref Page; clean workspace diff...  Core\n",
       "1                    Remove warnings in latest build  Core\n",
       "2                        Ambiguous method invocation  Core\n",
       "3                  Compile warning in official build  Core\n",
       "4             Dilip is learning bugzilla bug tracker  Core"
      ]
     },
     "execution_count": 28,
     "metadata": {},
     "output_type": "execute_result"
    }
   ],
   "source": [
    "df_eval = pd.read_excel('/home/charun/Documents/Projects/text_research/eval_data.xlsx')\n",
    "df_eval.head(5)"
   ]
  },
  {
   "cell_type": "code",
   "execution_count": 29,
   "metadata": {},
   "outputs": [
    {
     "data": {
      "text/plain": [
       "array([3, 0, 4, 2, 1])"
      ]
     },
     "execution_count": 29,
     "metadata": {},
     "output_type": "execute_result"
    }
   ],
   "source": [
    "#convert our labels into numerical values. in here we add 0 for the User Interface, 1 for the debug and\n",
    "# 2 for the document and text\n",
    "\n",
    "df_eval['Label'] = df_eval['label'].replace(['User Interface', 'Debug','Document and text', 'Integration', 'Core' ],[1,0,4,2,3])\n",
    "\n",
    "#after that we drop the column which contains the textual labels\n",
    "\n",
    "new_df_eval = df_eval.drop(columns=['label'])\n",
    "new_df_eval['Label'].unique()"
   ]
  },
  {
   "cell_type": "code",
   "execution_count": 36,
   "metadata": {},
   "outputs": [],
   "source": [
    "with open('/home/charun/Documents/Projects/text_research/tokenizer.pickle', 'rb') as handle:\n",
    "    loaded_tokenizer = pickle.load(handle)"
   ]
  },
  {
   "cell_type": "code",
   "execution_count": 32,
   "metadata": {
    "collapsed": true
   },
   "outputs": [
    {
     "ename": "IndexError",
     "evalue": "list index out of range",
     "output_type": "error",
     "traceback": [
      "\u001b[0;31m---------------------------------------------------------------------------\u001b[0m",
      "\u001b[0;31mIndexError\u001b[0m                                Traceback (most recent call last)",
      "\u001b[0;32m<ipython-input-32-a0cd5086b6b6>\u001b[0m in \u001b[0;36m<module>\u001b[0;34m\u001b[0m\n\u001b[1;32m      6\u001b[0m \u001b[0mpred\u001b[0m \u001b[0;34m=\u001b[0m \u001b[0mmodel\u001b[0m\u001b[0;34m.\u001b[0m\u001b[0mpredict\u001b[0m\u001b[0;34m(\u001b[0m\u001b[0mpadded\u001b[0m\u001b[0;34m)\u001b[0m\u001b[0;34m\u001b[0m\u001b[0;34m\u001b[0m\u001b[0m\n\u001b[1;32m      7\u001b[0m \u001b[0mlabels\u001b[0m \u001b[0;34m=\u001b[0m \u001b[0;34m[\u001b[0m\u001b[0;34m'Debug'\u001b[0m\u001b[0;34m,\u001b[0m \u001b[0;34m'User Interface'\u001b[0m\u001b[0;34m,\u001b[0m \u001b[0;34m'Integration'\u001b[0m\u001b[0;34m,\u001b[0m \u001b[0;34m'Core'\u001b[0m\u001b[0;34m,\u001b[0m \u001b[0;34m'Document and text'\u001b[0m\u001b[0;34m]\u001b[0m\u001b[0;34m\u001b[0m\u001b[0;34m\u001b[0m\u001b[0m\n\u001b[0;32m----> 8\u001b[0;31m \u001b[0mprint\u001b[0m\u001b[0;34m(\u001b[0m\u001b[0mpred\u001b[0m\u001b[0;34m,\u001b[0m \u001b[0mlabels\u001b[0m\u001b[0;34m[\u001b[0m\u001b[0mnp\u001b[0m\u001b[0;34m.\u001b[0m\u001b[0margmax\u001b[0m\u001b[0;34m(\u001b[0m\u001b[0mpred\u001b[0m\u001b[0;34m)\u001b[0m\u001b[0;34m]\u001b[0m\u001b[0;34m)\u001b[0m\u001b[0;34m\u001b[0m\u001b[0;34m\u001b[0m\u001b[0m\n\u001b[0m",
      "\u001b[0;31mIndexError\u001b[0m: list index out of range"
     ]
    }
   ],
   "source": [
    "max_len = 100\n",
    "\n",
    "txt = df_eval['text']\n",
    "seq = token.texts_to_sequences(txt)\n",
    "padded = pad_sequences(seq, maxlen=max_len)\n",
    "pred = model.predict(padded)\n",
    "labels = ['Debug', 'User Interface', 'Integration', 'Core', 'Document and text']\n",
    "#print(pred, labels[np.argmax(pred)])"
   ]
  },
  {
   "cell_type": "code",
   "execution_count": 39,
   "metadata": {},
   "outputs": [
    {
     "name": "stdout",
     "output_type": "stream",
     "text": [
      "[0 0 0 0 0 0 0 0 0 0 0 0 0 0 0 0 0 0 0 0 0 0 0 0 0 0 0 0 0 0 0 0 0 0 0 0 0\n",
      " 0 0 0 0 0 0 0 0 0 0 0 0 0 0 0 0 0 0 0 0 0 0 0 0 0 0 0 0 0 0 0 0 0 0 0 0 0\n",
      " 0 0 0 0 0 0 0 0 0 0 0 0 0 0 0 0 0 0 0 0 0 0 0 0 0 0 0 0 0 0 0 0 0 0 0 0 0\n",
      " 0 0 0 0 0 0 0 0 0 0 0 0 0 0 0 0 0 0 0 0 0 0 0 0 0 0 0 0 0 0 0 0 0 0 0 0 0\n",
      " 0 0 0 0 0 0 0 0 0 0 0 0 0 0 0 0 0 0 0 0 0 0 0 0 0 0 0 0 0 0 0 0 0 0 0 0 0\n",
      " 0 0 0 0 0 0 0 0 0 0 0 0 0 0 0 0 0 0 0 0 0 0 0 0 0 0 0 0 0 0 0 0 0 0 0 0 0\n",
      " 0 0 0 0 0 0 0 0 0 0 0 0 0 0 0 0 0 0 0 0 0 0 0 0 0 0 0 0 0 0 0 0 0 0 0 0 0\n",
      " 0 0 0 0 0 0 0 0 0 0 0 0 0 0 0 0 0 0 0 0 0 0 0 0 0 0 0 0 0 0 0 0 0 0 0 0 0\n",
      " 0 0 0 0 0 0 0 0 0 0 0 0 0 0 0 0 0 0 0 0 0 0 0 0 0 0 0 0 0 0 0 0 0 0 0 0 0\n",
      " 0 0 0 0 0 0 0 0 0 0 0 0 0 0 0 0 0 0 0 0 0 0 0 0 0 0 0 0 0 0 0 0 0 0 0 0 0\n",
      " 0 0 0 0 0 0 0 0 0 0 0 0 0 0 0 0 0 0 0 0 0 0 0 0 0 0 0 0 0 0 0 0 0 0 0 0 0\n",
      " 0 0 0 0 0 0 0 0 0 0 0 0 0 0 0 0 0 0 0 0 0 0 0 0 0 0 0 0 0 0 0 0 0 0 0 0 0\n",
      " 0 0 0 0 0 0 0 0 0 0 0 0 0 0 0 0 0 0 0 0 0 0 0 0 0 0 0 0 0 0 0 0 0 0 0 0 0\n",
      " 0 0 0 0 0 0 0 0 0 0 0 0 0 0 0 0 0 0 0 0 0 0 0 0 0 0 0 0 0 0]\n"
     ]
    }
   ],
   "source": [
    "classes = np.argmax(pred, axis = 1)\n",
    "print(classes)"
   ]
  },
  {
   "cell_type": "code",
   "execution_count": 108,
   "metadata": {},
   "outputs": [],
   "source": [
    "from sklearn.metrics import confusion_matrix\n",
    "import itertools\n",
    "cm = confusion_matrix(y_true=new_df_eval['Label'], y_pred=classes)"
   ]
  },
  {
   "cell_type": "code",
   "execution_count": 109,
   "metadata": {},
   "outputs": [],
   "source": [
    "def plot_confusion_matrix(cm, classes,\n",
    "                        normalize=False,\n",
    "                        title='Confusion matrix',\n",
    "                        cmap=plt.cm.Blues):\n",
    "# plotting the confusion matrix\n",
    "    plt.imshow(cm, interpolation='nearest', cmap=cmap)\n",
    "    plt.title(title)\n",
    "    plt.colorbar()\n",
    "    tick_marks = np.arange(len(classes))\n",
    "    plt.xticks(tick_marks, classes, rotation=90)\n",
    "    plt.yticks(tick_marks, classes)\n",
    "    \n",
    "\n",
    "    if normalize:\n",
    "        cm = cm.astype('float') / cm.sum(axis=1)[:, np.newaxis]\n",
    "        print(\"Normalized confusion matrix\")\n",
    "    else:\n",
    "        print('Confusion matrix, without normalization')\n",
    "\n",
    "    print(cm)\n",
    "\n",
    "    thresh = cm.max() / 2.\n",
    "    for i, j in itertools.product(range(cm.shape[0]), range(cm.shape[1])):\n",
    "        plt.text(j, i, cm[i, j],\n",
    "            horizontalalignment=\"center\",\n",
    "            color=\"white\" if cm[i, j] > thresh else \"black\")\n",
    "\n",
    "    plt.tight_layout()\n",
    "    plt.ylabel('True label')\n",
    "    plt.xlabel('Predicted label')\n",
    "    \n"
   ]
  },
  {
   "cell_type": "code",
   "execution_count": 110,
   "metadata": {},
   "outputs": [],
   "source": [
    "cm_plot_labels = ['Debug', 'User Interface', 'Integration', 'Core', 'Document and text']"
   ]
  },
  {
   "cell_type": "code",
   "execution_count": 111,
   "metadata": {},
   "outputs": [
    {
     "name": "stdout",
     "output_type": "stream",
     "text": [
      "Confusion matrix, without normalization\n",
      "[[84  3  4  7  9]\n",
      " [14 41  7 29 19]\n",
      " [13 23 48 14  3]\n",
      " [10 28 11 38  9]\n",
      " [ 7 10  2  4 74]]\n"
     ]
    },
    {
     "data": {
      "image/png": "[encoded data removed]",
      "text/plain": [
       "<Figure size 432x288 with 2 Axes>"
      ]
     },
     "metadata": {
      "needs_background": "light"
     },
     "output_type": "display_data"
    }
   ],
   "source": [
    "\n",
    "plot_confusion_matrix(cm=cm, classes=cm_plot_labels, title='Confusion Matrix')"
   ]
  },
  {
   "cell_type": "code",
   "execution_count": null,
   "metadata": {},
   "outputs": [],
   "source": []
  },
  {
   "cell_type": "code",
   "execution_count": null,
   "metadata": {},
   "outputs": [],
   "source": []
  },
  {
   "cell_type": "code",
   "execution_count": null,
   "metadata": {},
   "outputs": [],
   "source": []
  },
  {
   "cell_type": "code",
   "execution_count": 2,
   "metadata": {},
   "outputs": [
    {
     "data": {
      "text/plain": [
       "Index(['Text', 'Label'], dtype='object')"
      ]
     },
     "execution_count": 2,
     "metadata": {},
     "output_type": "execute_result"
    }
   ],
   "source": [
    "#import the dataset using the pandas\n",
    "\n",
    "df_train = pd.read_excel('/home/charun/Documents/Projects/text_research/train_data.xlsx')\n",
    "\n",
    "df_train.columns"
   ]
  },
  {
   "cell_type": "code",
   "execution_count": 4,
   "metadata": {},
   "outputs": [
    {
     "data": {
      "text/plain": [
       "Index(['text', 'label'], dtype='object')"
      ]
     },
     "execution_count": 4,
     "metadata": {},
     "output_type": "execute_result"
    }
   ],
   "source": [
    "df_test = pd.read_excel('/home/charun/Documents/Projects/text_research/test_data.xlsx')\n",
    "df_test.columns"
   ]
  },
  {
   "cell_type": "code",
   "execution_count": 3,
   "metadata": {},
   "outputs": [],
   "source": [
    "#convert our labels into numerical values. in here we add 0 for the User Interface, 1 for the debug and\n",
    "# 2 for the document and text\n",
    "\n",
    "df_train['Label'] = df_train['Label'].replace(['User Interface', 'Debug','Document and text', 'Integration', 'Core' ], [0,1,2,3,4])\n",
    "\n",
    "#after that we drop the column which contains the textual labels\n",
    "\n",
    "#new_df_train = df_train.drop(columns=['label'])\n",
    "#new_df_train['Label'].unique()\n",
    "new_df_train = df_train\n",
    "#new_df_train = shuffle(new_df_train)"
   ]
  },
  {
   "cell_type": "code",
   "execution_count": 6,
   "metadata": {},
   "outputs": [],
   "source": [
    "#convert our labels into numerical values. in here we add 0 for the User Interface, 1 for the debug and\n",
    "# 2 for the document and text\n",
    "\n",
    "df_test['label'] = df_test['label'].replace(['User Interface', 'Debug','Document and text', 'Integration', 'Core' ], [0,1,2,3,4])\n",
    "\n",
    "#after that we drop the column which contains the textual labels\n",
    "\n",
    "#new_df_test = df_test.drop(columns=['label'])\n",
    "#new_df_test['Label'].unique()\n",
    "new_df_test = df_test"
   ]
  },
  {
   "cell_type": "code",
   "execution_count": 104,
   "metadata": {},
   "outputs": [
    {
     "data": {
      "text/html": [
       "<div>\n",
       "<style scoped>\n",
       "    .dataframe tbody tr th:only-of-type {\n",
       "        vertical-align: middle;\n",
       "    }\n",
       "\n",
       "    .dataframe tbody tr th {\n",
       "        vertical-align: top;\n",
       "    }\n",
       "\n",
       "    .dataframe thead th {\n",
       "        text-align: right;\n",
       "    }\n",
       "</style>\n",
       "<table border=\"1\" class=\"dataframe\">\n",
       "  <thead>\n",
       "    <tr style=\"text-align: right;\">\n",
       "      <th></th>\n",
       "      <th>text</th>\n",
       "      <th>Label</th>\n",
       "    </tr>\n",
       "  </thead>\n",
       "  <tbody>\n",
       "  </tbody>\n",
       "</table>\n",
       "</div>"
      ],
      "text/plain": [
       "Empty DataFrame\n",
       "Columns: [text, Label]\n",
       "Index: []"
      ]
     },
     "execution_count": 104,
     "metadata": {},
     "output_type": "execute_result"
    }
   ],
   "source": []
  },
  {
   "cell_type": "code",
   "execution_count": 4,
   "metadata": {},
   "outputs": [
    {
     "name": "stderr",
     "output_type": "stream",
     "text": [
      "/snap/jupyter/6/lib/python3.7/site-packages/ipykernel_launcher.py:4: FutureWarning: The default value of regex will change from True to False in a future version.\n",
      "  after removing the cwd from sys.path.\n"
     ]
    }
   ],
   "source": [
    "\n",
    "#new_df['Text'] = ''.join([i for i in df['Text'][1] if not i.isdigit()])\n",
    "\n",
    "new_df_train['Text'] = new_df_train['Text'].str.replace('\\d+', ' ')\n",
    "new_df_train['Text'] = new_df_train['Text'].apply(str)"
   ]
  },
  {
   "cell_type": "code",
   "execution_count": 11,
   "metadata": {},
   "outputs": [
    {
     "data": {
      "text/plain": [
       "0       [formatter] New JavaDoc formatter wrongly inde...\n",
       "1       An internal error occurred during: \"Updating w...\n",
       "2       [null][correlation] spurious \"null pointer acc...\n",
       "3       ASTRewrite should support replacing n nodes wi...\n",
       "4       Unit tests and test framework mixed up over vm...\n",
       "                              ...                        \n",
       "3624    Cannot create build script anymore: NPE thrown...\n",
       "3625       [p ] Support source.bundles.txt in p  installs\n",
       "3626                                  Dead code in pde.ui\n",
       "3627    Some bundleentry: iconURIs are not being rewri...\n",
       "3628    [Schema][Editors] Update icons in Extension Po...\n",
       "Name: Text, Length: 3629, dtype: object"
      ]
     },
     "execution_count": 11,
     "metadata": {},
     "output_type": "execute_result"
    }
   ],
   "source": [
    "new_df_train['Text']"
   ]
  },
  {
   "cell_type": "code",
   "execution_count": 26,
   "metadata": {},
   "outputs": [
    {
     "name": "stdout",
     "output_type": "stream",
     "text": [
      "NLTK Downloader\n",
      "---------------------------------------------------------------------------\n",
      "    d) Download   l) List    u) Update   c) Config   h) Help   q) Quit\n",
      "---------------------------------------------------------------------------\n",
      "Downloader> d\n",
      "\n",
      "Download which package (l=list; x=cancel)?\n",
      "  Identifier> l\n",
      "Packages:\n",
      "  [ ] averaged_perceptron_tagger Averaged Perceptron Tagger\n",
      "  [ ] averaged_perceptron_tagger_ru Averaged Perceptron Tagger (Russian)\n",
      "  [ ] basque_grammars..... Grammars for Basque\n",
      "  [ ] bllip_wsj_no_aux.... BLLIP Parser: WSJ Model\n",
      "  [ ] book_grammars....... Grammars from NLTK Book\n",
      "  [ ] large_grammars...... Large context-free and feature-based grammars\n",
      "                           for parser comparison\n",
      "  [ ] maxent_ne_chunker... ACE Named Entity Chunker (Maximum entropy)\n",
      "  [ ] maxent_treebank_pos_tagger Treebank Part of Speech Tagger (Maximum entropy)\n",
      "  [ ] mte_teip5........... MULTEXT-East 1984 annotated corpus 4.0\n",
      "  [ ] mwa_ppdb............ The monolingual word aligner (Sultan et al.\n",
      "                           2015) subset of the Paraphrase Database.\n",
      "  [ ] nonbreaking_prefixes Non-Breaking Prefixes (Moses Decoder)\n",
      "  [ ] panlex_swadesh...... PanLex Swadesh Corpora\n",
      "  [ ] pe08................ Cross-Framework and Cross-Domain Parser\n",
      "                           Evaluation Shared Task\n",
      "  [ ] perluniprops........ perluniprops: Index of Unicode Version 7.0.0\n",
      "                           character properties in Perl\n",
      "  [ ] porter_test......... Porter Stemmer Test Files\n",
      "  [-] pros_cons........... Pros and Cons\n",
      "Hit Enter to continue: \n",
      "  [ ] qc.................. Experimental Data for Question Classification\n",
      "  [ ] reuters............. The Reuters-21578 benchmark corpus, ApteMod\n",
      "                           version\n",
      "  [ ] rslp................ RSLP Stemmer (Removedor de Sufixos da Lingua\n",
      "                           Portuguesa)\n",
      "  [ ] rte................. PASCAL RTE Challenges 1, 2, and 3\n",
      "  [ ] sample_grammars..... Sample Grammars\n",
      "  [ ] semcor.............. SemCor 3.0\n",
      "  [ ] senseval............ SENSEVAL 2 Corpus: Sense Tagged Text\n",
      "  [ ] sentence_polarity... Sentence Polarity Dataset v1.0\n",
      "  [ ] sentiwordnet........ SentiWordNet\n",
      "  [ ] shakespeare......... Shakespeare XML Corpus Sample\n",
      "  [ ] sinica_treebank..... Sinica Treebank Corpus Sample\n",
      "  [ ] smultron............ SMULTRON Corpus Sample\n",
      "  [ ] snowball_data....... Snowball Data\n",
      "  [ ] spanish_grammars.... Grammars for Spanish\n",
      "  [ ] state_union......... C-Span State of the Union Address Corpus\n",
      "  [ ] subjectivity........ Subjectivity Dataset v1.0\n",
      "  [ ] swadesh............. Swadesh Wordlists\n",
      "  [ ] switchboard......... Switchboard Corpus Sample\n",
      "  [ ] tagsets............. Help on Tagsets\n",
      "Hit Enter to continue: \n",
      "  [ ] timit............... TIMIT Corpus Sample\n",
      "  [ ] toolbox............. Toolbox Sample Files\n",
      "  [ ] treebank............ Penn Treebank Sample\n",
      "  [ ] twitter_samples..... Twitter Samples\n",
      "  [ ] udhr2............... Universal Declaration of Human Rights Corpus\n",
      "                           (Unicode Version)\n",
      "  [ ] udhr................ Universal Declaration of Human Rights Corpus\n",
      "  [ ] unicode_samples..... Unicode Samples\n",
      "  [ ] universal_tagset.... Mappings to the Universal Part-of-Speech Tagset\n",
      "  [ ] universal_treebanks_v20 Universal Treebanks Version 2.0\n",
      "  [ ] vader_lexicon....... VADER Sentiment Lexicon\n",
      "  [ ] verbnet3............ VerbNet Lexicon, Version 3.3\n",
      "  [ ] verbnet............. VerbNet Lexicon, Version 2.1\n",
      "  [ ] webtext............. Web Text Corpus\n",
      "  [ ] wmt15_eval.......... Evaluation data from WMT15\n",
      "  [ ] word2vec_sample..... Word2Vec Sample\n",
      "  [ ] wordnet_ic.......... WordNet-InfoContent\n",
      "  [ ] words............... Word Lists\n",
      "  [ ] ycoe................ York-Toronto-Helsinki Parsed Corpus of Old\n",
      "                           English Prose\n",
      "\n",
      "Collections:\n",
      "  [P] all-corpora......... All the corpora\n",
      "Hit Enter to continue: \n",
      "  [-] all-nltk............ All packages available on nltk_data gh-pages\n",
      "                           branch\n",
      "  [-] all................. All packages\n",
      "  [P] book................ Everything used in the NLTK Book\n",
      "  [P] popular............. Popular packages\n",
      "  [-] tests............... Packages for running tests\n",
      "\n",
      "([*] marks installed packages; [-] marks out-of-date or corrupt packages;\n",
      " [P] marks partially installed collections)\n",
      "\n",
      "Download which package (l=list; x=cancel)?\n",
      "  Identifier> -\n"
     ]
    },
    {
     "name": "stderr",
     "output_type": "stream",
     "text": [
      "    Error loading -: Package '-' not found in index\n"
     ]
    },
    {
     "name": "stdout",
     "output_type": "stream",
     "text": [
      "\n",
      "---------------------------------------------------------------------------\n",
      "    d) Download   l) List    u) Update   c) Config   h) Help   q) Quit\n",
      "---------------------------------------------------------------------------\n",
      "Downloader> d\n",
      "\n",
      "Download which package (l=list; x=cancel)?\n",
      "  Identifier> \n",
      "\n",
      "---------------------------------------------------------------------------\n",
      "    d) Download   l) List    u) Update   c) Config   h) Help   q) Quit\n",
      "---------------------------------------------------------------------------\n",
      "Downloader> d\n",
      "\n",
      "Download which package (l=list; x=cancel)?\n"
     ]
    },
    {
     "ename": "KeyboardInterrupt",
     "evalue": "",
     "output_type": "error",
     "traceback": [
      "\u001b[0;31m---------------------------------------------------------------------------\u001b[0m",
      "\u001b[0;31mKeyboardInterrupt\u001b[0m                         Traceback (most recent call last)",
      "\u001b[0;32m/snap/jupyter/6/lib/python3.7/site-packages/ipykernel/kernelbase.py\u001b[0m in \u001b[0;36m_input_request\u001b[0;34m(self, prompt, ident, parent, password)\u001b[0m\n\u001b[1;32m    884\u001b[0m             \u001b[0;32mtry\u001b[0m\u001b[0;34m:\u001b[0m\u001b[0;34m\u001b[0m\u001b[0;34m\u001b[0m\u001b[0m\n\u001b[0;32m--> 885\u001b[0;31m                 \u001b[0mident\u001b[0m\u001b[0;34m,\u001b[0m \u001b[0mreply\u001b[0m \u001b[0;34m=\u001b[0m \u001b[0mself\u001b[0m\u001b[0;34m.\u001b[0m\u001b[0msession\u001b[0m\u001b[0;34m.\u001b[0m\u001b[0mrecv\u001b[0m\u001b[0;34m(\u001b[0m\u001b[0mself\u001b[0m\u001b[0;34m.\u001b[0m\u001b[0mstdin_socket\u001b[0m\u001b[0;34m,\u001b[0m \u001b[0;36m0\u001b[0m\u001b[0;34m)\u001b[0m\u001b[0;34m\u001b[0m\u001b[0;34m\u001b[0m\u001b[0m\n\u001b[0m\u001b[1;32m    886\u001b[0m             \u001b[0;32mexcept\u001b[0m \u001b[0mException\u001b[0m\u001b[0;34m:\u001b[0m\u001b[0;34m\u001b[0m\u001b[0;34m\u001b[0m\u001b[0m\n",
      "\u001b[0;32m/snap/jupyter/6/lib/python3.7/site-packages/jupyter_client/session.py\u001b[0m in \u001b[0;36mrecv\u001b[0;34m(self, socket, mode, content, copy)\u001b[0m\n\u001b[1;32m    802\u001b[0m         \u001b[0;32mtry\u001b[0m\u001b[0;34m:\u001b[0m\u001b[0;34m\u001b[0m\u001b[0;34m\u001b[0m\u001b[0m\n\u001b[0;32m--> 803\u001b[0;31m             \u001b[0mmsg_list\u001b[0m \u001b[0;34m=\u001b[0m \u001b[0msocket\u001b[0m\u001b[0;34m.\u001b[0m\u001b[0mrecv_multipart\u001b[0m\u001b[0;34m(\u001b[0m\u001b[0mmode\u001b[0m\u001b[0;34m,\u001b[0m \u001b[0mcopy\u001b[0m\u001b[0;34m=\u001b[0m\u001b[0mcopy\u001b[0m\u001b[0;34m)\u001b[0m\u001b[0;34m\u001b[0m\u001b[0;34m\u001b[0m\u001b[0m\n\u001b[0m\u001b[1;32m    804\u001b[0m         \u001b[0;32mexcept\u001b[0m \u001b[0mzmq\u001b[0m\u001b[0;34m.\u001b[0m\u001b[0mZMQError\u001b[0m \u001b[0;32mas\u001b[0m \u001b[0me\u001b[0m\u001b[0;34m:\u001b[0m\u001b[0;34m\u001b[0m\u001b[0;34m\u001b[0m\u001b[0m\n",
      "\u001b[0;32m/snap/jupyter/6/lib/python3.7/site-packages/zmq/sugar/socket.py\u001b[0m in \u001b[0;36mrecv_multipart\u001b[0;34m(self, flags, copy, track)\u001b[0m\n\u001b[1;32m    469\u001b[0m         \"\"\"\n\u001b[0;32m--> 470\u001b[0;31m         \u001b[0mparts\u001b[0m \u001b[0;34m=\u001b[0m \u001b[0;34m[\u001b[0m\u001b[0mself\u001b[0m\u001b[0;34m.\u001b[0m\u001b[0mrecv\u001b[0m\u001b[0;34m(\u001b[0m\u001b[0mflags\u001b[0m\u001b[0;34m,\u001b[0m \u001b[0mcopy\u001b[0m\u001b[0;34m=\u001b[0m\u001b[0mcopy\u001b[0m\u001b[0;34m,\u001b[0m \u001b[0mtrack\u001b[0m\u001b[0;34m=\u001b[0m\u001b[0mtrack\u001b[0m\u001b[0;34m)\u001b[0m\u001b[0;34m]\u001b[0m\u001b[0;34m\u001b[0m\u001b[0;34m\u001b[0m\u001b[0m\n\u001b[0m\u001b[1;32m    471\u001b[0m         \u001b[0;31m# have first part already, only loop while more to receive\u001b[0m\u001b[0;34m\u001b[0m\u001b[0;34m\u001b[0m\u001b[0;34m\u001b[0m\u001b[0m\n",
      "\u001b[0;32mzmq/backend/cython/socket.pyx\u001b[0m in \u001b[0;36mzmq.backend.cython.socket.Socket.recv\u001b[0;34m()\u001b[0m\n",
      "\u001b[0;32mzmq/backend/cython/socket.pyx\u001b[0m in \u001b[0;36mzmq.backend.cython.socket.Socket.recv\u001b[0;34m()\u001b[0m\n",
      "\u001b[0;32mzmq/backend/cython/socket.pyx\u001b[0m in \u001b[0;36mzmq.backend.cython.socket._recv_copy\u001b[0;34m()\u001b[0m\n",
      "\u001b[0;32m/snap/jupyter/6/lib/python3.7/site-packages/zmq/backend/cython/checkrc.pxd\u001b[0m in \u001b[0;36mzmq.backend.cython.checkrc._check_rc\u001b[0;34m()\u001b[0m\n",
      "\u001b[0;31mKeyboardInterrupt\u001b[0m: ",
      "\nDuring handling of the above exception, another exception occurred:\n",
      "\u001b[0;31mKeyboardInterrupt\u001b[0m                         Traceback (most recent call last)",
      "\u001b[0;32m<ipython-input-26-eebc0bc4f944>\u001b[0m in \u001b[0;36m<module>\u001b[0;34m\u001b[0m\n\u001b[1;32m      9\u001b[0m     \u001b[0mssl\u001b[0m\u001b[0;34m.\u001b[0m\u001b[0m_create_default_https_context\u001b[0m \u001b[0;34m=\u001b[0m \u001b[0m_create_unverified_https_context\u001b[0m\u001b[0;34m\u001b[0m\u001b[0;34m\u001b[0m\u001b[0m\n\u001b[1;32m     10\u001b[0m \u001b[0;34m\u001b[0m\u001b[0m\n\u001b[0;32m---> 11\u001b[0;31m \u001b[0mnltk\u001b[0m\u001b[0;34m.\u001b[0m\u001b[0mdownload\u001b[0m\u001b[0;34m(\u001b[0m\u001b[0;34m)\u001b[0m\u001b[0;34m\u001b[0m\u001b[0;34m\u001b[0m\u001b[0m\n\u001b[0m",
      "\u001b[0;32m/home/charun/snap/jupyter/common/lib/python3.7/site-packages/nltk/downloader.py\u001b[0m in \u001b[0;36mdownload\u001b[0;34m(self, info_or_id, download_dir, quiet, force, prefix, halt_on_error, raise_on_error, print_error_to)\u001b[0m\n\u001b[1;32m    763\u001b[0m             \u001b[0;32mif\u001b[0m \u001b[0mdownload_dir\u001b[0m \u001b[0;32mis\u001b[0m \u001b[0;32mnot\u001b[0m \u001b[0;32mNone\u001b[0m\u001b[0;34m:\u001b[0m\u001b[0;34m\u001b[0m\u001b[0;34m\u001b[0m\u001b[0m\n\u001b[1;32m    764\u001b[0m                 \u001b[0mself\u001b[0m\u001b[0;34m.\u001b[0m\u001b[0m_download_dir\u001b[0m \u001b[0;34m=\u001b[0m \u001b[0mdownload_dir\u001b[0m\u001b[0;34m\u001b[0m\u001b[0;34m\u001b[0m\u001b[0m\n\u001b[0;32m--> 765\u001b[0;31m             \u001b[0mself\u001b[0m\u001b[0;34m.\u001b[0m\u001b[0m_interactive_download\u001b[0m\u001b[0;34m(\u001b[0m\u001b[0;34m)\u001b[0m\u001b[0;34m\u001b[0m\u001b[0;34m\u001b[0m\u001b[0m\n\u001b[0m\u001b[1;32m    766\u001b[0m             \u001b[0;32mreturn\u001b[0m \u001b[0;32mTrue\u001b[0m\u001b[0;34m\u001b[0m\u001b[0;34m\u001b[0m\u001b[0m\n\u001b[1;32m    767\u001b[0m \u001b[0;34m\u001b[0m\u001b[0m\n",
      "\u001b[0;32m/home/charun/snap/jupyter/common/lib/python3.7/site-packages/nltk/downloader.py\u001b[0m in \u001b[0;36m_interactive_download\u001b[0;34m(self)\u001b[0m\n\u001b[1;32m   1117\u001b[0m                 \u001b[0mDownloaderShell\u001b[0m\u001b[0;34m(\u001b[0m\u001b[0mself\u001b[0m\u001b[0;34m)\u001b[0m\u001b[0;34m.\u001b[0m\u001b[0mrun\u001b[0m\u001b[0;34m(\u001b[0m\u001b[0;34m)\u001b[0m\u001b[0;34m\u001b[0m\u001b[0;34m\u001b[0m\u001b[0m\n\u001b[1;32m   1118\u001b[0m         \u001b[0;32melse\u001b[0m\u001b[0;34m:\u001b[0m\u001b[0;34m\u001b[0m\u001b[0;34m\u001b[0m\u001b[0m\n\u001b[0;32m-> 1119\u001b[0;31m             \u001b[0mDownloaderShell\u001b[0m\u001b[0;34m(\u001b[0m\u001b[0mself\u001b[0m\u001b[0;34m)\u001b[0m\u001b[0;34m.\u001b[0m\u001b[0mrun\u001b[0m\u001b[0;34m(\u001b[0m\u001b[0;34m)\u001b[0m\u001b[0;34m\u001b[0m\u001b[0;34m\u001b[0m\u001b[0m\n\u001b[0m\u001b[1;32m   1120\u001b[0m \u001b[0;34m\u001b[0m\u001b[0m\n\u001b[1;32m   1121\u001b[0m \u001b[0;34m\u001b[0m\u001b[0m\n",
      "\u001b[0;32m/home/charun/snap/jupyter/common/lib/python3.7/site-packages/nltk/downloader.py\u001b[0m in \u001b[0;36mrun\u001b[0;34m(self)\u001b[0m\n\u001b[1;32m   1158\u001b[0m                     \u001b[0;32mreturn\u001b[0m\u001b[0;34m\u001b[0m\u001b[0;34m\u001b[0m\u001b[0m\n\u001b[1;32m   1159\u001b[0m                 \u001b[0;32melif\u001b[0m \u001b[0mcommand\u001b[0m \u001b[0;34m==\u001b[0m \u001b[0;34m\"d\"\u001b[0m\u001b[0;34m:\u001b[0m\u001b[0;34m\u001b[0m\u001b[0;34m\u001b[0m\u001b[0m\n\u001b[0;32m-> 1160\u001b[0;31m                     \u001b[0mself\u001b[0m\u001b[0;34m.\u001b[0m\u001b[0m_simple_interactive_download\u001b[0m\u001b[0;34m(\u001b[0m\u001b[0margs\u001b[0m\u001b[0;34m)\u001b[0m\u001b[0;34m\u001b[0m\u001b[0;34m\u001b[0m\u001b[0m\n\u001b[0m\u001b[1;32m   1161\u001b[0m                 \u001b[0;32melif\u001b[0m \u001b[0mcommand\u001b[0m \u001b[0;34m==\u001b[0m \u001b[0;34m\"u\"\u001b[0m\u001b[0;34m:\u001b[0m\u001b[0;34m\u001b[0m\u001b[0;34m\u001b[0m\u001b[0m\n\u001b[1;32m   1162\u001b[0m                     \u001b[0mself\u001b[0m\u001b[0;34m.\u001b[0m\u001b[0m_simple_interactive_update\u001b[0m\u001b[0;34m(\u001b[0m\u001b[0;34m)\u001b[0m\u001b[0;34m\u001b[0m\u001b[0;34m\u001b[0m\u001b[0m\n",
      "\u001b[0;32m/home/charun/snap/jupyter/common/lib/python3.7/site-packages/nltk/downloader.py\u001b[0m in \u001b[0;36m_simple_interactive_download\u001b[0;34m(self, args)\u001b[0m\n\u001b[1;32m   1182\u001b[0m                 \u001b[0mprint\u001b[0m\u001b[0;34m(\u001b[0m\u001b[0;34m)\u001b[0m\u001b[0;34m\u001b[0m\u001b[0;34m\u001b[0m\u001b[0m\n\u001b[1;32m   1183\u001b[0m                 \u001b[0mprint\u001b[0m\u001b[0;34m(\u001b[0m\u001b[0;34m\"Download which package (l=list; x=cancel)?\"\u001b[0m\u001b[0;34m)\u001b[0m\u001b[0;34m\u001b[0m\u001b[0;34m\u001b[0m\u001b[0m\n\u001b[0;32m-> 1184\u001b[0;31m                 \u001b[0muser_input\u001b[0m \u001b[0;34m=\u001b[0m \u001b[0minput\u001b[0m\u001b[0;34m(\u001b[0m\u001b[0;34m\"  Identifier> \"\u001b[0m\u001b[0;34m)\u001b[0m\u001b[0;34m\u001b[0m\u001b[0;34m\u001b[0m\u001b[0m\n\u001b[0m\u001b[1;32m   1185\u001b[0m                 \u001b[0;32mif\u001b[0m \u001b[0muser_input\u001b[0m\u001b[0;34m.\u001b[0m\u001b[0mlower\u001b[0m\u001b[0;34m(\u001b[0m\u001b[0;34m)\u001b[0m \u001b[0;34m==\u001b[0m \u001b[0;34m\"l\"\u001b[0m\u001b[0;34m:\u001b[0m\u001b[0;34m\u001b[0m\u001b[0;34m\u001b[0m\u001b[0m\n\u001b[1;32m   1186\u001b[0m                     self._ds.list(\n",
      "\u001b[0;32m/snap/jupyter/6/lib/python3.7/site-packages/ipykernel/kernelbase.py\u001b[0m in \u001b[0;36mraw_input\u001b[0;34m(self, prompt)\u001b[0m\n\u001b[1;32m    858\u001b[0m             \u001b[0mself\u001b[0m\u001b[0;34m.\u001b[0m\u001b[0m_parent_ident\u001b[0m\u001b[0;34m,\u001b[0m\u001b[0;34m\u001b[0m\u001b[0;34m\u001b[0m\u001b[0m\n\u001b[1;32m    859\u001b[0m             \u001b[0mself\u001b[0m\u001b[0;34m.\u001b[0m\u001b[0m_parent_header\u001b[0m\u001b[0;34m,\u001b[0m\u001b[0;34m\u001b[0m\u001b[0;34m\u001b[0m\u001b[0m\n\u001b[0;32m--> 860\u001b[0;31m             \u001b[0mpassword\u001b[0m\u001b[0;34m=\u001b[0m\u001b[0;32mFalse\u001b[0m\u001b[0;34m,\u001b[0m\u001b[0;34m\u001b[0m\u001b[0;34m\u001b[0m\u001b[0m\n\u001b[0m\u001b[1;32m    861\u001b[0m         )\n\u001b[1;32m    862\u001b[0m \u001b[0;34m\u001b[0m\u001b[0m\n",
      "\u001b[0;32m/snap/jupyter/6/lib/python3.7/site-packages/ipykernel/kernelbase.py\u001b[0m in \u001b[0;36m_input_request\u001b[0;34m(self, prompt, ident, parent, password)\u001b[0m\n\u001b[1;32m    888\u001b[0m             \u001b[0;32mexcept\u001b[0m \u001b[0mKeyboardInterrupt\u001b[0m\u001b[0;34m:\u001b[0m\u001b[0;34m\u001b[0m\u001b[0;34m\u001b[0m\u001b[0m\n\u001b[1;32m    889\u001b[0m                 \u001b[0;31m# re-raise KeyboardInterrupt, to truncate traceback\u001b[0m\u001b[0;34m\u001b[0m\u001b[0;34m\u001b[0m\u001b[0;34m\u001b[0m\u001b[0m\n\u001b[0;32m--> 890\u001b[0;31m                 \u001b[0;32mraise\u001b[0m \u001b[0mKeyboardInterrupt\u001b[0m\u001b[0;34m\u001b[0m\u001b[0;34m\u001b[0m\u001b[0m\n\u001b[0m\u001b[1;32m    891\u001b[0m             \u001b[0;32melse\u001b[0m\u001b[0;34m:\u001b[0m\u001b[0;34m\u001b[0m\u001b[0;34m\u001b[0m\u001b[0m\n\u001b[1;32m    892\u001b[0m                 \u001b[0;32mbreak\u001b[0m\u001b[0;34m\u001b[0m\u001b[0;34m\u001b[0m\u001b[0m\n",
      "\u001b[0;31mKeyboardInterrupt\u001b[0m: "
     ]
    }
   ],
   "source": [
    "import nltk\n",
    "import ssl\n",
    "\n",
    "try:\n",
    "    _create_unverified_https_context = ssl._create_unverified_context\n",
    "except AttributeError:\n",
    "    pass\n",
    "else:\n",
    "    ssl._create_default_https_context = _create_unverified_https_context\n",
    "\n",
    "nltk.download()"
   ]
  },
  {
   "cell_type": "code",
   "execution_count": 28,
   "metadata": {},
   "outputs": [
    {
     "name": "stderr",
     "output_type": "stream",
     "text": [
      "[nltk_data] Downloading package stopwords to\n",
      "[nltk_data]     /home/charun/snap/jupyter/6/nltk_data...\n",
      "[nltk_data]   Package stopwords is already up-to-date!\n"
     ]
    },
    {
     "data": {
      "text/plain": [
       "True"
      ]
     },
     "execution_count": 28,
     "metadata": {},
     "output_type": "execute_result"
    }
   ],
   "source": [
    "import nltk \n",
    "nltk.download('stopwords')"
   ]
  },
  {
   "cell_type": "markdown",
   "metadata": {},
   "source": [
    "import nltk\n",
    "nltk.download('punkt', 'stopwords')"
   ]
  },
  {
   "cell_type": "markdown",
   "metadata": {},
   "source": [
    "# Preprocess the data"
   ]
  },
  {
   "cell_type": "code",
   "execution_count": 29,
   "metadata": {
    "id": "issgXUXRu10w"
   },
   "outputs": [],
   "source": [
    "#preprocess the data\n",
    "# in preprocessing we perform stopword removal, character removal, lemmatization etc\n",
    "\n",
    "def form_sentence(sentence):\n",
    "    sentence = re.sub(r\"(?:\\#+[\\w_]+[\\w\\'_\\-]*[\\w_]+)\", '', sentence)\n",
    "    sentence = re.sub(r'<[^>]+>', '', sentence)\n",
    "    sentence = re.sub(r'http[s]?://(?:[a-z]|[0-9]|[$-_@.&+]|[!*\\(\\),]|(?:%[0-9a-f][0-9a-f]))+', '', sentence)\n",
    "    sentence_blob = TextBlob(sentence)\n",
    "    return ' '.join(sentence_blob.words)\n",
    "\n",
    "\n",
    "def no_user_alpha(sentence):\n",
    "    sentence_list = [ele for ele in sentence.split() if ele != 'user']\n",
    "    clean_tokens = [t for t in sentence_list if re.match(r'[^\\W\\d]*$', t)]\n",
    "    clean_s = ' '.join(clean_tokens)\n",
    "    clean_mess = [word for word in clean_s.split() if word.lower() not in stopwords.words('english')]\n",
    "    return clean_mess\n",
    "\n",
    "\n",
    "def normalization(sentence_list):\n",
    "    lem = WordNetLemmatizer()\n",
    "    normalized_tweet = []\n",
    "    for word in sentence_list:\n",
    "        normalized_text = lem.lemmatize(word, 'v')\n",
    "        normalized_tweet.append(normalized_text)\n",
    "    return normalized_tweet\n",
    "\n",
    "\n",
    "Final_words_train = [] \n",
    "Final_words_test = []\n",
    "\n",
    "\n",
    "for data in new_df_train['Text']:\n",
    "    filtered = normalization(no_user_alpha(form_sentence(data)))\n",
    "    word_Final = ' '.join(filtered)\n",
    "    Final_words_train.append(word_Final)\n",
    "    \n",
    "#for data in new_df_test['text']:\n",
    "#    filtered = normalization(no_user_alpha(form_sentence(data)))\n",
    "#    word_Final = ' '.join(filtered)\n",
    "#    Final_words_test.append(word_Final)\n",
    "\n",
    "\n",
    "# store preprocessed data to new dataframe called final_bodyTrain    \n",
    "    \n",
    "final_bodyTrain = pd.DataFrame(Final_words_train, columns=['body'])\n",
    "#final_bodyTest = pd.DataFrame(Final_words_test, columns=['body'])"
   ]
  },
  {
   "cell_type": "code",
   "execution_count": 31,
   "metadata": {},
   "outputs": [],
   "source": [
    "final_bodyTrain['body'] = final_bodyTrain['body'].str.lower()\n",
    "#final_bodyTest['body'] = final_bodyTest['body'].str.lower()"
   ]
  },
  {
   "cell_type": "code",
   "execution_count": 32,
   "metadata": {},
   "outputs": [
    {
     "data": {
      "text/plain": [
       "0       formatter new javadoc formatter wrongly indent...\n",
       "1                 internal error occur updating workspace\n",
       "2       null correlation spurious null pointer access ...\n",
       "3       astrewrite support replace n nod nod better ma...\n",
       "4       unit test test framework mix vmargs vs extravm...\n",
       "                              ...                        \n",
       "3624      create build script anymore npe throw operation\n",
       "3625                                  p support p install\n",
       "3626                                            dead code\n",
       "3627        bundleentry iconuris rewrite durable platform\n",
       "3628    schema editors update icons extension point el...\n",
       "Name: body, Length: 3629, dtype: object"
      ]
     },
     "execution_count": 32,
     "metadata": {},
     "output_type": "execute_result"
    }
   ],
   "source": [
    "final_bodyTrain['body']"
   ]
  },
  {
   "cell_type": "markdown",
   "metadata": {},
   "source": [
    "# include our filter method to identify the features"
   ]
  },
  {
   "cell_type": "code",
   "execution_count": 11,
   "metadata": {},
   "outputs": [
    {
     "data": {
      "image/png": "[encoded data removed]",
      "text/plain": [
       "<Figure size 1152x576 with 1 Axes>"
      ]
     },
     "metadata": {
      "needs_background": "light"
     },
     "output_type": "display_data"
    }
   ],
   "source": [
    "from sklearn.feature_selection import chi2\n",
    "tfidf = TfidfVectorizer(max_features=30000,ngram_range=(1, 3))\n",
    "X_tfidf = tfidf.fit_transform(final_bodyTrain.body)\n",
    "y = new_df_train.Label\n",
    "chi2score = chi2(X_tfidf, y)[0]\n",
    "\n",
    "\n",
    "plt.figure(figsize=(16,8))\n",
    "scores = list(zip(tfidf.get_feature_names(), chi2score))\n",
    "chi2 = sorted(scores, key=lambda x:x[1])\n",
    "topchi2 = list(zip(*chi2[-20:]))\n",
    "x = range(len(topchi2[1]))\n",
    "labels = topchi2[0]\n",
    "plt.barh(x,topchi2[1], align='center', alpha=0.5)\n",
    "plt.plot(topchi2[1], x, '-o', markersize=5, alpha=0.8)\n",
    "plt.yticks(x, labels)\n",
    "plt.xlabel('value')\n",
    "plt.show();"
   ]
  },
  {
   "cell_type": "code",
   "execution_count": 161,
   "metadata": {},
   "outputs": [
    {
     "data": {
      "text/plain": [
       "[('width', 0.006207398759425105),\n",
       " ('enter', 0.039844629724911845),\n",
       " ('get', 0.08103681558327643),\n",
       " ('still', 0.11545242134281025),\n",
       " ('function', 0.13087028852332036),\n",
       " ('sometimes', 0.13705097347429135),\n",
       " ('image', 0.15197626120820018),\n",
       " ('every', 0.189783810574423),\n",
       " ('location', 0.19301427201908347),\n",
       " ('second', 0.19646130057191727),\n",
       " ('client', 0.2090101901108877),\n",
       " ('internal', 0.21512866889994378),\n",
       " ('map', 0.22099162899596111),\n",
       " ('open editor', 0.2236924683214036),\n",
       " ('proxy', 0.2376914865588135),\n",
       " ('another', 0.2378929892802126),\n",
       " ('tab width', 0.24083285989673356),\n",
       " ('show', 0.2498704616655407),\n",
       " ('flash', 0.2551136698340644),\n",
       " ('honor', 0.2603381515291237),\n",
       " ('configure', 0.2706098232138787),\n",
       " ('declaration', 0.28401261050465565),\n",
       " ('give', 0.28849371342361707),\n",
       " ('better', 0.28926369725484247),\n",
       " ('things', 0.2946947226580651),\n",
       " ('context menus', 0.3037602435421218),\n",
       " ('pick', 0.3073282363462235),\n",
       " ('reuse', 0.3108124389824102),\n",
       " ('dispose', 0.3130623014983297),\n",
       " ('internal error occur', 0.31796985663975524),\n",
       " ('invoke', 0.32056648853748215),\n",
       " ('error occur', 0.3349365367765706),\n",
       " ('think', 0.33624450125673044),\n",
       " ('since', 0.33748563587137437),\n",
       " ('widget dispose', 0.34282311182163794),\n",
       " ('cancel', 0.34594196854373593),\n",
       " ('find', 0.3469870839859491),\n",
       " ('always', 0.34835339791336023),\n",
       " ('expand', 0.35159598457675917),\n",
       " ('visible', 0.35323185047560374),\n",
       " ('time', 0.3648718050959016),\n",
       " ('call', 0.3670954242578362),\n",
       " ('menus', 0.36868565355469773),\n",
       " ('problem', 0.3716808574184221),\n",
       " ('share', 0.3743686157235101),\n",
       " ('close', 0.38396143295535917),\n",
       " ('ignore', 0.38691777627822155),\n",
       " ('host', 0.4029088659500156),\n",
       " ('duplicate', 0.40436288567827144),\n",
       " ('navigate', 0.4055048983209546),\n",
       " ('menu item', 0.41263482251518613),\n",
       " ('english', 0.4148517367287571),\n",
       " ('may', 0.416351619710605),\n",
       " ('yet', 0.4166187244070769),\n",
       " ('resources', 0.4187635765880022),\n",
       " ('elements', 0.42237963892986624),\n",
       " ('limit', 0.43004542122392764),\n",
       " ('existing', 0.4373601800803189),\n",
       " ('package explorer', 0.452537253315814),\n",
       " ('line break', 0.45431520730337044),\n",
       " ('view menu', 0.4619135978340261),\n",
       " ('path', 0.4620231988459927),\n",
       " ('new api', 0.46221437449619757),\n",
       " ('temporary', 0.4627356531172244),\n",
       " ('example', 0.46400214402488554),\n",
       " ('place', 0.4648355920370373),\n",
       " ('test fail', 0.46965818659727737),\n",
       " ('outside', 0.47078903257956406),\n",
       " ('reference find', 0.4719019894468184),\n",
       " ('back', 0.4745420537357426),\n",
       " ('remove', 0.47591192291264806),\n",
       " ('junit test', 0.4766301182867094),\n",
       " ('cause eclipse', 0.4779899781928432),\n",
       " ('checkboxes', 0.48052722740160125),\n",
       " ('javadoc code', 0.48426881458016663),\n",
       " ('bottom', 0.4910704154956137),\n",
       " ('ability', 0.49433750364084095),\n",
       " ('small', 0.4997021618794082),\n",
       " ('useless', 0.5033792072246807),\n",
       " ('assign', 0.5086939443437861),\n",
       " ('warning', 0.5097193445129374),\n",
       " ('turn', 0.5103978163256154),\n",
       " ('compute', 0.5118910281835823),\n",
       " ('need', 0.5121368661135031),\n",
       " ('eclipse instal', 0.5152599880695106),\n",
       " ('view content', 0.5158245572695526),\n",
       " ('common', 0.5189741501451813),\n",
       " ('pressing', 0.5194638328387444),\n",
       " ('occur', 0.5196496422103448),\n",
       " ('stream', 0.5221239321009744),\n",
       " ('uri', 0.5230381308176556),\n",
       " ('restriction', 0.524969034294857),\n",
       " ('go', 0.5252071770518302),\n",
       " ('headless', 0.5300601533522671),\n",
       " ('keep', 0.5305512515143372),\n",
       " ('target location', 0.532620394591339),\n",
       " ('execute', 0.5327277386303787),\n",
       " ('box', 0.5365054307139953),\n",
       " ('members', 0.5418622700005316),\n",
       " ('generic type', 0.5437960953156143),\n",
       " ('explorer', 0.5441078832305777),\n",
       " ('copy paste', 0.551184156921841),\n",
       " ('hook', 0.5522746897758832),\n",
       " ('initial', 0.5531041688892291),\n",
       " ('change event', 0.5545800589515627),\n",
       " ('foreground', 0.5575755312204669),\n",
       " ('store', 0.5582553309447492),\n",
       " ('minor', 0.5645006839315251),\n",
       " ('user', 0.5647383310373235),\n",
       " ('locate', 0.5657530720547115),\n",
       " ('internal error', 0.5667658502371389),\n",
       " ('annotate', 0.5689366946983824),\n",
       " ('help context', 0.5702175984685658),\n",
       " ('aka', 0.5728861763566621),\n",
       " ('current', 0.5758286462253374),\n",
       " ('runnable', 0.5761549883283728),\n",
       " ('scale', 0.5769379345438161),\n",
       " ('leak', 0.5770460967688115),\n",
       " ('contribution', 0.5773687561715454),\n",
       " ('project workspace', 0.5778194340532896),\n",
       " ('make', 0.5789364890185712),\n",
       " ('properties view', 0.5799126811526732),\n",
       " ('cycle', 0.5814735870565925),\n",
       " ('file name', 0.5824185207762189),\n",
       " ('ids', 0.5838289198247028),\n",
       " ('change sets', 0.5857049785224946),\n",
       " ('sets', 0.5857049785224946),\n",
       " ('exceptions log', 0.5862320144217833),\n",
       " ('take long', 0.5875381337527451),\n",
       " ('set correctly', 0.5880429115421484),\n",
       " ('enable', 0.5896228912997659),\n",
       " ('prefs', 0.5943936984205905),\n",
       " ('open type', 0.5970427044877662),\n",
       " ('change require', 0.6001430255912631),\n",
       " ('incorrect source', 0.6006263113071724),\n",
       " ('appear', 0.6008127328580606),\n",
       " ('modify', 0.6014316977499807),\n",
       " ('cause npe', 0.6043001620123543),\n",
       " ('support', 0.6048728527478467),\n",
       " ('eclipse crash', 0.6060636597601343),\n",
       " ('would like', 0.6081638553854205),\n",
       " ('filters', 0.608454801866872),\n",
       " ('miss since', 0.6089638647966136),\n",
       " ('regardless', 0.6111127247766243),\n",
       " ('work properly', 0.6164089758337828),\n",
       " ('apitools', 0.6204544056573584),\n",
       " ('plugin version', 0.6212702806788837),\n",
       " ('dispose error', 0.6231988744786091),\n",
       " ('widget dispose error', 0.6231988744786091),\n",
       " ('unknown', 0.6245139720862254),\n",
       " ('activitymgmt', 0.6250537214046061),\n",
       " ('npe try', 0.6265270518757431),\n",
       " ('concurrent', 0.6265373611007614),\n",
       " ('show history', 0.6293848138658763),\n",
       " ('entries', 0.6300088471931695),\n",
       " ('ok', 0.6301280838401423),\n",
       " ('key quick', 0.6310805699902742),\n",
       " ('associate', 0.6327786757950985),\n",
       " ('cpu', 0.6340950918652513),\n",
       " ('symbolic', 0.6342014460674292),\n",
       " ('headless mode', 0.6343744026737975),\n",
       " ('specific project', 0.635260634378296),\n",
       " ('dcr', 0.6355909993566501),\n",
       " ('java search page', 0.6359587524299815),\n",
       " ('depend', 0.6366179069527926),\n",
       " ('file edit', 0.6372183537068526),\n",
       " ('via keyboard', 0.6373915307151479),\n",
       " ('review', 0.6375835173429075),\n",
       " ('dont', 0.6380911682249218),\n",
       " ('point path', 0.6384122566219452),\n",
       " ('path contain', 0.6393976596282858),\n",
       " ('dialog need', 0.6400350546895968),\n",
       " ('automatically', 0.6407784333057268),\n",
       " ('instead', 0.6418787315082626),\n",
       " ('bar', 0.6432828227453968),\n",
       " ('freeze second', 0.6447507245096329),\n",
       " ('utf', 0.6449887561140459),\n",
       " ('use type', 0.6467538948464471),\n",
       " ('overload', 0.647920882107018),\n",
       " ('register', 0.6486679965125306),\n",
       " ('getting', 0.6504497795910886),\n",
       " ('runtime', 0.6508431164189397),\n",
       " ('show error', 0.6515691212269128),\n",
       " ('general workspace', 0.6526167975292057),\n",
       " ('general workspace show', 0.6526167975292057),\n",
       " ('location option', 0.6526167975292057),\n",
       " ('location option show', 0.6526167975292057),\n",
       " ('option show workspace', 0.6526167975292057),\n",
       " ('preferences general', 0.6526167975292057),\n",
       " ('preferences general workspace', 0.6526167975292057),\n",
       " ('preferences preferences general', 0.6526167975292057),\n",
       " ('workbench preferences', 0.6526167975292057),\n",
       " ('workbench preferences preferences', 0.6526167975292057),\n",
       " ('workspace location option', 0.6526167975292057),\n",
       " ('workspace show', 0.6526167975292057),\n",
       " ('workspace show workspace', 0.6526167975292057),\n",
       " ('license', 0.6542911679986567),\n",
       " ('page list', 0.655376105238647),\n",
       " ('wrong place', 0.6561301329705682),\n",
       " ('assist offer', 0.6564771122515672),\n",
       " ('prior', 0.6566249593836877),\n",
       " ('java syntax', 0.6566839639167117),\n",
       " ('internal class', 0.6580030150605408),\n",
       " ('help content', 0.6591838422553258),\n",
       " ('illegalargumentexception', 0.6604159108615941),\n",
       " ('bundle version', 0.6612968144683942),\n",
       " ('arrow key', 0.6648108466124354),\n",
       " ('source file', 0.668272884968899),\n",
       " ('file use', 0.6690463426278705),\n",
       " ('splash', 0.6691985603583278),\n",
       " ('splash screen', 0.6691985603583278),\n",
       " ('tree items', 0.6700296255871521),\n",
       " ('code completion code', 0.6702613861987683),\n",
       " ('code completion window', 0.6702613861987683),\n",
       " ('completion code', 0.6702613861987683),\n",
       " ('completion code completion', 0.6702613861987683),\n",
       " ('completion window', 0.6702613861987683),\n",
       " ('completion window freeze', 0.6702613861987683),\n",
       " ('enter new', 0.6702613861987683),\n",
       " ('enter new character', 0.6702613861987683),\n",
       " ('file use code', 0.6702613861987683),\n",
       " ('freeze second enter', 0.6702613861987683),\n",
       " ('jar file use', 0.6702613861987683),\n",
       " ('javadoc location jar', 0.6702613861987683),\n",
       " ('location jar', 0.6702613861987683),\n",
       " ('location jar file', 0.6702613861987683),\n",
       " ('new character', 0.6702613861987683),\n",
       " ('second enter', 0.6702613861987683),\n",
       " ('second enter new', 0.6702613861987683),\n",
       " ('set javadoc', 0.6702613861987683),\n",
       " ('set javadoc location', 0.6702613861987683),\n",
       " ('use code', 0.6702613861987683),\n",
       " ('use code completion', 0.6702613861987683),\n",
       " ('window freeze', 0.6702613861987683),\n",
       " ('window freeze second', 0.6702613861987683),\n",
       " ('customize', 0.6704220020312349),\n",
       " ('allow global', 0.6714033660026559),\n",
       " ('fatal', 0.6714188015157923),\n",
       " ('fatal error', 0.6714188015157923),\n",
       " ('select build', 0.6714276353877964),\n",
       " ('listener', 0.6717753854919155),\n",
       " ('contain space', 0.672077652241175),\n",
       " ('overflow', 0.6732217442012354),\n",
       " ('stack overflow', 0.6732217442012354),\n",
       " ('throw illegalargumentexception', 0.6741607250147024),\n",
       " ('add realize', 0.6742244094013715),\n",
       " ('add realize shell', 0.6742244094013715),\n",
       " ('events add', 0.6742244094013715),\n",
       " ('events add realize', 0.6742244094013715),\n",
       " ('gtk text widget', 0.6742244094013715),\n",
       " ('mouse track', 0.6742244094013715),\n",
       " ('mouse track events', 0.6742244094013715),\n",
       " ('multi send', 0.6742244094013715),\n",
       " ('multi send mouse', 0.6742244094013715),\n",
       " ('realize', 0.6742244094013715),\n",
       " ('realize shell', 0.6742244094013715),\n",
       " ('realize shell bbawt', 0.6742244094013715),\n",
       " ('send mouse', 0.6742244094013715),\n",
       " ('send mouse track', 0.6742244094013715),\n",
       " ('shell bbawt', 0.6742244094013715),\n",
       " ('style multi', 0.6742244094013715),\n",
       " ('style multi send', 0.6742244094013715),\n",
       " ('text widget style', 0.6742244094013715),\n",
       " ('track events', 0.6742244094013715),\n",
       " ('track events add', 0.6742244094013715),\n",
       " ('widget style', 0.6742244094013715),\n",
       " ('widget style multi', 0.6742244094013715),\n",
       " ('error status', 0.6747042983437129),\n",
       " ('obtain', 0.6750673917656933),\n",
       " ('property page', 0.6758157449679055),\n",
       " ('reloading', 0.6799140748065061),\n",
       " ('kepler sr', 0.6803076649308456),\n",
       " ('suggest', 0.6812803752022127),\n",
       " ('dynamic', 0.6815525734048022),\n",
       " ('forms', 0.6826096360212849),\n",
       " ('output folder', 0.6834254999093617),\n",
       " ('javadoc code assist', 0.6836068104604487),\n",
       " ('one start', 0.6837301486854277),\n",
       " ('view filter', 0.6838979909086081),\n",
       " ('guess', 0.6839589712646836),\n",
       " ('deleting', 0.6856552074745171),\n",
       " ('deselect', 0.6867692624420978),\n",
       " ('property set', 0.6869185376275617),\n",
       " ('select project', 0.6876358469328563),\n",
       " ('existing project', 0.6885186218806154),\n",
       " ('import existing', 0.6885186218806154),\n",
       " ('import existing project', 0.6885186218806154),\n",
       " ('tabs', 0.6906804560650421),\n",
       " ('constrain', 0.69123002042031),\n",
       " ('path variable', 0.6937321411842942),\n",
       " ('ok button', 0.6938832389545532),\n",
       " ('screen', 0.6939228982739345),\n",
       " ('kind', 0.6940357655129099),\n",
       " ('irrelevant', 0.6944579824804193),\n",
       " ('remove code', 0.6955714504359698),\n",
       " ('helios', 0.6957473624637838),\n",
       " ('sync update', 0.6958431168775192),\n",
       " ('ui test', 0.6959695996900588),\n",
       " ('disallow', 0.6966628531402845),\n",
       " ('resize', 0.6968712140377191),\n",
       " ('mix', 0.6968767920964745),\n",
       " ('drag', 0.6981526088178361),\n",
       " ('work tree', 0.6986237154548142),\n",
       " ('gui', 0.6987027454708308),\n",
       " ('debug model', 0.6989199937263786),\n",
       " ('relative paths', 0.6989679480826473),\n",
       " ('cvs decoration', 0.699321956701779),\n",
       " ('string variables', 0.6996514489240153),\n",
       " ('decorator', 0.699800684253784),\n",
       " ('application', 0.7035356406748233),\n",
       " ('ant build file', 0.7036066581538226),\n",
       " ('name match', 0.7037118150756234),\n",
       " ('across workbench', 0.7042490276694205),\n",
       " ('persist across', 0.7042490276694205),\n",
       " ('persist across workbench', 0.7042490276694205),\n",
       " ('problem markers', 0.7058376012184175),\n",
       " ('file update', 0.705909326680781),\n",
       " ('wizard properly', 0.7059338977931375),\n",
       " ('might', 0.7064349302380674),\n",
       " ('location exist', 0.7078894278395974),\n",
       " ('search java', 0.7095725241613198),\n",
       " ('method unresolved', 0.7096050006458727),\n",
       " ('binding', 0.7101209879881677),\n",
       " ('black', 0.7101682413765406),\n",
       " ('show multiple', 0.7107099420670322),\n",
       " ('java project', 0.7107906708021999),\n",
       " ('class file', 0.7113830226954747),\n",
       " ('sit', 0.711568960555338),\n",
       " ('class array', 0.7116200665396366),\n",
       " ('builder create', 0.7116789038989991),\n",
       " ('rather', 0.7126488671152554),\n",
       " ('update classpath', 0.713027797195086),\n",
       " ('signatures', 0.7132579698161735),\n",
       " ('stay', 0.7144404625441437),\n",
       " ('directly', 0.7146540610880128),\n",
       " ('insert extra', 0.7154661190927687),\n",
       " ('api tools', 0.7165262086707574),\n",
       " ('multi', 0.7165355806347301),\n",
       " ('lion', 0.7172791635675485),\n",
       " ('macos lion', 0.7172791635675485),\n",
       " ('favorites', 0.7175557492003506),\n",
       " ('graphic', 0.7195504566282188),\n",
       " ('graphic dispose', 0.7195504566282188),\n",
       " ('proposals', 0.7196465909584919),\n",
       " ('delete key', 0.7201156984652036),\n",
       " ('switcher', 0.720191495880147),\n",
       " ('go wrong', 0.7204490403284939),\n",
       " ('vm args', 0.7208494309410759),\n",
       " ('working', 0.7209141258889536),\n",
       " ('always show change', 0.721448737000636),\n",
       " ('change two', 0.721448737000636),\n",
       " ('change two branch', 0.721448737000636),\n",
       " ('contain logical', 0.721448737000636),\n",
       " ('contain logical model', 0.721448737000636),\n",
       " ('logical model', 0.721448737000636),\n",
       " ('logical model always', 0.721448737000636),\n",
       " ('merge operation', 0.721448737000636),\n",
       " ('merge operation project', 0.721448737000636),\n",
       " ('model always', 0.721448737000636),\n",
       " ('model always show', 0.721448737000636),\n",
       " ('operation project', 0.721448737000636),\n",
       " ('operation project contain', 0.721448737000636),\n",
       " ('project contain', 0.721448737000636),\n",
       " ('project contain logical', 0.721448737000636),\n",
       " ('show change', 0.721448737000636),\n",
       " ('show change two', 0.721448737000636),\n",
       " ('team merge', 0.721448737000636),\n",
       " ('team merge operation', 0.721448737000636),\n",
       " ('two branch', 0.721448737000636),\n",
       " ('attribute plugin', 0.7229070145941389),\n",
       " ('attribute plugin element', 0.7229070145941389),\n",
       " ('character invalid', 0.7229070145941389),\n",
       " ('character invalid specify', 0.7229070145941389),\n",
       " ('contain dash', 0.7229070145941389),\n",
       " ('contain dash character', 0.7229070145941389),\n",
       " ('dash', 0.7229070145941389),\n",
       " ('dash character', 0.7229070145941389),\n",
       " ('dash character invalid', 0.7229070145941389),\n",
       " ('id attribute', 0.7229070145941389),\n",
       " ('id attribute plugin', 0.7229070145941389),\n",
       " ('invalid specify', 0.7229070145941389),\n",
       " ('invalid specify id', 0.7229070145941389),\n",
       " ('name contain dash', 0.7229070145941389),\n",
       " ('pde warn', 0.7229070145941389),\n",
       " ('pde warn symbolic', 0.7229070145941389),\n",
       " ('plugin element', 0.7229070145941389),\n",
       " ('specify id', 0.7229070145941389),\n",
       " ('specify id attribute', 0.7229070145941389),\n",
       " ('symbolic name', 0.7229070145941389),\n",
       " ('symbolic name contain', 0.7229070145941389),\n",
       " ('warn symbolic', 0.7229070145941389),\n",
       " ('warn symbolic name', 0.7229070145941389),\n",
       " ('project file', 0.723738395320535),\n",
       " ('rendering', 0.7242549138904626),\n",
       " ('text edit', 0.7244989585013684),\n",
       " ('assist wrong', 0.7245904981816585),\n",
       " ('show english', 0.7249467202421019),\n",
       " ('arguments cause', 0.7250606126801481),\n",
       " ('arguments cause eclipse', 0.7250606126801481),\n",
       " ('cause eclipse motif', 0.7250606126801481),\n",
       " ('character run', 0.7250606126801481),\n",
       " ('character run arguments', 0.7250606126801481),\n",
       " ('dbcs gb', 0.7250606126801481),\n",
       " ('dbcs gb input', 0.7250606126801481),\n",
       " ('gb character', 0.7250606126801481),\n",
       " ('gb character run', 0.7250606126801481),\n",
       " ('gb input', 0.7250606126801481),\n",
       " ('gb input gb', 0.7250606126801481),\n",
       " ('input gb', 0.7250606126801481),\n",
       " ('input gb character', 0.7250606126801481),\n",
       " ('run arguments', 0.7250606126801481),\n",
       " ('run arguments cause', 0.7250606126801481),\n",
       " ('anymore', 0.7261095628098216),\n",
       " ('specific', 0.726351215566932),\n",
       " ('fails', 0.7266083509806025),\n",
       " ('machine', 0.726611012197784),\n",
       " ('property change', 0.7270241181452303),\n",
       " ('associations', 0.727404224866283),\n",
       " ('name contain', 0.7284990448953959),\n",
       " ('npe close', 0.7291240147158775),\n",
       " ('upgrade', 0.7292007361135142),\n",
       " ('fully qualify', 0.7294215990306597),\n",
       " ('security', 0.7297679098405893),\n",
       " ('need context', 0.72987525286762),\n",
       " ('add miss', 0.7304793888409553),\n",
       " ('new feature', 0.7319741270777337),\n",
       " ('java model', 0.7320960946521896),\n",
       " ('build cause', 0.7323724101432258),\n",
       " ('exit build', 0.7335430175939931),\n",
       " ('show tooltip', 0.7336484636111568),\n",
       " ('show tooltip description', 0.7336484636111568),\n",
       " ('tooltip description', 0.7336484636111568),\n",
       " ('stylesheet', 0.7348801921385367),\n",
       " ('nls string', 0.735686687223537),\n",
       " ('target default', 0.7359964317293576),\n",
       " ('horizontal', 0.7370754850589297),\n",
       " ('able', 0.7373184942759199),\n",
       " ('checkout', 0.7374169980043698),\n",
       " ('source range', 0.7379075270279924),\n",
       " ('improvements', 0.7391087190839478),\n",
       " ('allow source', 0.7393691536788832),\n",
       " ('spaces', 0.7401006567549907),\n",
       " ('timestamp', 0.7412759767317704),\n",
       " ('super slow', 0.7413649768543358),\n",
       " ('change notification', 0.7414710817530988),\n",
       " ('current line', 0.7420248374689471),\n",
       " ('empty space', 0.742525675921889),\n",
       " ('empty space bottom', 0.742525675921889),\n",
       " ('space bottom', 0.742525675921889),\n",
       " ('basic tutorial', 0.7429398542291158),\n",
       " ('basic tutorial simple', 0.7429398542291158),\n",
       " ('file name unnecessarily', 0.7429398542291158),\n",
       " ('getting started', 0.7429398542291158),\n",
       " ('getting started basic', 0.7429398542291158),\n",
       " ('guide getting', 0.7429398542291158),\n",
       " ('guide getting started', 0.7429398542291158),\n",
       " ('limit file', 0.7429398542291158),\n",
       " ('limit file name', 0.7429398542291158),\n",
       " ('name unnecessarily', 0.7429398542291158),\n",
       " ('project step', 0.7429398542291158),\n",
       " ('project step limit', 0.7429398542291158),\n",
       " ('simple', 0.7429398542291158),\n",
       " ('simple project', 0.7429398542291158),\n",
       " ('simple project step', 0.7429398542291158),\n",
       " ('started', 0.7429398542291158),\n",
       " ('started basic', 0.7429398542291158),\n",
       " ('started basic tutorial', 0.7429398542291158),\n",
       " ('step limit', 0.7429398542291158),\n",
       " ('step limit file', 0.7429398542291158),\n",
       " ('tutorial simple', 0.7429398542291158),\n",
       " ('tutorial simple project', 0.7429398542291158),\n",
       " ('user guide', 0.7429398542291158),\n",
       " ('user guide getting', 0.7429398542291158),\n",
       " ('workbench user guide', 0.7429398542291158),\n",
       " ('options', 0.7429400248443457),\n",
       " ('invisible', 0.7430643228873139),\n",
       " ('render', 0.7436784968267257),\n",
       " ('build swt', 0.74418125239616),\n",
       " ('build swt test', 0.74418125239616),\n",
       " ('classpath build', 0.74418125239616),\n",
       " ('classpath build swt', 0.74418125239616),\n",
       " ('fragment miss', 0.74418125239616),\n",
       " ('fragment miss classpath', 0.74418125239616),\n",
       " ('miss classpath', 0.74418125239616),\n",
       " ('miss classpath build', 0.74418125239616),\n",
       " ('move tycho', 0.74418125239616),\n",
       " ('move tycho snapshot', 0.74418125239616),\n",
       " ('swt fragment', 0.74418125239616),\n",
       " ('swt fragment miss', 0.74418125239616),\n",
       " ('swt test', 0.74418125239616),\n",
       " ('swt test tool', 0.74418125239616),\n",
       " ('test tool', 0.74418125239616),\n",
       " ('test tool move', 0.74418125239616),\n",
       " ('tool move', 0.74418125239616),\n",
       " ('tool move tycho', 0.74418125239616),\n",
       " ('tycho', 0.74418125239616),\n",
       " ('tycho snapshot', 0.74418125239616),\n",
       " ('noclassdeffounderror', 0.7450769823732821),\n",
       " ('overwrite exist', 0.7454411413585986),\n",
       " ('editor indicate', 0.7458613358889029),\n",
       " ('classpath container', 0.7459931791609856),\n",
       " ('template code', 0.7481710207988004),\n",
       " ('eclipse quick', 0.7486009558914496),\n",
       " ('eclipse quick switch', 0.7486009558914496),\n",
       " ('editor show file', 0.7486009558914496),\n",
       " ('file name mouse', 0.7486009558914496),\n",
       " ('hover similar', 0.7486009558914496),\n",
       " ('hover similar file', 0.7486009558914496),\n",
       " ('mouse hover', 0.7486009558914496),\n",
       " ('mouse hover similar', 0.7486009558914496),\n",
       " ('name mouse', 0.7486009558914496),\n",
       " ('name mouse hover', 0.7486009558914496),\n",
       " ('quick switch', 0.7486009558914496),\n",
       " ('quick switch editor', 0.7486009558914496),\n",
       " ('show file', 0.7486009558914496),\n",
       " ('show file name', 0.7486009558914496),\n",
       " ('similar', 0.7486009558914496),\n",
       " ('similar file', 0.7486009558914496),\n",
       " ('similar file name', 0.7486009558914496),\n",
       " ('switch editor show', 0.7486009558914496),\n",
       " ('menu items', 0.7493503668448037),\n",
       " ('new build', 0.7496385103508223),\n",
       " ('unavailable', 0.7502961357848569),\n",
       " ('menu show', 0.7503841817113819),\n",
       " ('relative', 0.7505458999687671),\n",
       " ('dont increment', 0.7518316214316006),\n",
       " ('dont increment sequence', 0.7518316214316006),\n",
       " ('increment sequence', 0.7518316214316006),\n",
       " ('increment sequence number', 0.7518316214316006),\n",
       " ('number reload', 0.7518316214316006),\n",
       " ('number reload provide', 0.7518316214316006),\n",
       " ('patch target dont', 0.7518316214316006),\n",
       " ('provide tooltips', 0.7518316214316006),\n",
       " ('provide tooltips reload', 0.7518316214316006),\n",
       " ('reload provide', 0.7518316214316006),\n",
       " ('reload provide tooltips', 0.7518316214316006),\n",
       " ('reload update', 0.7518316214316006),\n",
       " ('sequence number', 0.7518316214316006),\n",
       " ('sequence number reload', 0.7518316214316006),\n",
       " ('target dont', 0.7518316214316006),\n",
       " ('target dont increment', 0.7518316214316006),\n",
       " ('tooltips reload', 0.7518316214316006),\n",
       " ('tooltips reload update', 0.7518316214316006),\n",
       " ('build time', 0.7520764268246694),\n",
       " ('angle', 0.7527956146512852),\n",
       " ('angle bracket', 0.7527956146512852),\n",
       " ('add nl', 0.7529973105317642),\n",
       " ('add nl icon', 0.7529973105317642),\n",
       " ('bidi need', 0.7529973105317642),\n",
       " ('bidi need add', 0.7529973105317642),\n",
       " ('icon paths', 0.7529973105317642),\n",
       " ('icon paths reverse', 0.7529973105317642),\n",
       " ('need add', 0.7529973105317642),\n",
       " ('need add nl', 0.7529973105317642),\n",
       " ('nl icon', 0.7529973105317642),\n",
       " ('nl icon paths', 0.7529973105317642),\n",
       " ('paths reverse', 0.7529973105317642),\n",
       " ('paths reverse icons', 0.7529973105317642),\n",
       " ('reverse', 0.7529973105317642),\n",
       " ('reverse icons', 0.7529973105317642),\n",
       " ('tag api', 0.7532872758860918),\n",
       " ('creation', 0.7536777714931847),\n",
       " ('comment format', 0.7541336668885384),\n",
       " ('clipboard use', 0.7543497974873733),\n",
       " ('clipboard use utf', 0.7543497974873733),\n",
       " ('compatible paste', 0.7543497974873733),\n",
       " ('copy clipboard', 0.7543497974873733),\n",
       " ('copy clipboard use', 0.7543497974873733),\n",
       " ('htmltransfer', 0.7543497974873733),\n",
       " ('htmltransfer use', 0.7543497974873733),\n",
       " ('htmltransfer use utf', 0.7543497974873733),\n",
       " ('use utf compatible', 0.7543497974873733),\n",
       " ('use utf copy', 0.7543497974873733),\n",
       " ('utf compatible', 0.7543497974873733),\n",
       " ('utf compatible paste', 0.7543497974873733),\n",
       " ('utf copy', 0.7543497974873733),\n",
       " ('utf copy clipboard', 0.7543497974873733),\n",
       " ('size change', 0.7547006014196006),\n",
       " ('anything', 0.7550112228601619),\n",
       " ('delta problems', 0.7550112228601619),\n",
       " ('delta problems view', 0.7550112228601619),\n",
       " ('flash launch', 0.7550112228601619),\n",
       " ('flash launch anything', 0.7550112228601619),\n",
       " ('launch anything', 0.7550112228601619),\n",
       " ('marker view', 0.7550112228601619),\n",
       " ('marker view update', 0.7550112228601619),\n",
       " ('markers marker', 0.7550112228601619),\n",
       " ('markers marker view', 0.7550112228601619),\n",
       " ('problems view flash', 0.7550112228601619),\n",
       " ('resource delta', 0.7550112228601619),\n",
       " ('resource delta problems', 0.7550112228601619),\n",
       " ('update resource', 0.7550112228601619),\n",
       " ('update resource delta', 0.7550112228601619),\n",
       " ('view flash', 0.7550112228601619),\n",
       " ('view flash launch', 0.7550112228601619),\n",
       " ('view update resource', 0.7550112228601619),\n",
       " ('java code', 0.7551979001751602),\n",
       " ('view always', 0.755496762501913),\n",
       " ('buildpath', 0.7559780676132137),\n",
       " ('generate doc', 0.7566927855505013),\n",
       " ('view menu item', 0.7567935979019436),\n",
       " ('verify', 0.7570090688841651),\n",
       " ('checking', 0.7572170882780582),\n",
       " ('understand', 0.757262527795675),\n",
       " ('declarations', 0.7572796984643577),\n",
       " ('default color', 0.7577655935425588),\n",
       " ('event detail', 0.7581064986255773),\n",
       " ('command menu', 0.7582156283038276),\n",
       " ('blank label', 0.7591200059098892),\n",
       " ('expand result', 0.7591200059098892),\n",
       " ('expand result blank', 0.7591200059098892),\n",
       " ('logical structure expand', 0.7591200059098892),\n",
       " ('logical structure stepping', 0.7591200059098892),\n",
       " ('result blank', 0.7591200059098892),\n",
       " ('result blank label', 0.7591200059098892),\n",
       " ('stepping logical', 0.7591200059098892),\n",
       " ('stepping logical structure', 0.7591200059098892),\n",
       " ('structure expand', 0.7591200059098892),\n",
       " ('structure expand result', 0.7591200059098892),\n",
       " ('structure stepping', 0.7591200059098892),\n",
       " ('structure stepping logical', 0.7591200059098892),\n",
       " ('dialog show', 0.7593338123963882),\n",
       " ('label', 0.7596036903666374),\n",
       " ('controldecoration', 0.7596179399659435),\n",
       " ('cause exception', 0.7607127855924877),\n",
       " ('editor set', 0.760804188937419),\n",
       " ('view name', 0.7608298444924229),\n",
       " ('file action', 0.761511496753832),\n",
       " ('finish', 0.7615678982046094),\n",
       " ('error write console', 0.7616897351187587),\n",
       " ('fatal error write', 0.7616897351187587),\n",
       " ('class handle', 0.7620935945564126),\n",
       " ('class handle not_a_value', 0.7620935945564126),\n",
       " ('class may', 0.7620935945564126),\n",
       " ('class may register', 0.7620935945564126),\n",
       " ('handle not_a_value', 0.7620935945564126),\n",
       " ('ieclipsecontext', 0.7620935945564126),\n",
       " ('ieclipsecontext class', 0.7620935945564126),\n",
       " ('ieclipsecontext class handle', 0.7620935945564126),\n",
       " ('invalid service', 0.7620935945564126),\n",
       " ('invalid service object', 0.7620935945564126),\n",
       " ('may register', 0.7620935945564126),\n",
       " ('may register invalid', 0.7620935945564126),\n",
       " ('not_a_value', 0.7620935945564126),\n",
       " ('object ieclipsecontext', 0.7620935945564126),\n",
       " ('object ieclipsecontext class', 0.7620935945564126),\n",
       " ('register invalid', 0.7620935945564126),\n",
       " ('register invalid service', 0.7620935945564126),\n",
       " ('service object', 0.7620935945564126),\n",
       " ('service object ieclipsecontext', 0.7620935945564126),\n",
       " ('servicelocator', 0.7620935945564126),\n",
       " ('servicelocator class', 0.7620935945564126),\n",
       " ('servicelocator class may', 0.7620935945564126),\n",
       " ('grey', 0.7624655474997816),\n",
       " ('scoped', 0.7625059047951297),\n",
       " ('increase', 0.7629022793424964),\n",
       " ('locate source', 0.7633087442542053),\n",
       " ('management', 0.7633199537921151),\n",
       " ('closing last', 0.7633680097917024),\n",
       " ('closing last perspective', 0.7633680097917024),\n",
       " ('last perspective', 0.7633680097917024),\n",
       " ('last perspective minimize', 0.7633680097917024),\n",
       " ('leave model', 0.7633680097917024),\n",
       " ('leave model strange', 0.7633680097917024),\n",
       " ('minimize perspective', 0.7633680097917024),\n",
       " ('minimize perspective stack', 0.7633680097917024),\n",
       " ('minmax', 0.7633680097917024),\n",
       " ('minmax closing', 0.7633680097917024),\n",
       " ('minmax closing last', 0.7633680097917024),\n",
       " ('model strange', 0.7633680097917024),\n",
       " ('model strange state', 0.7633680097917024),\n",
       " ('perspective minimize', 0.7633680097917024),\n",
       " ('perspective minimize perspective', 0.7633680097917024),\n",
       " ('perspective stack', 0.7633680097917024),\n",
       " ('perspective stack leave', 0.7633680097917024),\n",
       " ('stack leave', 0.7633680097917024),\n",
       " ('stack leave model', 0.7633680097917024),\n",
       " ('strange state', 0.7633680097917024),\n",
       " ('show empty', 0.7642414127398925),\n",
       " ('dialog support', 0.7645007484117502),\n",
       " ('externalize string wizard', 0.7649223110383021),\n",
       " ('string wizard', 0.7649223110383021),\n",
       " ('pde junit', 0.7650156036906279),\n",
       " ('pde junit test', 0.7650156036906279),\n",
       " ('content assist proposal', 0.7669042395398502),\n",
       " ('scan pref', 0.7675066049916341),\n",
       " ('scan pref page', 0.7675066049916341),\n",
       " ('use scan pref', 0.7675066049916341),\n",
       " ('development', 0.7678978263902791),\n",
       " ('anonymous class find', 0.7690659769744221),\n",
       " ('class find anonymous', 0.7690659769744221),\n",
       " ('find anonymous', 0.7690659769744221),\n",
       " ('find anonymous class', 0.7690659769744221),\n",
       " ('hierarchy search', 0.7690659769744221),\n",
       " ('hierarchy search involve', 0.7690659769744221),\n",
       " ('involve', 0.7690659769744221),\n",
       " ('involve lambda', 0.7690659769744221),\n",
       " ('involve lambda anonymous', 0.7690659769744221),\n",
       " ('lambda anonymous', 0.7690659769744221),\n",
       " ('lambda anonymous class', 0.7690659769744221),\n",
       " ('model hierarchy', 0.7690659769744221),\n",
       " ('model hierarchy search', 0.7690659769744221),\n",
       " ('search involve', 0.7690659769744221),\n",
       " ('search involve lambda', 0.7690659769744221),\n",
       " ('search model', 0.7690659769744221),\n",
       " ('search model hierarchy', 0.7690659769744221),\n",
       " ('workspace name', 0.7706631619977742),\n",
       " ('ref', 0.7710752708806081),\n",
       " ('bidi', 0.7711106918532341),\n",
       " ('new search', 0.7712068231145037),\n",
       " ('gb name', 0.772145944244832),\n",
       " ('gb name project', 0.772145944244832),\n",
       " ('gb view', 0.772145944244832),\n",
       " ('gb view project', 0.772145944244832),\n",
       " ('name project', 0.772145944244832),\n",
       " ('name project eclipse', 0.772145944244832),\n",
       " ('project eclipse', 0.772145944244832),\n",
       " ('project eclipse motif', 0.772145944244832),\n",
       " ('project properties gb', 0.772145944244832),\n",
       " ('properties gb', 0.772145944244832),\n",
       " ('properties gb name', 0.772145944244832),\n",
       " ('view project', 0.772145944244832),\n",
       " ('view project properties', 0.772145944244832),\n",
       " ('preference store', 0.7724553201134711),\n",
       " ('restrictions', 0.7728196155590996),\n",
       " ('large file', 0.7728447836150784),\n",
       " ('tab miss', 0.7736850977686907),\n",
       " ('ant separate java', 0.7744141780618606),\n",
       " ('ant target name', 0.7744141780618606),\n",
       " ('java virtual', 0.7744141780618606),\n",
       " ('java virtual machine', 0.7744141780618606),\n",
       " ('machine check', 0.7744141780618606),\n",
       " ('name quote', 0.7744141780618606),\n",
       " ('name quote run', 0.7744141780618606),\n",
       " ('quote run', 0.7744141780618606),\n",
       " ('quote run ant', 0.7744141780618606),\n",
       " ('separate java', 0.7744141780618606),\n",
       " ('separate java virtual', 0.7744141780618606),\n",
       " ('target name quote', 0.7744141780618606),\n",
       " ('virtual', 0.7744141780618606),\n",
       " ('virtual machine', 0.7744141780618606),\n",
       " ('virtual machine check', 0.7744141780618606),\n",
       " ('swt link', 0.7744604525478804),\n",
       " ('consistency', 0.7750248173959475),\n",
       " ('type parameter', 0.77508853924329),\n",
       " ('cause npes', 0.7754929507023418),\n",
       " ('layout', 0.777804856475061),\n",
       " ('well', 0.7778070732755293),\n",
       " ('providers', 0.7784671723407359),\n",
       " ('child', 0.7790508158094148),\n",
       " ('export think', 0.7797519372459285),\n",
       " ('export think standard', 0.7797519372459285),\n",
       " ('extension jar zip', 0.7797519372459285),\n",
       " ('jar export', 0.7797519372459285),\n",
       " ('jar export think', 0.7797519372459285),\n",
       " ('jar extension', 0.7797519372459285),\n",
       " ('jar extension jar', 0.7797519372459285),\n",
       " ('runnable jar', 0.7797519372459285),\n",
       " ('runnable jar export', 0.7797519372459285),\n",
       " ('standard jar', 0.7797519372459285),\n",
       " ('standard jar extension', 0.7797519372459285),\n",
       " ('think standard', 0.7797519372459285),\n",
       " ('think standard jar', 0.7797519372459285),\n",
       " ('standalone', 0.7797723149924216),\n",
       " ('fail build', 0.7798987650448619),\n",
       " ('italic', 0.7806749282642912),\n",
       " ('dcr code', 0.7814505237994035),\n",
       " ('assignment try', 0.7819484838888995),\n",
       " ('assignment try block', 0.7819484838888995),\n",
       " ('build problems', 0.7819484838888995),\n",
       " ('build problems instance', 0.7819484838888995),\n",
       " ('constructor parameter', 0.7819484838888995),\n",
       " ('constructor parameter name', 0.7819484838888995),\n",
       " ('instance variable', 0.7819484838888995),\n",
       " ('instance variable name', 0.7819484838888995),\n",
       " ('match constructor', 0.7819484838888995),\n",
       " ('match constructor parameter', 0.7819484838888995),\n",
       " ('name assignment', 0.7819484838888995),\n",
       " ('name assignment try', 0.7819484838888995),\n",
       " ('name match constructor', 0.7819484838888995),\n",
       " ('parameter name assignment', 0.7819484838888995),\n",
       " ('problems instance', 0.7819484838888995),\n",
       " ('problems instance variable', 0.7819484838888995),\n",
       " ('try block', 0.7819484838888995),\n",
       " ('variable name match', 0.7819484838888995),\n",
       " ('place breakpoint', 0.7820167986856459),\n",
       " ('dependencies indigo', 0.7821627839138038),\n",
       " ('dependencies indigo work', 0.7821627839138038),\n",
       " ('fails unsatisfied', 0.7821627839138038),\n",
       " ('fails unsatisfied dependencies', 0.7821627839138038),\n",
       " ('helios sr', 0.7821627839138038),\n",
       " ('indigo work', 0.7821627839138038),\n",
       " ('indigo work helios', 0.7821627839138038),\n",
       " ('platform resolution', 0.7821627839138038),\n",
       " ('platform resolution fails', 0.7821627839138038),\n",
       " ('resolution fails', 0.7821627839138038),\n",
       " ('resolution fails unsatisfied', 0.7821627839138038),\n",
       " ('target platform resolution', 0.7821627839138038),\n",
       " ('unsatisfied', 0.7821627839138038),\n",
       " ('unsatisfied dependencies', 0.7821627839138038),\n",
       " ('unsatisfied dependencies indigo', 0.7821627839138038),\n",
       " ('work helios', 0.7821627839138038),\n",
       " ('work helios sr', 0.7821627839138038),\n",
       " ('extra', 0.7826528346229696),\n",
       " ('red', 0.7836767292847344),\n",
       " ('free', 0.783877884622608),\n",
       " ('plugin name', 0.7841313495654357),\n",
       " ('one package', 0.7844018060246325),\n",
       " ('node', 0.7844947516921035),\n",
       " ('ui thread', 0.7845991752774637),\n",
       " ('run button', 0.7849066762067242),\n",
       " ('include package', 0.7849898992467714),\n",
       " ('eclipse open', 0.7853893881324914),\n",
       " ('fail file', 0.7859583611738906),\n",
       " ('block comment', 0.7863658106706471),\n",
       " ('contexts', 0.7864152017773258),\n",
       " ('internet', 0.786616034320841),\n",
       " ('lose', 0.7867368791696411),\n",
       " ('weird', 0.7877747819191945),\n",
       " ('code snippet', 0.7883405249412142),\n",
       " ('dependancy', 0.7883781086488233),\n",
       " ('activities', 0.7883993629120879),\n",
       " ('retrieve', 0.7886340978443132),\n",
       " ('sequence', 0.7889053864927944),\n",
       " ('produce incorrect', 0.7892077005529434),\n",
       " ('update target', 0.7895652630994744),\n",
       " ('anchor', 0.7906907882591376),\n",
       " ('example incorrect', 0.7907297445947382),\n",
       " ('annotationpainter repaint', 0.7910900495538353),\n",
       " ('annotationpainter repaint annotations', 0.7910900495538353),\n",
       " ('annotations entire', 0.7910900495538353),\n",
       " ('annotations entire document', 0.7910900495538353),\n",
       " ('annotations view', 0.7910900495538353),\n",
       " ('annotations view horizontally', 0.7910900495538353),\n",
       " ('document even', 0.7910900495538353),\n",
       " ('document even nonvisible', 0.7910900495538353),\n",
       " ('entire document', 0.7910900495538353),\n",
       " ('entire document even', 0.7910900495538353),\n",
       " ('even nonvisible', 0.7910900495538353),\n",
       " ('even nonvisible annotations', 0.7910900495538353),\n",
       " ('horizontally', 0.7910900495538353),\n",
       " ('horizontally scroll', 0.7910900495538353),\n",
       " ('nonvisible', 0.7910900495538353),\n",
       " ('nonvisible annotations', 0.7910900495538353),\n",
       " ('nonvisible annotations view', 0.7910900495538353),\n",
       " ('paint annotationpainter', 0.7910900495538353),\n",
       " ('paint annotationpainter repaint', 0.7910900495538353),\n",
       " ('repaint', 0.7910900495538353),\n",
       " ('repaint annotations', 0.7910900495538353),\n",
       " ('repaint annotations entire', 0.7910900495538353),\n",
       " ('view horizontally', 0.7910900495538353),\n",
       " ('view horizontally scroll', 0.7910900495538353),\n",
       " ('react', 0.7918949612164694),\n",
       " ('editor show', 0.7921421395339896),\n",
       " ('supertype', 0.7922187190336483),\n",
       " ('modifier', 0.7923590895298149),\n",
       " ('assist proposal', 0.792756279541385),\n",
       " ('entities nest', 0.7932229771670387),\n",
       " ('entities nest external', 0.7932229771670387),\n",
       " ('entities support', 0.7932229771670387),\n",
       " ('entities support editor', 0.7932229771670387),\n",
       " ('errors external', 0.7932229771670387),\n",
       " ('errors external entities', 0.7932229771670387),\n",
       " ('external entities nest', 0.7932229771670387),\n",
       " ('external entities support', 0.7932229771670387),\n",
       " ('nest external', 0.7932229771670387),\n",
       " ('nest external entities', 0.7932229771670387),\n",
       " ('support editor', 0.7932229771670387),\n",
       " ('support editor outline', 0.7932229771670387),\n",
       " ('assert expression', 0.7933318893872304),\n",
       " ('assert expression longer', 0.7933318893872304),\n",
       " ('compiler variable', 0.7933318893872304),\n",
       " ('compiler variable initialize', 0.7933318893872304),\n",
       " ('expression longer', 0.7933318893872304),\n",
       " ('expression longer report', 0.7933318893872304),\n",
       " ('initialize within', 0.7933318893872304),\n",
       " ('initialize within assert', 0.7933318893872304),\n",
       " ('longer report', 0.7933318893872304),\n",
       " ('longer report potential', 0.7933318893872304),\n",
       " ('non initialize', 0.7933318893872304),\n",
       " ('potential non', 0.7933318893872304),\n",
       " ('potential non initialize', 0.7933318893872304),\n",
       " ('report potential', 0.7933318893872304),\n",
       " ('report potential non', 0.7933318893872304),\n",
       " ('variable initialize within', 0.7933318893872304),\n",
       " ('within assert', 0.7933318893872304),\n",
       " ('within assert expression', 0.7933318893872304),\n",
       " ('changing', 0.793558064665904),\n",
       " ('really', 0.7937531658020089),\n",
       " ('dirty', 0.7937972453625267),\n",
       " ('provide show', 0.7942525402175772),\n",
       " ('possible', 0.7944934351871953),\n",
       " ('change sets update', 0.7951792829008923),\n",
       " ('every workspace', 0.7951792829008923),\n",
       " ('every workspace change', 0.7951792829008923),\n",
       " ('history job', 0.7951792829008923),\n",
       " ('history job show', 0.7951792829008923),\n",
       " ('job show', 0.7951792829008923),\n",
       " ('job show every', 0.7951792829008923),\n",
       " ('revision history', 0.7951792829008923),\n",
       " ('revision history job', 0.7951792829008923),\n",
       " ('sets update', 0.7951792829008923),\n",
       " ('sets update revision', 0.7951792829008923),\n",
       " ('show every', 0.7951792829008923),\n",
       " ('show every workspace', 0.7951792829008923),\n",
       " ('update revision', 0.7951792829008923),\n",
       " ('update revision history', 0.7951792829008923),\n",
       " ('workspace change', 0.7951792829008923),\n",
       " ('available multiple', 0.7955433409584675),\n",
       " ('available multiple directory', 0.7955433409584675),\n",
       " ('bundle available', 0.7955433409584675),\n",
       " ('bundle available multiple', 0.7955433409584675),\n",
       " ('bundle locations', 0.7955433409584675),\n",
       " ('definition fail', 0.7955433409584675),\n",
       " ('definition fail load', 0.7955433409584675),\n",
       " ('directory bundle', 0.7955433409584675),\n",
       " ('directory bundle locations', 0.7955433409584675),\n",
       " ('fail load', 0.7955433409584675),\n",
       " ('fail load bundle', 0.7955433409584675),\n",
       " ('load bundle', 0.7955433409584675),\n",
       " ('load bundle available', 0.7955433409584675),\n",
       " ('multiple directory', 0.7955433409584675),\n",
       " ('multiple directory bundle', 0.7955433409584675),\n",
       " ('target definition fail', 0.7955433409584675),\n",
       " ('target target definition', 0.7955433409584675),\n",
       " ('completely', 0.7955994727803886),\n",
       " ('file cvs', 0.7965050673699658),\n",
       " ('color preference', 0.7965580214951262),\n",
       " ('color preference page', 0.7965580214951262),\n",
       " ('block ui', 0.7965792217109201),\n",
       " ('new builder', 0.7971926699722949),\n",
       " ('ant buildfiles', 0.7973003746730505),\n",
       " ('interactions', 0.7978779783449443),\n",
       " ('launching', 0.7985581384528966),\n",
       " ('runtime workbench', 0.7986425003555864),\n",
       " ('contrast mode', 0.7997028486218434),\n",
       " ('high contrast mode', 0.7997028486218434),\n",
       " ('report launch', 0.7997100051564154),\n",
       " ('different', 0.799905185183833),\n",
       " ('assist offer better', 0.8004462687674407),\n",
       " ('better support close', 0.8004462687674407),\n",
       " ('close tag', 0.8004462687674407),\n",
       " ('close tag gkq', 0.8004462687674407),\n",
       " ('code assist offer', 0.8004462687674407),\n",
       " ('dcr javadoc', 0.8004462687674407),\n",
       " ('dcr javadoc code', 0.8004462687674407),\n",
       " ('gkq', 0.8004462687674407),\n",
       " ('gkq im', 0.8004462687674407),\n",
       " ('im', 0.8004462687674407),\n",
       " ('offer better', 0.8004462687674407),\n",
       " ('offer better support', 0.8004462687674407),\n",
       " ('support close', 0.8004462687674407),\n",
       " ('support close tag', 0.8004462687674407),\n",
       " ('tag gkq', 0.8004462687674407),\n",
       " ('tag gkq im', 0.8004462687674407),\n",
       " ('random', 0.8009944457795773),\n",
       " ('keybindings', 0.8014612596745192),\n",
       " ('give wrong', 0.801598706394791),\n",
       " ('give wrong result', 0.801598706394791),\n",
       " ('list give', 0.801598706394791),\n",
       " ('list give wrong', 0.801598706394791),\n",
       " ('page list give', 0.801598706394791),\n",
       " ('previous search', 0.801598706394791),\n",
       " ('previous search java', 0.801598706394791),\n",
       " ('search java search', 0.801598706394791),\n",
       " ('search page list', 0.801598706394791),\n",
       " ('search use previous', 0.801598706394791),\n",
       " ('use previous', 0.801598706394791),\n",
       " ('use previous search', 0.801598706394791),\n",
       " ('wrong result', 0.801598706394791),\n",
       " ('prefs page', 0.8021115334289386),\n",
       " ('dialog font', 0.8022913926313546),\n",
       " ('sometimes paint', 0.8023205910179965),\n",
       " ('return value', 0.8031418854769496),\n",
       " ('clipboard operations', 0.8034103207175998),\n",
       " ('clipboard operations work', 0.8034103207175998),\n",
       " ('editors clipboard', 0.8034103207175998),\n",
       " ('editors clipboard operations', 0.8034103207175998),\n",
       " ('map page', 0.8034103207175998),\n",
       " ('operations work', 0.8034103207175998),\n",
       " ('operations work tree', 0.8034103207175998),\n",
       " ('site editors', 0.8034103207175998),\n",
       " ('site editors clipboard', 0.8034103207175998),\n",
       " ('site map', 0.8034103207175998),\n",
       " ('site map page', 0.8034103207175998),\n",
       " ('tree viewer site', 0.8034103207175998),\n",
       " ('viewer site', 0.8034103207175998),\n",
       " ('viewer site map', 0.8034103207175998),\n",
       " ('work tree viewer', 0.8034103207175998),\n",
       " ('page include', 0.803482879835681),\n",
       " ('launch eclipse', 0.8039777492228114),\n",
       " ('size small', 0.8040468027877853),\n",
       " ('miss target', 0.8040801411235763),\n",
       " ('binary literal', 0.804930414008141),\n",
       " ('binary literal literal', 0.804930414008141),\n",
       " ('compiler stop', 0.804930414008141),\n",
       " ('compiler stop report', 0.804930414008141),\n",
       " ('encounter', 0.804930414008141),\n",
       " ('encounter binary', 0.804930414008141),\n",
       " ('encounter binary literal', 0.804930414008141),\n",
       " ...]"
      ]
     },
     "execution_count": 161,
     "metadata": {},
     "output_type": "execute_result"
    }
   ],
   "source": [
    "chi2"
   ]
  },
  {
   "cell_type": "code",
   "execution_count": 12,
   "metadata": {},
   "outputs": [],
   "source": [
    "# we choose the features which have less than 0.5 score and then put it into a list called feature_list.\n",
    "feature_set = []\n",
    "\n",
    "for i in range(0, len(chi2)):\n",
    "    if chi2[i][1] < 0.25:\n",
    "        feature_set.append(chi2[i][0])\n",
    "    "
   ]
  },
  {
   "cell_type": "code",
   "execution_count": 18,
   "metadata": {},
   "outputs": [
    {
     "data": {
      "text/plain": [
       "['without',\n",
       " 'specify',\n",
       " 'current',\n",
       " 'duplicate',\n",
       " 'change',\n",
       " 'instead',\n",
       " 'progress',\n",
       " 'possible',\n",
       " 'edit',\n",
       " 'handle',\n",
       " 'use',\n",
       " 'bar',\n",
       " 'dialog',\n",
       " 'plugin',\n",
       " 'slow',\n",
       " 'error message',\n",
       " 'due',\n",
       " 'information',\n",
       " 'preference',\n",
       " 'add',\n",
       " 'click',\n",
       " 'rename',\n",
       " 'first',\n",
       " 'command',\n",
       " 'context',\n",
       " 'cancel',\n",
       " 'reference',\n",
       " 'one',\n",
       " 'failure',\n",
       " 'element',\n",
       " 'test failures',\n",
       " 'platform',\n",
       " 'port',\n",
       " 'clicking',\n",
       " 'auto',\n",
       " 'items',\n",
       " 'exceptions',\n",
       " 'state',\n",
       " 'start',\n",
       " 'provide',\n",
       " 'format',\n",
       " 'initialize',\n",
       " 'still',\n",
       " 'create',\n",
       " 'secondary',\n",
       " 'lose',\n",
       " 'execution',\n",
       " 'proposals',\n",
       " 'character',\n",
       " 'different',\n",
       " 'failures due',\n",
       " 'test failures due',\n",
       " 'checkbox',\n",
       " 'revert']"
      ]
     },
     "execution_count": 18,
     "metadata": {},
     "output_type": "execute_result"
    }
   ],
   "source": [
    "# feature_set"
   ]
  },
  {
   "cell_type": "code",
   "execution_count": 13,
   "metadata": {},
   "outputs": [],
   "source": [
    "# then we remove the words of the feature_list from our original dataset. we replace those words with a space.\n",
    "# so the words with less than 0.5 score are removed from the dataset\n",
    "for data in final_bodyTrain['body']:\n",
    "    for feature in feature_set:\n",
    "        if feature in data:\n",
    "            final_bodyTrain['body'] = final_bodyTrain['body'].replace(feature, ' ')"
   ]
  },
  {
   "cell_type": "code",
   "execution_count": 18,
   "metadata": {},
   "outputs": [
    {
     "data": {
      "text/plain": [
       "0       formatter new javadoc formatter wrongly indent...\n",
       "1                 internal error occur updating workspace\n",
       "2       null correlation spurious null pointer access ...\n",
       "3       astrewrite support replace n nod nod better ma...\n",
       "4       unit test test framework mix vmargs vs extravm...\n",
       "                              ...                        \n",
       "3624      create build script anymore npe throw operation\n",
       "3625                                  p support p install\n",
       "3626                                            dead code\n",
       "3627        bundleentry iconuris rewrite durable platform\n",
       "3628    schema editors update icons extension point el...\n",
       "Name: body, Length: 3629, dtype: object"
      ]
     },
     "execution_count": 18,
     "metadata": {},
     "output_type": "execute_result"
    }
   ],
   "source": [
    "final_bodyTrain['body'].str.strip()"
   ]
  },
  {
   "cell_type": "markdown",
   "metadata": {},
   "source": [
    "# create and train the model"
   ]
  },
  {
   "cell_type": "code",
   "execution_count": 6,
   "metadata": {
    "id": "4ZS60HbUu4WT"
   },
   "outputs": [],
   "source": [
    "# import all the libraries to train the model\n",
    "\n",
    "import matplotlib.pyplot as plt\n",
    "import time\n",
    "import tensorflow as tf\n",
    "import keras\n",
    "from sklearn.metrics import accuracy_score,precision_score, recall_score,f1_score,roc_auc_score,roc_curve\n",
    "from tensorflow.keras.preprocessing.text import Tokenizer\n",
    "from tensorflow.keras.preprocessing.sequence import pad_sequences\n",
    "from tensorflow.keras.layers import Dense, Embedding, Bidirectional, LSTM, Dropout\n",
    "from tensorflow.keras.callbacks import Callback\n",
    "from tensorflow.keras import regularizers\n",
    "from tensorflow.keras.models import Sequential\n",
    "import matplotlib.pyplot as plt\n",
    "from keras import optimizers\n",
    "import pickle\n",
    "from tensorflow.keras.callbacks import EarlyStopping\n",
    "from tqdm import tqdm\n",
    "from keras.utils import to_categorical"
   ]
  },
  {
   "cell_type": "code",
   "execution_count": 33,
   "metadata": {
    "id": "U2hLbCf5u5CL"
   },
   "outputs": [
    {
     "name": "stderr",
     "output_type": "stream",
     "text": [
      "400000it [00:16, 23842.58it/s]\n",
      "100%|██████████| 3058/3058 [00:00<00:00, 320710.67it/s]\n"
     ]
    }
   ],
   "source": [
    "token = Tokenizer()\n",
    "token.fit_on_texts(final_bodyTrain['body'])\n",
    "\n",
    "#integer encode the documents\n",
    "seq = token.texts_to_sequences(final_bodyTrain['body'])\n",
    "\n",
    "# pad the document\n",
    "\n",
    "max_length = 100\n",
    "pad_seq = pad_sequences(seq, maxlen=max_length, padding='post')\n",
    "\n",
    "# testing set\n",
    "\n",
    "#test_set = token.fit_on_texts(final_bodyTest['body'])\n",
    "\n",
    "#integer encode the documents\n",
    "#test_seq = token.texts_to_sequences(final_bodyTest['body'])\n",
    "\n",
    "# pad the document\n",
    "\n",
    "#max_length = 100\n",
    "#testing_seq = pad_sequences(test_seq, maxlen=max_length, padding='post')\n",
    "\n",
    "\n",
    "\n",
    "\n",
    "vocab_size = len(token.word_index) +1\n",
    "\n",
    "#load the embedding layer\n",
    "\n",
    "embedding_vector = {}\n",
    "\n",
    "# we use the Glove to vectorize our dataset\n",
    "\n",
    "f = open('/home/charun/Documents/Projects/text_research/glove.6B/glove.6B.100d.txt')\n",
    " \n",
    "for line in tqdm(f):\n",
    "  value = line.split(' ')\n",
    "  word = value[0]\n",
    "  coef = np.array(value[1:], dtype = 'float32')\n",
    "  embedding_vector[word] = coef\n",
    "\n",
    "\n",
    "# create a weight matrix for words in training docs\n",
    "embedding_matrix = np.zeros((vocab_size, 100))\n",
    "for word,i in tqdm(token.word_index.items()):\n",
    "    embedding_value = embedding_vector.get(word)\n",
    "    if embedding_value is not None:\n",
    "        embedding_matrix[i] = embedding_value"
   ]
  },
  {
   "cell_type": "code",
   "execution_count": 34,
   "metadata": {},
   "outputs": [],
   "source": [
    "y = new_df_train['Label']\n",
    "y = np.array(y)\n",
    "y = to_categorical(y)\n",
    "\n",
    "#test_y = new_df_test['label']\n",
    "#test_y = to_categorical(test_y)"
   ]
  },
  {
   "cell_type": "code",
   "execution_count": 23,
   "metadata": {},
   "outputs": [
    {
     "data": {
      "text/plain": [
       "array([[0., 0., 0., 0., 1.],\n",
       "       [0., 0., 0., 0., 1.],\n",
       "       [0., 0., 0., 0., 1.],\n",
       "       ...,\n",
       "       [1., 0., 0., 0., 0.],\n",
       "       [1., 0., 0., 0., 0.],\n",
       "       [1., 0., 0., 0., 0.]], dtype=float32)"
      ]
     },
     "execution_count": 23,
     "metadata": {},
     "output_type": "execute_result"
    }
   ],
   "source": [
    "y"
   ]
  },
  {
   "cell_type": "code",
   "execution_count": 35,
   "metadata": {},
   "outputs": [
    {
     "name": "stdout",
     "output_type": "stream",
     "text": [
      "Model: \"sequential_1\"\n",
      "_________________________________________________________________\n",
      "Layer (type)                 Output Shape              Param #   \n",
      "=================================================================\n",
      "embedding_1 (Embedding)      (None, 100, 100)          305900    \n",
      "_________________________________________________________________\n",
      "bidirectional_1 (Bidirection (None, 200)               160800    \n",
      "_________________________________________________________________\n",
      "dropout_1 (Dropout)          (None, 200)               0         \n",
      "_________________________________________________________________\n",
      "dense_2 (Dense)              (None, 8)                 1608      \n",
      "_________________________________________________________________\n",
      "dense_3 (Dense)              (None, 5)                 45        \n",
      "=================================================================\n",
      "Total params: 468,353\n",
      "Trainable params: 162,453\n",
      "Non-trainable params: 305,900\n",
      "_________________________________________________________________\n",
      "Epoch 1/50\n",
      "20/20 [==============================] - 8s 274ms/step - loss: 1.6185 - accuracy: 0.8000 - precision_1: 0.0000e+00 - recall_1: 0.0000e+00 - val_loss: 1.8137 - val_accuracy: 0.8000 - val_precision_1: 0.0000e+00 - val_recall_1: 0.0000e+00\n",
      "Epoch 2/50\n",
      "20/20 [==============================] - 5s 253ms/step - loss: 1.5243 - accuracy: 0.8000 - precision_1: 0.2587 - recall_1: 6.9054e-04 - val_loss: 2.4325 - val_accuracy: 0.7985 - val_precision_1: 0.0000e+00 - val_recall_1: 0.0000e+00\n",
      "Epoch 3/50\n",
      "20/20 [==============================] - 5s 238ms/step - loss: 3629.3780 - accuracy: 0.8027 - precision_1: 0.6033 - recall_1: 0.0429 - val_loss: 2.7121 - val_accuracy: 0.7941 - val_precision_1: 0.0556 - val_recall_1: 0.0018\n",
      "Epoch 4/50\n",
      "20/20 [==============================] - 5s 260ms/step - loss: 1.2350 - accuracy: 0.8154 - precision_1: 0.7411 - recall_1: 0.1189 - val_loss: 3.3692 - val_accuracy: 0.7756 - val_precision_1: 0.1018 - val_recall_1: 0.0156\n",
      "Epoch 5/50\n",
      " 3/20 [===>..........................] - ETA: 3s - loss: 1.1146 - accuracy: 0.8286 - precision_1: 0.7179 - recall_1: 0.2365"
     ]
    },
    {
     "ename": "KeyboardInterrupt",
     "evalue": "",
     "output_type": "error",
     "traceback": [
      "\u001b[0;31m---------------------------------------------------------------------------\u001b[0m",
      "\u001b[0;31mKeyboardInterrupt\u001b[0m                         Traceback (most recent call last)",
      "\u001b[0;32m<ipython-input-35-04576ee26ab6>\u001b[0m in \u001b[0;36m<module>\u001b[0;34m\u001b[0m\n\u001b[1;32m     46\u001b[0m     \u001b[0mvalidation_split\u001b[0m \u001b[0;34m=\u001b[0m \u001b[0;36m0.3\u001b[0m\u001b[0;34m,\u001b[0m\u001b[0;34m\u001b[0m\u001b[0;34m\u001b[0m\u001b[0m\n\u001b[1;32m     47\u001b[0m \u001b[0;34m\u001b[0m\u001b[0m\n\u001b[0;32m---> 48\u001b[0;31m     \u001b[0mcallbacks\u001b[0m \u001b[0;34m=\u001b[0m \u001b[0;34m[\u001b[0m\u001b[0mcallback\u001b[0m\u001b[0;34m]\u001b[0m\u001b[0;34m\u001b[0m\u001b[0;34m\u001b[0m\u001b[0m\n\u001b[0m\u001b[1;32m     49\u001b[0m )\n\u001b[1;32m     50\u001b[0m \u001b[0;34m\u001b[0m\u001b[0m\n",
      "\u001b[0;32m/home/charun/snap/jupyter/common/lib/python3.7/site-packages/tensorflow/python/keras/engine/training.py\u001b[0m in \u001b[0;36mfit\u001b[0;34m(self, x, y, batch_size, epochs, verbose, callbacks, validation_split, validation_data, shuffle, class_weight, sample_weight, initial_epoch, steps_per_epoch, validation_steps, validation_batch_size, validation_freq, max_queue_size, workers, use_multiprocessing)\u001b[0m\n\u001b[1;32m   1098\u001b[0m                 _r=1):\n\u001b[1;32m   1099\u001b[0m               \u001b[0mcallbacks\u001b[0m\u001b[0;34m.\u001b[0m\u001b[0mon_train_batch_begin\u001b[0m\u001b[0;34m(\u001b[0m\u001b[0mstep\u001b[0m\u001b[0;34m)\u001b[0m\u001b[0;34m\u001b[0m\u001b[0;34m\u001b[0m\u001b[0m\n\u001b[0;32m-> 1100\u001b[0;31m               \u001b[0mtmp_logs\u001b[0m \u001b[0;34m=\u001b[0m \u001b[0mself\u001b[0m\u001b[0;34m.\u001b[0m\u001b[0mtrain_function\u001b[0m\u001b[0;34m(\u001b[0m\u001b[0miterator\u001b[0m\u001b[0;34m)\u001b[0m\u001b[0;34m\u001b[0m\u001b[0;34m\u001b[0m\u001b[0m\n\u001b[0m\u001b[1;32m   1101\u001b[0m               \u001b[0;32mif\u001b[0m \u001b[0mdata_handler\u001b[0m\u001b[0;34m.\u001b[0m\u001b[0mshould_sync\u001b[0m\u001b[0;34m:\u001b[0m\u001b[0;34m\u001b[0m\u001b[0;34m\u001b[0m\u001b[0m\n\u001b[1;32m   1102\u001b[0m                 \u001b[0mcontext\u001b[0m\u001b[0;34m.\u001b[0m\u001b[0masync_wait\u001b[0m\u001b[0;34m(\u001b[0m\u001b[0;34m)\u001b[0m\u001b[0;34m\u001b[0m\u001b[0;34m\u001b[0m\u001b[0m\n",
      "\u001b[0;32m/home/charun/snap/jupyter/common/lib/python3.7/site-packages/tensorflow/python/eager/def_function.py\u001b[0m in \u001b[0;36m__call__\u001b[0;34m(self, *args, **kwds)\u001b[0m\n\u001b[1;32m    826\u001b[0m     \u001b[0mtracing_count\u001b[0m \u001b[0;34m=\u001b[0m \u001b[0mself\u001b[0m\u001b[0;34m.\u001b[0m\u001b[0mexperimental_get_tracing_count\u001b[0m\u001b[0;34m(\u001b[0m\u001b[0;34m)\u001b[0m\u001b[0;34m\u001b[0m\u001b[0;34m\u001b[0m\u001b[0m\n\u001b[1;32m    827\u001b[0m     \u001b[0;32mwith\u001b[0m \u001b[0mtrace\u001b[0m\u001b[0;34m.\u001b[0m\u001b[0mTrace\u001b[0m\u001b[0;34m(\u001b[0m\u001b[0mself\u001b[0m\u001b[0;34m.\u001b[0m\u001b[0m_name\u001b[0m\u001b[0;34m)\u001b[0m \u001b[0;32mas\u001b[0m \u001b[0mtm\u001b[0m\u001b[0;34m:\u001b[0m\u001b[0;34m\u001b[0m\u001b[0;34m\u001b[0m\u001b[0m\n\u001b[0;32m--> 828\u001b[0;31m       \u001b[0mresult\u001b[0m \u001b[0;34m=\u001b[0m \u001b[0mself\u001b[0m\u001b[0;34m.\u001b[0m\u001b[0m_call\u001b[0m\u001b[0;34m(\u001b[0m\u001b[0;34m*\u001b[0m\u001b[0margs\u001b[0m\u001b[0;34m,\u001b[0m \u001b[0;34m**\u001b[0m\u001b[0mkwds\u001b[0m\u001b[0;34m)\u001b[0m\u001b[0;34m\u001b[0m\u001b[0;34m\u001b[0m\u001b[0m\n\u001b[0m\u001b[1;32m    829\u001b[0m       \u001b[0mcompiler\u001b[0m \u001b[0;34m=\u001b[0m \u001b[0;34m\"xla\"\u001b[0m \u001b[0;32mif\u001b[0m \u001b[0mself\u001b[0m\u001b[0;34m.\u001b[0m\u001b[0m_experimental_compile\u001b[0m \u001b[0;32melse\u001b[0m \u001b[0;34m\"nonXla\"\u001b[0m\u001b[0;34m\u001b[0m\u001b[0;34m\u001b[0m\u001b[0m\n\u001b[1;32m    830\u001b[0m       \u001b[0mnew_tracing_count\u001b[0m \u001b[0;34m=\u001b[0m \u001b[0mself\u001b[0m\u001b[0;34m.\u001b[0m\u001b[0mexperimental_get_tracing_count\u001b[0m\u001b[0;34m(\u001b[0m\u001b[0;34m)\u001b[0m\u001b[0;34m\u001b[0m\u001b[0;34m\u001b[0m\u001b[0m\n",
      "\u001b[0;32m/home/charun/snap/jupyter/common/lib/python3.7/site-packages/tensorflow/python/eager/def_function.py\u001b[0m in \u001b[0;36m_call\u001b[0;34m(self, *args, **kwds)\u001b[0m\n\u001b[1;32m    853\u001b[0m       \u001b[0;31m# In this case we have created variables on the first call, so we run the\u001b[0m\u001b[0;34m\u001b[0m\u001b[0;34m\u001b[0m\u001b[0;34m\u001b[0m\u001b[0m\n\u001b[1;32m    854\u001b[0m       \u001b[0;31m# defunned version which is guaranteed to never create variables.\u001b[0m\u001b[0;34m\u001b[0m\u001b[0;34m\u001b[0m\u001b[0;34m\u001b[0m\u001b[0m\n\u001b[0;32m--> 855\u001b[0;31m       \u001b[0;32mreturn\u001b[0m \u001b[0mself\u001b[0m\u001b[0;34m.\u001b[0m\u001b[0m_stateless_fn\u001b[0m\u001b[0;34m(\u001b[0m\u001b[0;34m*\u001b[0m\u001b[0margs\u001b[0m\u001b[0;34m,\u001b[0m \u001b[0;34m**\u001b[0m\u001b[0mkwds\u001b[0m\u001b[0;34m)\u001b[0m  \u001b[0;31m# pylint: disable=not-callable\u001b[0m\u001b[0;34m\u001b[0m\u001b[0;34m\u001b[0m\u001b[0m\n\u001b[0m\u001b[1;32m    856\u001b[0m     \u001b[0;32melif\u001b[0m \u001b[0mself\u001b[0m\u001b[0;34m.\u001b[0m\u001b[0m_stateful_fn\u001b[0m \u001b[0;32mis\u001b[0m \u001b[0;32mnot\u001b[0m \u001b[0;32mNone\u001b[0m\u001b[0;34m:\u001b[0m\u001b[0;34m\u001b[0m\u001b[0;34m\u001b[0m\u001b[0m\n\u001b[1;32m    857\u001b[0m       \u001b[0;31m# Release the lock early so that multiple threads can perform the call\u001b[0m\u001b[0;34m\u001b[0m\u001b[0;34m\u001b[0m\u001b[0;34m\u001b[0m\u001b[0m\n",
      "\u001b[0;32m/home/charun/snap/jupyter/common/lib/python3.7/site-packages/tensorflow/python/eager/function.py\u001b[0m in \u001b[0;36m__call__\u001b[0;34m(self, *args, **kwargs)\u001b[0m\n\u001b[1;32m   2941\u001b[0m        filtered_flat_args) = self._maybe_define_function(args, kwargs)\n\u001b[1;32m   2942\u001b[0m     return graph_function._call_flat(\n\u001b[0;32m-> 2943\u001b[0;31m         filtered_flat_args, captured_inputs=graph_function.captured_inputs)  # pylint: disable=protected-access\n\u001b[0m\u001b[1;32m   2944\u001b[0m \u001b[0;34m\u001b[0m\u001b[0m\n\u001b[1;32m   2945\u001b[0m   \u001b[0;34m@\u001b[0m\u001b[0mproperty\u001b[0m\u001b[0;34m\u001b[0m\u001b[0;34m\u001b[0m\u001b[0m\n",
      "\u001b[0;32m/home/charun/snap/jupyter/common/lib/python3.7/site-packages/tensorflow/python/eager/function.py\u001b[0m in \u001b[0;36m_call_flat\u001b[0;34m(self, args, captured_inputs, cancellation_manager)\u001b[0m\n\u001b[1;32m   1917\u001b[0m       \u001b[0;31m# No tape is watching; skip to running the function.\u001b[0m\u001b[0;34m\u001b[0m\u001b[0;34m\u001b[0m\u001b[0;34m\u001b[0m\u001b[0m\n\u001b[1;32m   1918\u001b[0m       return self._build_call_outputs(self._inference_function.call(\n\u001b[0;32m-> 1919\u001b[0;31m           ctx, args, cancellation_manager=cancellation_manager))\n\u001b[0m\u001b[1;32m   1920\u001b[0m     forward_backward = self._select_forward_and_backward_functions(\n\u001b[1;32m   1921\u001b[0m         \u001b[0margs\u001b[0m\u001b[0;34m,\u001b[0m\u001b[0;34m\u001b[0m\u001b[0;34m\u001b[0m\u001b[0m\n",
      "\u001b[0;32m/home/charun/snap/jupyter/common/lib/python3.7/site-packages/tensorflow/python/eager/function.py\u001b[0m in \u001b[0;36mcall\u001b[0;34m(self, ctx, args, cancellation_manager)\u001b[0m\n\u001b[1;32m    558\u001b[0m               \u001b[0minputs\u001b[0m\u001b[0;34m=\u001b[0m\u001b[0margs\u001b[0m\u001b[0;34m,\u001b[0m\u001b[0;34m\u001b[0m\u001b[0;34m\u001b[0m\u001b[0m\n\u001b[1;32m    559\u001b[0m               \u001b[0mattrs\u001b[0m\u001b[0;34m=\u001b[0m\u001b[0mattrs\u001b[0m\u001b[0;34m,\u001b[0m\u001b[0;34m\u001b[0m\u001b[0;34m\u001b[0m\u001b[0m\n\u001b[0;32m--> 560\u001b[0;31m               ctx=ctx)\n\u001b[0m\u001b[1;32m    561\u001b[0m         \u001b[0;32melse\u001b[0m\u001b[0;34m:\u001b[0m\u001b[0;34m\u001b[0m\u001b[0;34m\u001b[0m\u001b[0m\n\u001b[1;32m    562\u001b[0m           outputs = execute.execute_with_cancellation(\n",
      "\u001b[0;32m/home/charun/snap/jupyter/common/lib/python3.7/site-packages/tensorflow/python/eager/execute.py\u001b[0m in \u001b[0;36mquick_execute\u001b[0;34m(op_name, num_outputs, inputs, attrs, ctx, name)\u001b[0m\n\u001b[1;32m     58\u001b[0m     \u001b[0mctx\u001b[0m\u001b[0;34m.\u001b[0m\u001b[0mensure_initialized\u001b[0m\u001b[0;34m(\u001b[0m\u001b[0;34m)\u001b[0m\u001b[0;34m\u001b[0m\u001b[0;34m\u001b[0m\u001b[0m\n\u001b[1;32m     59\u001b[0m     tensors = pywrap_tfe.TFE_Py_Execute(ctx._handle, device_name, op_name,\n\u001b[0;32m---> 60\u001b[0;31m                                         inputs, attrs, num_outputs)\n\u001b[0m\u001b[1;32m     61\u001b[0m   \u001b[0;32mexcept\u001b[0m \u001b[0mcore\u001b[0m\u001b[0;34m.\u001b[0m\u001b[0m_NotOkStatusException\u001b[0m \u001b[0;32mas\u001b[0m \u001b[0me\u001b[0m\u001b[0;34m:\u001b[0m\u001b[0;34m\u001b[0m\u001b[0;34m\u001b[0m\u001b[0m\n\u001b[1;32m     62\u001b[0m     \u001b[0;32mif\u001b[0m \u001b[0mname\u001b[0m \u001b[0;32mis\u001b[0m \u001b[0;32mnot\u001b[0m \u001b[0;32mNone\u001b[0m\u001b[0;34m:\u001b[0m\u001b[0;34m\u001b[0m\u001b[0;34m\u001b[0m\u001b[0m\n",
      "\u001b[0;31mKeyboardInterrupt\u001b[0m: "
     ]
    }
   ],
   "source": [
    "\n",
    "\n",
    "#define the model\n",
    "\n",
    "model = Sequential()\n",
    "model.add(Embedding(vocab_size, 100, weights = [embedding_matrix], input_length=max_length, trainable=False))\n",
    "#model.add(Bidirectional(LSTM(100)))\n",
    "model.add(Bidirectional(LSTM(units=100, activation='relu'),input_shape=(1,100)))\n",
    "model.add(Dropout(0.5))\n",
    "model.add(Dense(8, activation='relu'))\n",
    "model.add(Dense(5, activation='softmax'))\n",
    "model.summary()\n",
    "\n",
    "callback = tf.keras.callbacks.ReduceLROnPlateau(\n",
    "            monitor='val_loss', factor=0.1, patience=10, verbose=0,\n",
    "            mode='auto', min_delta=0.0001, cooldown=0, min_lr=0\n",
    "            )\n",
    "\n",
    "\n",
    "#sgd = optimizers.SGD(lr=0.01, decay=1e-6, momentum=0.9, nesterov=True)\n",
    "\n",
    "adam = tf.keras.optimizers.Adam(\n",
    "    learning_rate=0.001)\n",
    "\n",
    "loss_fn = tf.keras.losses.CategoricalCrossentropy(\n",
    "    from_logits=True,\n",
    "    label_smoothing=0,\n",
    "    reduction=\"auto\",\n",
    "    name=\"categorical_crossentropy\",\n",
    ")\n",
    "\n",
    "model.compile(\n",
    "    optimizer = adam,\n",
    "    loss = loss_fn,\n",
    "    metrics = [tf.keras.metrics.BinaryAccuracy('accuracy'), tf.keras.metrics.Precision(), tf.keras.metrics.Recall()])\n",
    "    #metrics = [tf.keras.metrics.BinaryAccuracy(name='accuracy')])\n",
    "\n",
    "\n",
    "#train the model\n",
    "\n",
    "history = model.fit(\n",
    "    pad_seq, y, \n",
    "    batch_size = 128,\n",
    "    epochs = 50,\n",
    "    #validation_data = (testing_seq, test_y),\n",
    "    validation_split = 0.3,\n",
    "    \n",
    "    callbacks = [callback]\n",
    ")\n",
    "\n",
    "#save the model\n",
    "\n",
    "model.save('/home/charun/Documents/Projects/text_research/new_text_model2.h5')"
   ]
  },
  {
   "cell_type": "code",
   "execution_count": 63,
   "metadata": {},
   "outputs": [
    {
     "data": {
      "image/png": "[encoded data removed]",
      "text/plain": [
       "<Figure size 432x288 with 1 Axes>"
      ]
     },
     "metadata": {
      "needs_background": "light"
     },
     "output_type": "display_data"
    }
   ],
   "source": [
    "plt.plot(history.history['accuracy'])\n",
    "plt.plot(history.history['val_accuracy'])\n",
    "\n",
    "plt.title('model accuracy')\n",
    "plt.ylabel('accuracy')\n",
    "plt.xlabel('epoch')\n",
    "plt.legend(['train', 'test'], loc='lower right')\n",
    "plt.show()\n",
    "\n",
    "\n"
   ]
  },
  {
   "cell_type": "code",
   "execution_count": 64,
   "metadata": {},
   "outputs": [
    {
     "data": {
      "image/png": "[encoded data removed]",
      "text/plain": [
       "<Figure size 432x288 with 1 Axes>"
      ]
     },
     "metadata": {
      "needs_background": "light"
     },
     "output_type": "display_data"
    }
   ],
   "source": [
    "plt.plot(history.history['loss'])\n",
    "plt.plot(history.history['val_loss'])\n",
    "\n",
    "plt.title('model loss')\n",
    "plt.ylabel('loss')\n",
    "plt.xlabel('epoch')\n",
    "plt.legend(['train', 'test'], loc='lower right')\n",
    "plt.show()"
   ]
  },
  {
   "cell_type": "code",
   "execution_count": 68,
   "metadata": {},
   "outputs": [
    {
     "data": {
      "image/png": "[encoded data removed]",
      "text/plain": [
       "<Figure size 432x288 with 1 Axes>"
      ]
     },
     "metadata": {
      "needs_background": "light"
     },
     "output_type": "display_data"
    }
   ],
   "source": [
    "plt.plot(history.history['precision_4'])\n",
    "plt.plot(history.history['val_precision_4'])\n",
    "\n",
    "plt.title('model precision')\n",
    "plt.ylabel('precision')\n",
    "plt.xlabel('epoch')\n",
    "plt.legend(['train', 'test'], loc='lower right')\n",
    "plt.show()"
   ]
  },
  {
   "cell_type": "code",
   "execution_count": 69,
   "metadata": {},
   "outputs": [
    {
     "data": {
      "image/png": "[encoded data removed]",
      "text/plain": [
       "<Figure size 432x288 with 1 Axes>"
      ]
     },
     "metadata": {
      "needs_background": "light"
     },
     "output_type": "display_data"
    }
   ],
   "source": [
    "plt.plot(history.history['recall_3'])\n",
    "plt.plot(history.history['val_recall_3'])\n",
    "\n",
    "plt.title('model recall')\n",
    "plt.ylabel('recall')\n",
    "plt.xlabel('epoch')\n",
    "plt.legend(['train', 'test'], loc='lower right')\n",
    "plt.show()"
   ]
  },
  {
   "cell_type": "code",
   "execution_count": null,
   "metadata": {},
   "outputs": [],
   "source": []
  },
  {
   "cell_type": "code",
   "execution_count": 20,
   "metadata": {},
   "outputs": [],
   "source": [
    "import tensorflow\n",
    "\n",
    "# import the trained model\n",
    "\n",
    "model_path = '/home/charun/Documents/Projects/text_research/new_text_model2.h5'\n",
    "model = tensorflow.keras.models.load_model(model_path)"
   ]
  },
  {
   "cell_type": "code",
   "execution_count": 72,
   "metadata": {},
   "outputs": [],
   "source": [
    "df_eval = pd.read_excel('/home/charun/Documents/Projects/text_research/eval_data.xlsx')"
   ]
  },
  {
   "cell_type": "code",
   "execution_count": 73,
   "metadata": {},
   "outputs": [
    {
     "data": {
      "text/html": [
       "<div>\n",
       "<style scoped>\n",
       "    .dataframe tbody tr th:only-of-type {\n",
       "        vertical-align: middle;\n",
       "    }\n",
       "\n",
       "    .dataframe tbody tr th {\n",
       "        vertical-align: top;\n",
       "    }\n",
       "\n",
       "    .dataframe thead th {\n",
       "        text-align: right;\n",
       "    }\n",
       "</style>\n",
       "<table border=\"1\" class=\"dataframe\">\n",
       "  <thead>\n",
       "    <tr style=\"text-align: right;\">\n",
       "      <th></th>\n",
       "      <th>text</th>\n",
       "      <th>label</th>\n",
       "    </tr>\n",
       "  </thead>\n",
       "  <tbody>\n",
       "    <tr>\n",
       "      <th>0</th>\n",
       "      <td>Install/Update pref Page; clean workspace diff...</td>\n",
       "      <td>Core</td>\n",
       "    </tr>\n",
       "    <tr>\n",
       "      <th>1</th>\n",
       "      <td>Remove warnings in latest build</td>\n",
       "      <td>Core</td>\n",
       "    </tr>\n",
       "    <tr>\n",
       "      <th>2</th>\n",
       "      <td>Ambiguous method invocation</td>\n",
       "      <td>Core</td>\n",
       "    </tr>\n",
       "    <tr>\n",
       "      <th>3</th>\n",
       "      <td>Compile warning in official build</td>\n",
       "      <td>Core</td>\n",
       "    </tr>\n",
       "    <tr>\n",
       "      <th>4</th>\n",
       "      <td>Dilip is learning bugzilla bug tracker</td>\n",
       "      <td>Core</td>\n",
       "    </tr>\n",
       "  </tbody>\n",
       "</table>\n",
       "</div>"
      ],
      "text/plain": [
       "                                                text label\n",
       "0  Install/Update pref Page; clean workspace diff...  Core\n",
       "1                    Remove warnings in latest build  Core\n",
       "2                        Ambiguous method invocation  Core\n",
       "3                  Compile warning in official build  Core\n",
       "4             Dilip is learning bugzilla bug tracker  Core"
      ]
     },
     "execution_count": 73,
     "metadata": {},
     "output_type": "execute_result"
    }
   ],
   "source": [
    "df_eval.head(5)"
   ]
  },
  {
   "cell_type": "code",
   "execution_count": 34,
   "metadata": {},
   "outputs": [
    {
     "data": {
      "text/plain": [
       "array([1, 0, 3, 4, 2])"
      ]
     },
     "execution_count": 34,
     "metadata": {},
     "output_type": "execute_result"
    }
   ],
   "source": [
    "#convert our labels into numerical values. in here we add 0 for the User Interface, 1 for the debug and\n",
    "# 2 for the document and text\n",
    "\n",
    "df_eval['Label'] = df_eval['label'].replace(['User Interface', 'Debug','Document and text', 'Integration', 'Core' ], [0,1,2,3,4])\n",
    "\n",
    "#after that we drop the column which contains the textual labels\n",
    "\n",
    "new_df_eval = df_eval.drop(columns=['label'])\n",
    "new_df_eval['Label'].unique()"
   ]
  },
  {
   "cell_type": "code",
   "execution_count": 35,
   "metadata": {},
   "outputs": [],
   "source": [
    "# preprocess our evaluation dataset\n",
    "\n",
    "\n",
    "def form_sentence(tweet):\n",
    "    tweet = re.sub(r\"(?:\\#+[\\w_]+[\\w\\'_\\-]*[\\w_]+)\", '', tweet)\n",
    "    tweet = re.sub(r'<[^>]+>', '', tweet)\n",
    "    tweet = re.sub(r'http[s]?://(?:[a-z]|[0-9]|[$-_@.&+]|[!*\\(\\),]|(?:%[0-9a-f][0-9a-f]))+', '', tweet)\n",
    "    tweet_blob = TextBlob(tweet)\n",
    "    return ' '.join(tweet_blob.words)\n",
    "\n",
    "\n",
    "def no_user_alpha(tweet):\n",
    "    tweet_list = [ele for ele in tweet.split() if ele != 'user']\n",
    "    clean_tokens = [t for t in tweet_list if re.match(r'[^\\W\\d]*$', t)]\n",
    "    clean_s = ' '.join(clean_tokens)\n",
    "    clean_mess = [word for word in clean_s.split() if word.lower() not in stopwords.words('english')]\n",
    "    return clean_mess\n",
    "\n",
    "\n",
    "def normalization(tweet_list):\n",
    "    lem = WordNetLemmatizer()\n",
    "    normalized_tweet = []\n",
    "    for word in tweet_list:\n",
    "        normalized_text = lem.lemmatize(word, 'v')\n",
    "        normalized_tweet.append(normalized_text)\n",
    "    return normalized_tweet\n",
    "\n",
    "\n",
    "Final_words_eval = [] \n",
    "\n",
    "\n",
    "\n",
    "for data in new_df_eval['text']:\n",
    "    filtered = normalization(no_user_alpha(form_sentence(data)))\n",
    "    word_Final = ' '.join(filtered)\n",
    "    Final_words_eval.append(word_Final)\n",
    "    \n",
    "\n",
    "\n",
    "# store preprocessed data to new dataframe called final_bodyTrain    \n",
    "    \n",
    "final_body_eval = pd.DataFrame(Final_words_train, columns=['body'])\n"
   ]
  },
  {
   "cell_type": "code",
   "execution_count": 213,
   "metadata": {},
   "outputs": [],
   "source": [
    "max_len = 130\n",
    "\n",
    "model = tf.keras.models.load_model('/home/charun/Documents/Projects/text_research/model.h5')"
   ]
  },
  {
   "cell_type": "code",
   "execution_count": null,
   "metadata": {},
   "outputs": [],
   "source": []
  },
  {
   "cell_type": "code",
   "execution_count": 220,
   "metadata": {},
   "outputs": [],
   "source": [
    "txt = \"Mark Occurrences should mark all declaration-equivalent types\"\n"
   ]
  },
  {
   "cell_type": "code",
   "execution_count": 221,
   "metadata": {},
   "outputs": [],
   "source": [
    "n_most_common_words = 8000\n",
    "max_len = 100\n",
    "#tokenizer = Tokenizer()\n",
    "tokenizer = Tokenizer(num_words=n_most_common_words, filters='!\"#$%&()*+,-./:;<=>?@[\\]^_`{|}~', lower=True)\n",
    "token.fit_on_texts([txt])\n",
    "\n",
    "#integer encode the documents\n",
    "seq = token.texts_to_sequences([txt])\n",
    "\n",
    "# pad the document\n",
    "\n",
    "max_length = 130\n",
    "pad_seq = pad_sequences(seq, maxlen=max_length, padding='post')\n"
   ]
  },
  {
   "cell_type": "code",
   "execution_count": 222,
   "metadata": {},
   "outputs": [
    {
     "data": {
      "text/plain": [
       "[[5, 20, 21, 5, 6, 22, 23, 24]]"
      ]
     },
     "execution_count": 222,
     "metadata": {},
     "output_type": "execute_result"
    }
   ],
   "source": [
    "seq"
   ]
  },
  {
   "cell_type": "code",
   "execution_count": 223,
   "metadata": {},
   "outputs": [
    {
     "data": {
      "text/plain": [
       "array([[ 5, 20, 21,  5,  6, 22, 23, 24,  0,  0,  0,  0,  0,  0,  0,  0,\n",
       "         0,  0,  0,  0,  0,  0,  0,  0,  0,  0,  0,  0,  0,  0,  0,  0,\n",
       "         0,  0,  0,  0,  0,  0,  0,  0,  0,  0,  0,  0,  0,  0,  0,  0,\n",
       "         0,  0,  0,  0,  0,  0,  0,  0,  0,  0,  0,  0,  0,  0,  0,  0,\n",
       "         0,  0,  0,  0,  0,  0,  0,  0,  0,  0,  0,  0,  0,  0,  0,  0,\n",
       "         0,  0,  0,  0,  0,  0,  0,  0,  0,  0,  0,  0,  0,  0,  0,  0,\n",
       "         0,  0,  0,  0,  0,  0,  0,  0,  0,  0,  0,  0,  0,  0,  0,  0,\n",
       "         0,  0,  0,  0,  0,  0,  0,  0,  0,  0,  0,  0,  0,  0,  0,  0,\n",
       "         0,  0]], dtype=int32)"
      ]
     },
     "execution_count": 223,
     "metadata": {},
     "output_type": "execute_result"
    }
   ],
   "source": [
    "pad_seq"
   ]
  },
  {
   "cell_type": "code",
   "execution_count": 225,
   "metadata": {
    "scrolled": true
   },
   "outputs": [
    {
     "data": {
      "text/plain": [
       "array([[0.39516103, 0.13412477, 0.16609646, 0.19263555, 0.11198226]],\n",
       "      dtype=float32)"
      ]
     },
     "execution_count": 225,
     "metadata": {},
     "output_type": "execute_result"
    }
   ],
   "source": [
    "#predict the result using the trained model\n",
    "\n",
    "pred = model.predict(pad_seq)\n",
    "pred"
   ]
  },
  {
   "cell_type": "code",
   "execution_count": 219,
   "metadata": {},
   "outputs": [
    {
     "name": "stdout",
     "output_type": "stream",
     "text": [
      "[0]\n"
     ]
    }
   ],
   "source": [
    "# get the label class\n",
    "\n",
    "classes = np.argmax(pred, axis = 1)\n",
    "print(classes)"
   ]
  },
  {
   "cell_type": "code",
   "execution_count": 62,
   "metadata": {},
   "outputs": [],
   "source": [
    "%matplotlib inline\n",
    "from sklearn.metrics import confusion_matrix, f1_score,classification_report, accuracy_score\n",
    "import itertools\n",
    "import matplotlib.pyplot as plt"
   ]
  },
  {
   "cell_type": "code",
   "execution_count": 41,
   "metadata": {},
   "outputs": [
    {
     "name": "stdout",
     "output_type": "stream",
     "text": [
      "0.8552517546899242\n"
     ]
    }
   ],
   "source": [
    "# f1 score\n",
    "print(f1_score(new_df_eval['Label'], classes , average=\"macro\"))\n"
   ]
  },
  {
   "cell_type": "code",
   "execution_count": 74,
   "metadata": {},
   "outputs": [
    {
     "name": "stdout",
     "output_type": "stream",
     "text": [
      "accuracy for the evaluation dataset is 0.8547094188376754\n"
     ]
    }
   ],
   "source": [
    "print('accuracy for the evaluation dataset is {}'.format(accuracy_score(y_true=new_df_eval['Label'], y_pred=classes, normalize=True)))"
   ]
  },
  {
   "cell_type": "code",
   "execution_count": 67,
   "metadata": {},
   "outputs": [],
   "source": [
    "target_names = ['User Interface', 'Debug','Document and text', 'Integration', 'Core']"
   ]
  },
  {
   "cell_type": "code",
   "execution_count": 68,
   "metadata": {},
   "outputs": [
    {
     "name": "stdout",
     "output_type": "stream",
     "text": [
      "                   precision    recall  f1-score   support\n",
      "\n",
      "   User Interface       0.76      0.79      0.78       195\n",
      "            Debug       0.91      0.87      0.89       194\n",
      "Document and text       0.93      0.95      0.94       204\n",
      "      Integration       0.91      0.82      0.87       200\n",
      "             Core       0.78      0.83      0.80       205\n",
      "\n",
      "         accuracy                           0.85       998\n",
      "        macro avg       0.86      0.85      0.86       998\n",
      "     weighted avg       0.86      0.85      0.86       998\n",
      "\n"
     ]
    }
   ],
   "source": [
    "print(classification_report(y_true=new_df_eval['Label'], y_pred=classes, target_names=target_names))"
   ]
  },
  {
   "cell_type": "code",
   "execution_count": 42,
   "metadata": {},
   "outputs": [],
   "source": [
    "cm = confusion_matrix(y_true=new_df_eval['Label'], y_pred=classes)"
   ]
  },
  {
   "cell_type": "code",
   "execution_count": 56,
   "metadata": {},
   "outputs": [],
   "source": [
    "def plot_confusion_matrix(cm, classes,\n",
    "                        normalize=False,\n",
    "                        title='Confusion matrix',\n",
    "                        cmap=plt.cm.Blues):\n",
    "# plotting the confusion matrix\n",
    "    plt.imshow(cm, interpolation='nearest', cmap=cmap)\n",
    "    plt.title(title)\n",
    "    plt.colorbar()\n",
    "    tick_marks = np.arange(len(classes))\n",
    "    plt.xticks(tick_marks, classes, rotation=90)\n",
    "    plt.yticks(tick_marks, classes)\n",
    "    \n",
    "\n",
    "    if normalize:\n",
    "        cm = cm.astype('float') / cm.sum(axis=1)[:, np.newaxis]\n",
    "        print(\"Normalized confusion matrix\")\n",
    "    else:\n",
    "        print('Confusion matrix, without normalization')\n",
    "\n",
    "    print(cm)\n",
    "\n",
    "    thresh = cm.max() / 2.\n",
    "    for i, j in itertools.product(range(cm.shape[0]), range(cm.shape[1])):\n",
    "        plt.text(j, i, cm[i, j],\n",
    "            horizontalalignment=\"center\",\n",
    "            color=\"white\" if cm[i, j] > thresh else \"black\")\n",
    "\n",
    "    plt.tight_layout()\n",
    "    plt.ylabel('True label')\n",
    "    plt.xlabel('Predicted label')\n",
    "    \n"
   ]
  },
  {
   "cell_type": "code",
   "execution_count": 50,
   "metadata": {},
   "outputs": [],
   "source": [
    "cm_plot_labels = ['User Interface', 'Debug','Document and text', 'Integration', 'Core']"
   ]
  },
  {
   "cell_type": "code",
   "execution_count": 57,
   "metadata": {},
   "outputs": [
    {
     "name": "stdout",
     "output_type": "stream",
     "text": [
      "Confusion matrix, without normalization\n",
      "[[155   3   2   7  28]\n",
      " [ 11 169   0   5   9]\n",
      " [  4   1 194   3   2]\n",
      " [ 11   6   8 165  10]\n",
      " [ 23   6   5   1 170]]\n"
     ]
    },
    {
     "data": {
      "image/png": "[encoded data removed]",
      "text/plain": [
       "<Figure size 432x288 with 2 Axes>"
      ]
     },
     "metadata": {
      "needs_background": "light"
     },
     "output_type": "display_data"
    }
   ],
   "source": [
    "plot_confusion_matrix(cm=cm, classes=cm_plot_labels, title='Confusion Matrix')"
   ]
  }
 ],
 "metadata": {
  "colab": {
   "authorship_tag": "ABX9TyMn9CQZz2O8/xkBiRblGV4K",
   "name": "Untitled0.ipynb",
   "provenance": []
  },
  "kernelspec": {
   "display_name": "Python 3",
   "language": "python",
   "name": "python3"
  },
  "language_info": {
   "codemirror_mode": {
    "name": "ipython",
    "version": 3
   },
   "file_extension": ".py",
   "mimetype": "text/x-python",
   "name": "python",
   "nbconvert_exporter": "python",
   "pygments_lexer": "ipython3",
   "version": "3.7.3"
  }
 },
 "nbformat": 4,
 "nbformat_minor": 1
}
