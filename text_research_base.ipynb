{
 "cells": [
  {
   "cell_type": "markdown",
   "metadata": {},
   "source": [
    "# Import the dataset"
   ]
  },
  {
   "cell_type": "code",
   "execution_count": 1,
   "metadata": {
    "executionInfo": {
     "elapsed": 3684,
     "status": "ok",
     "timestamp": 1620288690730,
     "user": {
      "displayName": "Charun Umesh",
      "photoUrl": "https://lh3.googleusercontent.com/a-/AOh14Ghzs-ksY7r-r2Z0dg0X5T80WP9Bav3EwTznk27TQw=s64",
      "userId": "07812142606232750963"
     },
     "user_tz": -330
    },
    "id": "_nzCXpIXuvns"
   },
   "outputs": [
    {
     "name": "stderr",
     "output_type": "stream",
     "text": [
      "/home/charun/snap/jupyter/common/lib/python3.7/site-packages/joblib/_multiprocessing_helpers.py:45: UserWarning: [Errno 13] Permission denied.  joblib will operate in serial mode\n",
      "  warnings.warn('%s.  joblib will operate in serial mode' % (e,))\n"
     ]
    }
   ],
   "source": [
    "#import all the libraries\n",
    "\n",
    "import pandas as pd\n",
    "import numpy as np\n",
    "import matplotlib.pyplot as plt\n",
    "from textblob import TextBlob\n",
    "import re\n",
    "from nltk.corpus import stopwords\n",
    "from nltk.stem.wordnet import WordNetLemmatizer\n",
    "from numpy import savetxt\n",
    "import pickle\n",
    "from random import shuffle\n",
    "from sklearn.feature_selection import chi2\n",
    "from sklearn.feature_extraction.text import TfidfVectorizer\n",
    "from sklearn.feature_extraction.text import CountVectorizer"
   ]
  },
  {
   "cell_type": "code",
   "execution_count": 22,
   "metadata": {},
   "outputs": [
    {
     "data": {
      "text/html": [
       "<div>\n",
       "<style scoped>\n",
       "    .dataframe tbody tr th:only-of-type {\n",
       "        vertical-align: middle;\n",
       "    }\n",
       "\n",
       "    .dataframe tbody tr th {\n",
       "        vertical-align: top;\n",
       "    }\n",
       "\n",
       "    .dataframe thead th {\n",
       "        text-align: right;\n",
       "    }\n",
       "</style>\n",
       "<table border=\"1\" class=\"dataframe\">\n",
       "  <thead>\n",
       "    <tr style=\"text-align: right;\">\n",
       "      <th></th>\n",
       "      <th>Text</th>\n",
       "      <th>Label</th>\n",
       "    </tr>\n",
       "  </thead>\n",
       "  <tbody>\n",
       "    <tr>\n",
       "      <th>0</th>\n",
       "      <td>[formatter] New JavaDoc formatter wrongly inde...</td>\n",
       "      <td>Core</td>\n",
       "    </tr>\n",
       "    <tr>\n",
       "      <th>1</th>\n",
       "      <td>An internal error occurred during: \"Updating w...</td>\n",
       "      <td>Core</td>\n",
       "    </tr>\n",
       "    <tr>\n",
       "      <th>2</th>\n",
       "      <td>[null][correlation] spurious \"null pointer acc...</td>\n",
       "      <td>Core</td>\n",
       "    </tr>\n",
       "    <tr>\n",
       "      <th>3</th>\n",
       "      <td>ASTRewrite should support replacing n nodes wi...</td>\n",
       "      <td>Core</td>\n",
       "    </tr>\n",
       "    <tr>\n",
       "      <th>4</th>\n",
       "      <td>Unit tests and test framework mixed up over vm...</td>\n",
       "      <td>Core</td>\n",
       "    </tr>\n",
       "  </tbody>\n",
       "</table>\n",
       "</div>"
      ],
      "text/plain": [
       "                                                Text Label\n",
       "0  [formatter] New JavaDoc formatter wrongly inde...  Core\n",
       "1  An internal error occurred during: \"Updating w...  Core\n",
       "2  [null][correlation] spurious \"null pointer acc...  Core\n",
       "3  ASTRewrite should support replacing n nodes wi...  Core\n",
       "4  Unit tests and test framework mixed up over vm...  Core"
      ]
     },
     "execution_count": 22,
     "metadata": {},
     "output_type": "execute_result"
    }
   ],
   "source": [
    "#import the dataset using the pandas\n",
    "\n",
    "df_train = pd.read_excel('/home/charun/Documents/Projects/text_research/train_data.xlsx')\n",
    "\n",
    "df_train.head()"
   ]
  },
  {
   "cell_type": "code",
   "execution_count": 3,
   "metadata": {},
   "outputs": [
    {
     "data": {
      "text/plain": [
       "Index(['text', 'label'], dtype='object')"
      ]
     },
     "execution_count": 3,
     "metadata": {},
     "output_type": "execute_result"
    }
   ],
   "source": [
    "df_test = pd.read_excel('/home/charun/Documents/Projects/text_research/test_data.xlsx')\n",
    "df_test.columns"
   ]
  },
  {
   "cell_type": "code",
   "execution_count": 4,
   "metadata": {},
   "outputs": [],
   "source": [
    "#convert our labels into numerical values. in here we add 0 for the User Interface, 1 for the debug and\n",
    "# 2 for the document and text\n",
    "\n",
    "df_train['Label'] = df_train['Label'].replace(['User Interface', 'Debug','Document and text', 'Integration', 'Core' ], [0,1,2,3,4])\n",
    "\n",
    "#after that we drop the column which contains the textual labels\n",
    "\n",
    "#new_df_train = df_train.drop(columns=['label'])\n",
    "#new_df_train['Label'].unique()\n",
    "new_df_train = df_train"
   ]
  },
  {
   "cell_type": "code",
   "execution_count": 5,
   "metadata": {},
   "outputs": [],
   "source": [
    "#convert our labels into numerical values. in here we add 0 for the User Interface, 1 for the debug and\n",
    "# 2 for the document and text\n",
    "\n",
    "df_test['label'] = df_test['label'].replace(['User Interface', 'Debug','Document and text', 'Integration', 'Core' ], [0,1,2,3,4])\n",
    "\n",
    "#after that we drop the column which contains the textual labels\n",
    "\n",
    "#new_df_test = df_test.drop(columns=['label'])\n",
    "#new_df_test['Label'].unique()\n",
    "new_df_test = df_test"
   ]
  },
  {
   "cell_type": "code",
   "execution_count": 13,
   "metadata": {},
   "outputs": [],
   "source": [
    "new_df_train['Text'] = new_df_train['Text'].str.lower()\n",
    "new_df_test['text'] = new_df_test['text'].str.lower()"
   ]
  },
  {
   "cell_type": "code",
   "execution_count": 11,
   "metadata": {},
   "outputs": [
    {
     "name": "stderr",
     "output_type": "stream",
     "text": [
      "/snap/jupyter/6/lib/python3.7/site-packages/ipykernel_launcher.py:4: FutureWarning: The default value of regex will change from True to False in a future version.\n",
      "  after removing the cwd from sys.path.\n"
     ]
    }
   ],
   "source": [
    "\n",
    "#new_df['Text'] = ''.join([i for i in df['Text'][1] if not i.isdigit()])\n",
    "\n",
    "new_df_train['Text'] = new_df_train['Text'].str.replace('\\d+', ' ')\n",
    "new_df_train['Text'] = new_df_train['Text'].apply(str)\n",
    "new_df_train['Text'] = new_df_train['Text'].str.lower()"
   ]
  },
  {
   "cell_type": "code",
   "execution_count": 14,
   "metadata": {},
   "outputs": [
    {
     "data": {
      "text/plain": [
       "0       [formatter] new javadoc formatter wrongly inde...\n",
       "1       an internal error occurred during: \"updating w...\n",
       "2       [null][correlation] spurious \"null pointer acc...\n",
       "3       astrewrite should support replacing n nodes wi...\n",
       "4       unit tests and test framework mixed up over vm...\n",
       "                              ...                        \n",
       "3655    cannot create build script anymore: npe thrown...\n",
       "3656       [p ] support source.bundles.txt in p  installs\n",
       "3657                                  dead code in pde.ui\n",
       "3658    some bundleentry: iconuris are not being rewri...\n",
       "3659    [schema][editors] update icons in extension po...\n",
       "Name: Text, Length: 3660, dtype: object"
      ]
     },
     "execution_count": 14,
     "metadata": {},
     "output_type": "execute_result"
    }
   ],
   "source": [
    "new_df_train['Text']"
   ]
  },
  {
   "cell_type": "code",
   "execution_count": 157,
   "metadata": {},
   "outputs": [
    {
     "name": "stderr",
     "output_type": "stream",
     "text": [
      "[nltk_data] Error loading punkt: <urlopen error [SSL:\n",
      "[nltk_data]     CERTIFICATE_VERIFY_FAILED] certificate verify failed:\n",
      "[nltk_data]     unable to get local issuer certificate (_ssl.c:1056)>\n"
     ]
    },
    {
     "data": {
      "text/plain": [
       "False"
      ]
     },
     "execution_count": 157,
     "metadata": {},
     "output_type": "execute_result"
    }
   ],
   "source": [
    "import nltk \n",
    "nltk.download('punkt', stopwords)"
   ]
  },
  {
   "cell_type": "markdown",
   "metadata": {},
   "source": [
    "import nltk\n",
    "nltk.download('punkt', 'stopwords')"
   ]
  },
  {
   "cell_type": "markdown",
   "metadata": {},
   "source": [
    "# Preprocess the data"
   ]
  },
  {
   "cell_type": "code",
   "execution_count": 15,
   "metadata": {
    "id": "issgXUXRu10w"
   },
   "outputs": [],
   "source": [
    "#preprocess the data\n",
    "# in preprocessing we perform stopword removal, character removal, lemmatization etc\n",
    "\n",
    "def form_sentence(sentence):\n",
    "    sentence = re.sub(r\"(?:\\#+[\\w_]+[\\w\\'_\\-]*[\\w_]+)\", '', sentence)\n",
    "    sentence = re.sub(r'<[^>]+>', '', sentence)\n",
    "    sentence = re.sub(r'http[s]?://(?:[a-z]|[0-9]|[$-_@.&+]|[!*\\(\\),]|(?:%[0-9a-f][0-9a-f]))+', '', sentence)\n",
    "    sentence_blob = TextBlob(sentence)\n",
    "    return ' '.join(sentence_blob.words)\n",
    "\n",
    "\n",
    "def no_user_alpha(sentence):\n",
    "    sentence_list = [ele for ele in sentence.split() if ele != 'user']\n",
    "    clean_tokens = [t for t in sentence_list if re.match(r'[^\\W\\d]*$', t)]\n",
    "    clean_s = ' '.join(clean_tokens)\n",
    "    clean_mess = [word for word in clean_s.split() if word.lower() not in stopwords.words('english')]\n",
    "    return clean_mess\n",
    "\n",
    "\n",
    "def normalization(sentence_list):\n",
    "    lem = WordNetLemmatizer()\n",
    "    normalized_tweet = []\n",
    "    for word in sentence_list:\n",
    "        normalized_text = lem.lemmatize(word, 'v')\n",
    "        normalized_tweet.append(normalized_text)\n",
    "    return normalized_tweet\n",
    "\n",
    "\n",
    "Final_words_train = [] \n",
    "Final_words_test = []\n",
    "\n",
    "\n",
    "for data in new_df_train['Text']:\n",
    "    filtered = normalization(no_user_alpha(form_sentence(data)))\n",
    "    word_Final = ' '.join(filtered)\n",
    "    Final_words_train.append(word_Final)\n",
    "    \n",
    "for data in new_df_test['text']:\n",
    "    filtered = normalization(no_user_alpha(form_sentence(data)))\n",
    "    word_Final = ' '.join(filtered)\n",
    "    Final_words_test.append(word_Final)\n",
    "\n",
    "\n",
    "# store preprocessed data to new dataframe called final_bodyTrain    \n",
    "    \n",
    "final_bodyTrain = pd.DataFrame(Final_words_train, columns=['body'])\n",
    "final_bodyTest = pd.DataFrame(Final_words_test, columns=['body'])"
   ]
  },
  {
   "cell_type": "code",
   "execution_count": 16,
   "metadata": {},
   "outputs": [],
   "source": [
    "final_bodyTrain['body'] = final_bodyTrain['body'].str.lower()\n",
    "final_bodyTest['body'] = final_bodyTest['body'].str.lower()"
   ]
  },
  {
   "cell_type": "markdown",
   "metadata": {},
   "source": [
    "# create and train the model"
   ]
  },
  {
   "cell_type": "code",
   "execution_count": 17,
   "metadata": {
    "id": "4ZS60HbUu4WT"
   },
   "outputs": [],
   "source": [
    "# import all the libraries to train the model\n",
    "\n",
    "import matplotlib.pyplot as plt\n",
    "import time\n",
    "import tensorflow as tf\n",
    "import keras\n",
    "from sklearn.metrics import accuracy_score,precision_score, recall_score,f1_score,roc_auc_score,roc_curve\n",
    "from tensorflow.keras.preprocessing.text import Tokenizer\n",
    "from tensorflow.keras.preprocessing.sequence import pad_sequences\n",
    "from tensorflow.keras.layers import Dense, Embedding, Bidirectional, LSTM, Dropout\n",
    "from tensorflow.keras.callbacks import Callback\n",
    "from tensorflow.keras import regularizers\n",
    "from tensorflow.keras.models import Sequential\n",
    "import matplotlib.pyplot as plt\n",
    "from keras import optimizers\n",
    "import pickle\n",
    "from tensorflow.keras.callbacks import EarlyStopping\n",
    "from tqdm import tqdm\n",
    "from keras.utils import to_categorical"
   ]
  },
  {
   "cell_type": "code",
   "execution_count": 18,
   "metadata": {
    "id": "U2hLbCf5u5CL"
   },
   "outputs": [
    {
     "name": "stderr",
     "output_type": "stream",
     "text": [
      "400000it [00:31, 12651.13it/s]\n",
      "100%|██████████| 3257/3257 [00:00<00:00, 279357.23it/s]\n"
     ]
    }
   ],
   "source": [
    "token = Tokenizer()\n",
    "token.fit_on_texts(final_bodyTrain['body'])\n",
    "\n",
    "#integer encode the documents\n",
    "seq = token.texts_to_sequences(final_bodyTrain['body'])\n",
    "\n",
    "# pad the document\n",
    "\n",
    "max_length = 100\n",
    "pad_seq = pad_sequences(seq, maxlen=max_length, padding='post')\n",
    "\n",
    "# testing set\n",
    "\n",
    "test_set = token.fit_on_texts(final_bodyTest['body'])\n",
    "\n",
    "#integer encode the documents\n",
    "test_seq = token.texts_to_sequences(final_bodyTest['body'])\n",
    "\n",
    "# pad the document\n",
    "\n",
    "max_length = 100\n",
    "testing_seq = pad_sequences(test_seq, maxlen=max_length, padding='post')\n",
    "\n",
    "\n",
    "\n",
    "\n",
    "vocab_size = len(token.word_index) +1\n",
    "\n",
    "#load the embedding layer\n",
    "\n",
    "embedding_vector = {}\n",
    "\n",
    "# we use the Glove to vectorize our dataset\n",
    "\n",
    "f = open('/home/charun/Documents/Projects/text_research/glove.6B/glove.6B.100d.txt')\n",
    " \n",
    "for line in tqdm(f):\n",
    "  value = line.split(' ')\n",
    "  word = value[0]\n",
    "  coef = np.array(value[1:], dtype = 'float32')\n",
    "  embedding_vector[word] = coef\n",
    "\n",
    "\n",
    "# create a weight matrix for words in training docs\n",
    "embedding_matrix = np.zeros((vocab_size, 100))\n",
    "for word,i in tqdm(token.word_index.items()):\n",
    "    embedding_value = embedding_vector.get(word)\n",
    "    if embedding_value is not None:\n",
    "        embedding_matrix[i] = embedding_value"
   ]
  },
  {
   "cell_type": "code",
   "execution_count": 19,
   "metadata": {},
   "outputs": [],
   "source": [
    "y = new_df_train['Label']\n",
    "#y = np.array(y)\n",
    "y = to_categorical(y)\n",
    "\n",
    "test_y = new_df_test['label']\n",
    "test_y = to_categorical(test_y)"
   ]
  },
  {
   "cell_type": "code",
   "execution_count": 16,
   "metadata": {},
   "outputs": [
    {
     "data": {
      "text/plain": [
       "array([[0., 0., 0., 0., 1.],\n",
       "       [0., 0., 0., 0., 1.],\n",
       "       [0., 0., 0., 0., 1.],\n",
       "       ...,\n",
       "       [1., 0., 0., 0., 0.],\n",
       "       [1., 0., 0., 0., 0.],\n",
       "       [1., 0., 0., 0., 0.]], dtype=float32)"
      ]
     },
     "execution_count": 16,
     "metadata": {},
     "output_type": "execute_result"
    }
   ],
   "source": [
    "y"
   ]
  },
  {
   "cell_type": "code",
   "execution_count": 21,
   "metadata": {},
   "outputs": [
    {
     "name": "stdout",
     "output_type": "stream",
     "text": [
      "Model: \"sequential_1\"\n",
      "_________________________________________________________________\n",
      "Layer (type)                 Output Shape              Param #   \n",
      "=================================================================\n",
      "embedding_1 (Embedding)      (None, 100, 100)          325800    \n",
      "_________________________________________________________________\n",
      "bidirectional_1 (Bidirection (None, 200)               160800    \n",
      "_________________________________________________________________\n",
      "dropout_1 (Dropout)          (None, 200)               0         \n",
      "_________________________________________________________________\n",
      "dense_2 (Dense)              (None, 8)                 1608      \n",
      "_________________________________________________________________\n",
      "dense_3 (Dense)              (None, 5)                 45        \n",
      "=================================================================\n",
      "Total params: 488,253\n",
      "Trainable params: 162,453\n",
      "Non-trainable params: 325,800\n",
      "_________________________________________________________________\n",
      "Epoch 1/50\n",
      "29/29 [==============================] - 13s 357ms/step - loss: 1.6135 - accuracy: 0.8000 - precision_1: 0.0000e+00 - recall_1: 0.0000e+00 - val_loss: 1.6140 - val_accuracy: 0.8000 - val_precision_1: 0.0000e+00 - val_recall_1: 0.0000e+00\n",
      "Epoch 2/50\n",
      "29/29 [==============================] - 9s 317ms/step - loss: 1.5698 - accuracy: 0.8000 - precision_1: 0.1333 - recall_1: 3.7161e-05 - val_loss: 1.6179 - val_accuracy: 0.7998 - val_precision_1: 0.3333 - val_recall_1: 0.0010\n",
      "Epoch 3/50\n",
      "29/29 [==============================] - 9s 328ms/step - loss: 1.4889 - accuracy: 0.8037 - precision_1: 0.8904 - recall_1: 0.0220 - val_loss: 1.6608 - val_accuracy: 0.7994 - val_precision_1: 0.4754 - val_recall_1: 0.0291\n",
      "Epoch 4/50\n",
      "29/29 [==============================] - 9s 313ms/step - loss: 1.3931 - accuracy: 0.8113 - precision_1: 0.7906 - recall_1: 0.0774 - val_loss: 1.6645 - val_accuracy: 0.7948 - val_precision_1: 0.3839 - val_recall_1: 0.0431\n",
      "Epoch 5/50\n",
      "29/29 [==============================] - 9s 317ms/step - loss: 1.3005 - accuracy: 0.8245 - precision_1: 0.8043 - recall_1: 0.1619 - val_loss: 1.6570 - val_accuracy: 0.7930 - val_precision_1: 0.3871 - val_recall_1: 0.0601\n",
      "Epoch 6/50\n",
      "29/29 [==============================] - 9s 322ms/step - loss: 1.2169 - accuracy: 0.8360 - precision_1: 0.8153 - recall_1: 0.2339 - val_loss: 1.7071 - val_accuracy: 0.7886 - val_precision_1: 0.3582 - val_recall_1: 0.0721\n",
      "Epoch 7/50\n",
      "29/29 [==============================] - 9s 326ms/step - loss: 1.1642 - accuracy: 0.8433 - precision_1: 0.8243 - recall_1: 0.2747 - val_loss: 1.7922 - val_accuracy: 0.7880 - val_precision_1: 0.3846 - val_recall_1: 0.1002\n",
      "Epoch 8/50\n",
      "29/29 [==============================] - 10s 358ms/step - loss: 1.1189 - accuracy: 0.8512 - precision_1: 0.8059 - recall_1: 0.3373 - val_loss: 1.8004 - val_accuracy: 0.7741 - val_precision_1: 0.3028 - val_recall_1: 0.0992\n",
      "Epoch 9/50\n",
      "29/29 [==============================] - 10s 348ms/step - loss: 1.0561 - accuracy: 0.8590 - precision_1: 0.8413 - recall_1: 0.3640 - val_loss: 1.8480 - val_accuracy: 0.7756 - val_precision_1: 0.3227 - val_recall_1: 0.1112\n",
      "Epoch 10/50\n",
      "29/29 [==============================] - 10s 338ms/step - loss: 9088235.0118 - accuracy: 0.8633 - precision_1: 0.8250 - recall_1: 0.4020 - val_loss: 2.0033 - val_accuracy: 0.7631 - val_precision_1: 0.2677 - val_recall_1: 0.1062\n",
      "Epoch 11/50\n",
      "29/29 [==============================] - 9s 326ms/step - loss: 0.9867 - accuracy: 0.8664 - precision_1: 0.8187 - recall_1: 0.4265 - val_loss: 1.9804 - val_accuracy: 0.7687 - val_precision_1: 0.3160 - val_recall_1: 0.1343\n",
      "Epoch 12/50\n",
      " 2/29 [=>............................] - ETA: 7s - loss: 0.9593 - accuracy: 0.8727 - precision_1: 0.8345 - recall_1: 0.4531"
     ]
    },
    {
     "ename": "KeyboardInterrupt",
     "evalue": "",
     "output_type": "error",
     "traceback": [
      "\u001b[0;31m---------------------------------------------------------------------------\u001b[0m",
      "\u001b[0;31mKeyboardInterrupt\u001b[0m                         Traceback (most recent call last)",
      "\u001b[0;32m<ipython-input-21-3e4fdd0b3693>\u001b[0m in \u001b[0;36m<module>\u001b[0;34m\u001b[0m\n\u001b[1;32m     46\u001b[0m     \u001b[0;31m#validation_split = 0.3\u001b[0m\u001b[0;34m\u001b[0m\u001b[0;34m\u001b[0m\u001b[0;34m\u001b[0m\u001b[0m\n\u001b[1;32m     47\u001b[0m \u001b[0;34m\u001b[0m\u001b[0m\n\u001b[0;32m---> 48\u001b[0;31m     \u001b[0mcallbacks\u001b[0m \u001b[0;34m=\u001b[0m \u001b[0;34m[\u001b[0m\u001b[0mcallback\u001b[0m\u001b[0;34m]\u001b[0m\u001b[0;34m\u001b[0m\u001b[0;34m\u001b[0m\u001b[0m\n\u001b[0m\u001b[1;32m     49\u001b[0m )\n\u001b[1;32m     50\u001b[0m \u001b[0;34m\u001b[0m\u001b[0m\n",
      "\u001b[0;32m/home/charun/snap/jupyter/common/lib/python3.7/site-packages/tensorflow/python/keras/engine/training.py\u001b[0m in \u001b[0;36mfit\u001b[0;34m(self, x, y, batch_size, epochs, verbose, callbacks, validation_split, validation_data, shuffle, class_weight, sample_weight, initial_epoch, steps_per_epoch, validation_steps, validation_batch_size, validation_freq, max_queue_size, workers, use_multiprocessing)\u001b[0m\n\u001b[1;32m   1098\u001b[0m                 _r=1):\n\u001b[1;32m   1099\u001b[0m               \u001b[0mcallbacks\u001b[0m\u001b[0;34m.\u001b[0m\u001b[0mon_train_batch_begin\u001b[0m\u001b[0;34m(\u001b[0m\u001b[0mstep\u001b[0m\u001b[0;34m)\u001b[0m\u001b[0;34m\u001b[0m\u001b[0;34m\u001b[0m\u001b[0m\n\u001b[0;32m-> 1100\u001b[0;31m               \u001b[0mtmp_logs\u001b[0m \u001b[0;34m=\u001b[0m \u001b[0mself\u001b[0m\u001b[0;34m.\u001b[0m\u001b[0mtrain_function\u001b[0m\u001b[0;34m(\u001b[0m\u001b[0miterator\u001b[0m\u001b[0;34m)\u001b[0m\u001b[0;34m\u001b[0m\u001b[0;34m\u001b[0m\u001b[0m\n\u001b[0m\u001b[1;32m   1101\u001b[0m               \u001b[0;32mif\u001b[0m \u001b[0mdata_handler\u001b[0m\u001b[0;34m.\u001b[0m\u001b[0mshould_sync\u001b[0m\u001b[0;34m:\u001b[0m\u001b[0;34m\u001b[0m\u001b[0;34m\u001b[0m\u001b[0m\n\u001b[1;32m   1102\u001b[0m                 \u001b[0mcontext\u001b[0m\u001b[0;34m.\u001b[0m\u001b[0masync_wait\u001b[0m\u001b[0;34m(\u001b[0m\u001b[0;34m)\u001b[0m\u001b[0;34m\u001b[0m\u001b[0;34m\u001b[0m\u001b[0m\n",
      "\u001b[0;32m/home/charun/snap/jupyter/common/lib/python3.7/site-packages/tensorflow/python/eager/def_function.py\u001b[0m in \u001b[0;36m__call__\u001b[0;34m(self, *args, **kwds)\u001b[0m\n\u001b[1;32m    826\u001b[0m     \u001b[0mtracing_count\u001b[0m \u001b[0;34m=\u001b[0m \u001b[0mself\u001b[0m\u001b[0;34m.\u001b[0m\u001b[0mexperimental_get_tracing_count\u001b[0m\u001b[0;34m(\u001b[0m\u001b[0;34m)\u001b[0m\u001b[0;34m\u001b[0m\u001b[0;34m\u001b[0m\u001b[0m\n\u001b[1;32m    827\u001b[0m     \u001b[0;32mwith\u001b[0m \u001b[0mtrace\u001b[0m\u001b[0;34m.\u001b[0m\u001b[0mTrace\u001b[0m\u001b[0;34m(\u001b[0m\u001b[0mself\u001b[0m\u001b[0;34m.\u001b[0m\u001b[0m_name\u001b[0m\u001b[0;34m)\u001b[0m \u001b[0;32mas\u001b[0m \u001b[0mtm\u001b[0m\u001b[0;34m:\u001b[0m\u001b[0;34m\u001b[0m\u001b[0;34m\u001b[0m\u001b[0m\n\u001b[0;32m--> 828\u001b[0;31m       \u001b[0mresult\u001b[0m \u001b[0;34m=\u001b[0m \u001b[0mself\u001b[0m\u001b[0;34m.\u001b[0m\u001b[0m_call\u001b[0m\u001b[0;34m(\u001b[0m\u001b[0;34m*\u001b[0m\u001b[0margs\u001b[0m\u001b[0;34m,\u001b[0m \u001b[0;34m**\u001b[0m\u001b[0mkwds\u001b[0m\u001b[0;34m)\u001b[0m\u001b[0;34m\u001b[0m\u001b[0;34m\u001b[0m\u001b[0m\n\u001b[0m\u001b[1;32m    829\u001b[0m       \u001b[0mcompiler\u001b[0m \u001b[0;34m=\u001b[0m \u001b[0;34m\"xla\"\u001b[0m \u001b[0;32mif\u001b[0m \u001b[0mself\u001b[0m\u001b[0;34m.\u001b[0m\u001b[0m_experimental_compile\u001b[0m \u001b[0;32melse\u001b[0m \u001b[0;34m\"nonXla\"\u001b[0m\u001b[0;34m\u001b[0m\u001b[0;34m\u001b[0m\u001b[0m\n\u001b[1;32m    830\u001b[0m       \u001b[0mnew_tracing_count\u001b[0m \u001b[0;34m=\u001b[0m \u001b[0mself\u001b[0m\u001b[0;34m.\u001b[0m\u001b[0mexperimental_get_tracing_count\u001b[0m\u001b[0;34m(\u001b[0m\u001b[0;34m)\u001b[0m\u001b[0;34m\u001b[0m\u001b[0;34m\u001b[0m\u001b[0m\n",
      "\u001b[0;32m/home/charun/snap/jupyter/common/lib/python3.7/site-packages/tensorflow/python/eager/def_function.py\u001b[0m in \u001b[0;36m_call\u001b[0;34m(self, *args, **kwds)\u001b[0m\n\u001b[1;32m    853\u001b[0m       \u001b[0;31m# In this case we have created variables on the first call, so we run the\u001b[0m\u001b[0;34m\u001b[0m\u001b[0;34m\u001b[0m\u001b[0;34m\u001b[0m\u001b[0m\n\u001b[1;32m    854\u001b[0m       \u001b[0;31m# defunned version which is guaranteed to never create variables.\u001b[0m\u001b[0;34m\u001b[0m\u001b[0;34m\u001b[0m\u001b[0;34m\u001b[0m\u001b[0m\n\u001b[0;32m--> 855\u001b[0;31m       \u001b[0;32mreturn\u001b[0m \u001b[0mself\u001b[0m\u001b[0;34m.\u001b[0m\u001b[0m_stateless_fn\u001b[0m\u001b[0;34m(\u001b[0m\u001b[0;34m*\u001b[0m\u001b[0margs\u001b[0m\u001b[0;34m,\u001b[0m \u001b[0;34m**\u001b[0m\u001b[0mkwds\u001b[0m\u001b[0;34m)\u001b[0m  \u001b[0;31m# pylint: disable=not-callable\u001b[0m\u001b[0;34m\u001b[0m\u001b[0;34m\u001b[0m\u001b[0m\n\u001b[0m\u001b[1;32m    856\u001b[0m     \u001b[0;32melif\u001b[0m \u001b[0mself\u001b[0m\u001b[0;34m.\u001b[0m\u001b[0m_stateful_fn\u001b[0m \u001b[0;32mis\u001b[0m \u001b[0;32mnot\u001b[0m \u001b[0;32mNone\u001b[0m\u001b[0;34m:\u001b[0m\u001b[0;34m\u001b[0m\u001b[0;34m\u001b[0m\u001b[0m\n\u001b[1;32m    857\u001b[0m       \u001b[0;31m# Release the lock early so that multiple threads can perform the call\u001b[0m\u001b[0;34m\u001b[0m\u001b[0;34m\u001b[0m\u001b[0;34m\u001b[0m\u001b[0m\n",
      "\u001b[0;32m/home/charun/snap/jupyter/common/lib/python3.7/site-packages/tensorflow/python/eager/function.py\u001b[0m in \u001b[0;36m__call__\u001b[0;34m(self, *args, **kwargs)\u001b[0m\n\u001b[1;32m   2941\u001b[0m        filtered_flat_args) = self._maybe_define_function(args, kwargs)\n\u001b[1;32m   2942\u001b[0m     return graph_function._call_flat(\n\u001b[0;32m-> 2943\u001b[0;31m         filtered_flat_args, captured_inputs=graph_function.captured_inputs)  # pylint: disable=protected-access\n\u001b[0m\u001b[1;32m   2944\u001b[0m \u001b[0;34m\u001b[0m\u001b[0m\n\u001b[1;32m   2945\u001b[0m   \u001b[0;34m@\u001b[0m\u001b[0mproperty\u001b[0m\u001b[0;34m\u001b[0m\u001b[0;34m\u001b[0m\u001b[0m\n",
      "\u001b[0;32m/home/charun/snap/jupyter/common/lib/python3.7/site-packages/tensorflow/python/eager/function.py\u001b[0m in \u001b[0;36m_call_flat\u001b[0;34m(self, args, captured_inputs, cancellation_manager)\u001b[0m\n\u001b[1;32m   1917\u001b[0m       \u001b[0;31m# No tape is watching; skip to running the function.\u001b[0m\u001b[0;34m\u001b[0m\u001b[0;34m\u001b[0m\u001b[0;34m\u001b[0m\u001b[0m\n\u001b[1;32m   1918\u001b[0m       return self._build_call_outputs(self._inference_function.call(\n\u001b[0;32m-> 1919\u001b[0;31m           ctx, args, cancellation_manager=cancellation_manager))\n\u001b[0m\u001b[1;32m   1920\u001b[0m     forward_backward = self._select_forward_and_backward_functions(\n\u001b[1;32m   1921\u001b[0m         \u001b[0margs\u001b[0m\u001b[0;34m,\u001b[0m\u001b[0;34m\u001b[0m\u001b[0;34m\u001b[0m\u001b[0m\n",
      "\u001b[0;32m/home/charun/snap/jupyter/common/lib/python3.7/site-packages/tensorflow/python/eager/function.py\u001b[0m in \u001b[0;36mcall\u001b[0;34m(self, ctx, args, cancellation_manager)\u001b[0m\n\u001b[1;32m    558\u001b[0m               \u001b[0minputs\u001b[0m\u001b[0;34m=\u001b[0m\u001b[0margs\u001b[0m\u001b[0;34m,\u001b[0m\u001b[0;34m\u001b[0m\u001b[0;34m\u001b[0m\u001b[0m\n\u001b[1;32m    559\u001b[0m               \u001b[0mattrs\u001b[0m\u001b[0;34m=\u001b[0m\u001b[0mattrs\u001b[0m\u001b[0;34m,\u001b[0m\u001b[0;34m\u001b[0m\u001b[0;34m\u001b[0m\u001b[0m\n\u001b[0;32m--> 560\u001b[0;31m               ctx=ctx)\n\u001b[0m\u001b[1;32m    561\u001b[0m         \u001b[0;32melse\u001b[0m\u001b[0;34m:\u001b[0m\u001b[0;34m\u001b[0m\u001b[0;34m\u001b[0m\u001b[0m\n\u001b[1;32m    562\u001b[0m           outputs = execute.execute_with_cancellation(\n",
      "\u001b[0;32m/home/charun/snap/jupyter/common/lib/python3.7/site-packages/tensorflow/python/eager/execute.py\u001b[0m in \u001b[0;36mquick_execute\u001b[0;34m(op_name, num_outputs, inputs, attrs, ctx, name)\u001b[0m\n\u001b[1;32m     58\u001b[0m     \u001b[0mctx\u001b[0m\u001b[0;34m.\u001b[0m\u001b[0mensure_initialized\u001b[0m\u001b[0;34m(\u001b[0m\u001b[0;34m)\u001b[0m\u001b[0;34m\u001b[0m\u001b[0;34m\u001b[0m\u001b[0m\n\u001b[1;32m     59\u001b[0m     tensors = pywrap_tfe.TFE_Py_Execute(ctx._handle, device_name, op_name,\n\u001b[0;32m---> 60\u001b[0;31m                                         inputs, attrs, num_outputs)\n\u001b[0m\u001b[1;32m     61\u001b[0m   \u001b[0;32mexcept\u001b[0m \u001b[0mcore\u001b[0m\u001b[0;34m.\u001b[0m\u001b[0m_NotOkStatusException\u001b[0m \u001b[0;32mas\u001b[0m \u001b[0me\u001b[0m\u001b[0;34m:\u001b[0m\u001b[0;34m\u001b[0m\u001b[0;34m\u001b[0m\u001b[0m\n\u001b[1;32m     62\u001b[0m     \u001b[0;32mif\u001b[0m \u001b[0mname\u001b[0m \u001b[0;32mis\u001b[0m \u001b[0;32mnot\u001b[0m \u001b[0;32mNone\u001b[0m\u001b[0;34m:\u001b[0m\u001b[0;34m\u001b[0m\u001b[0;34m\u001b[0m\u001b[0m\n",
      "\u001b[0;31mKeyboardInterrupt\u001b[0m: "
     ]
    }
   ],
   "source": [
    "\n",
    "\n",
    "#define the model\n",
    "\n",
    "model = Sequential()\n",
    "model.add(Embedding(vocab_size, 100, weights = [embedding_matrix], input_length=max_length, trainable=False))\n",
    "#model.add(Bidirectional(LSTM(100)))\n",
    "model.add(Bidirectional(LSTM(units=100, activation='relu'),input_shape=(1,100)))\n",
    "model.add(Dropout(0.5))\n",
    "model.add(Dense(8, activation='relu'))\n",
    "model.add(Dense(5, activation='softmax'))\n",
    "model.summary()\n",
    "\n",
    "callback = tf.keras.callbacks.ReduceLROnPlateau(\n",
    "            monitor='val_loss', factor=0.1, patience=10, verbose=0,\n",
    "            mode='auto', min_delta=0.0001, cooldown=0, min_lr=0\n",
    "            )\n",
    "\n",
    "\n",
    "#sgd = optimizers.SGD(lr=0.01, decay=1e-6, momentum=0.9, nesterov=True)\n",
    "\n",
    "adam = tf.keras.optimizers.Adam(\n",
    "    learning_rate=0.001)\n",
    "\n",
    "loss_fn = tf.keras.losses.CategoricalCrossentropy(\n",
    "    from_logits=True,\n",
    "    label_smoothing=0,\n",
    "    reduction=\"auto\",\n",
    "    name=\"categorical_crossentropy\",\n",
    ")\n",
    "\n",
    "model.compile(\n",
    "    optimizer = adam,\n",
    "    loss = loss_fn,\n",
    "    metrics = [tf.keras.metrics.BinaryAccuracy('accuracy'), tf.keras.metrics.Precision(), tf.keras.metrics.Recall()])\n",
    "    #metrics = [tf.keras.metrics.BinaryAccuracy(name='accuracy')])\n",
    "\n",
    "\n",
    "#train the model\n",
    "\n",
    "history = model.fit(\n",
    "    pad_seq, y, \n",
    "    batch_size = 128,\n",
    "    epochs = 50,\n",
    "    validation_data = (testing_seq, test_y),\n",
    "    #validation_split = 0.3\n",
    "    \n",
    "    callbacks = [callback]\n",
    ")\n",
    "\n",
    "#save the model\n",
    "\n",
    "#model.save('/home/charun/Documents/Projects/text_research/new_text_model2.h5')"
   ]
  },
  {
   "cell_type": "code",
   "execution_count": 63,
   "metadata": {},
   "outputs": [
    {
     "data": {
      "image/png": "[encoded data removed]",
      "text/plain": [
       "<Figure size 432x288 with 1 Axes>"
      ]
     },
     "metadata": {
      "needs_background": "light"
     },
     "output_type": "display_data"
    }
   ],
   "source": [
    "plt.plot(history.history['accuracy'])\n",
    "plt.plot(history.history['val_accuracy'])\n",
    "\n",
    "plt.title('model accuracy')\n",
    "plt.ylabel('accuracy')\n",
    "plt.xlabel('epoch')\n",
    "plt.legend(['train', 'test'], loc='lower right')\n",
    "plt.show()\n",
    "\n",
    "\n"
   ]
  },
  {
   "cell_type": "code",
   "execution_count": 64,
   "metadata": {},
   "outputs": [
    {
     "data": {
      "image/png": "[encoded data removed]",
      "text/plain": [
       "<Figure size 432x288 with 1 Axes>"
      ]
     },
     "metadata": {
      "needs_background": "light"
     },
     "output_type": "display_data"
    }
   ],
   "source": [
    "plt.plot(history.history['loss'])\n",
    "plt.plot(history.history['val_loss'])\n",
    "\n",
    "plt.title('model loss')\n",
    "plt.ylabel('loss')\n",
    "plt.xlabel('epoch')\n",
    "plt.legend(['train', 'test'], loc='lower right')\n",
    "plt.show()"
   ]
  },
  {
   "cell_type": "code",
   "execution_count": 68,
   "metadata": {},
   "outputs": [
    {
     "data": {
      "image/png": "[encoded data removed]",
      "text/plain": [
       "<Figure size 432x288 with 1 Axes>"
      ]
     },
     "metadata": {
      "needs_background": "light"
     },
     "output_type": "display_data"
    }
   ],
   "source": [
    "plt.plot(history.history['precision_4'])\n",
    "plt.plot(history.history['val_precision_4'])\n",
    "\n",
    "plt.title('model precision')\n",
    "plt.ylabel('precision')\n",
    "plt.xlabel('epoch')\n",
    "plt.legend(['train', 'test'], loc='lower right')\n",
    "plt.show()"
   ]
  },
  {
   "cell_type": "code",
   "execution_count": 69,
   "metadata": {},
   "outputs": [
    {
     "data": {
      "image/png": "[encoded data removed]",
      "text/plain": [
       "<Figure size 432x288 with 1 Axes>"
      ]
     },
     "metadata": {
      "needs_background": "light"
     },
     "output_type": "display_data"
    }
   ],
   "source": [
    "plt.plot(history.history['recall_3'])\n",
    "plt.plot(history.history['val_recall_3'])\n",
    "\n",
    "plt.title('model recall')\n",
    "plt.ylabel('recall')\n",
    "plt.xlabel('epoch')\n",
    "plt.legend(['train', 'test'], loc='lower right')\n",
    "plt.show()"
   ]
  },
  {
   "cell_type": "code",
   "execution_count": null,
   "metadata": {},
   "outputs": [],
   "source": []
  },
  {
   "cell_type": "code",
   "execution_count": 32,
   "metadata": {},
   "outputs": [],
   "source": [
    "import tensorflow\n",
    "\n",
    "# import the trained model\n",
    "\n",
    "model_path = '/home/charun/Documents/Projects/text_research/new_text_model1.h5'\n",
    "model = tensorflow.keras.models.load_model(model_path)"
   ]
  },
  {
   "cell_type": "code",
   "execution_count": 33,
   "metadata": {},
   "outputs": [],
   "source": [
    "df_eval = pd.read_excel('/home/charun/Documents/Projects/text_research/eval_data.xlsx')"
   ]
  },
  {
   "cell_type": "code",
   "execution_count": 34,
   "metadata": {},
   "outputs": [
    {
     "data": {
      "text/plain": [
       "array([1, 0, 3, 4, 2])"
      ]
     },
     "execution_count": 34,
     "metadata": {},
     "output_type": "execute_result"
    }
   ],
   "source": [
    "#convert our labels into numerical values. in here we add 0 for the User Interface, 1 for the debug and\n",
    "# 2 for the document and text\n",
    "\n",
    "df_eval['Label'] = df_eval['label'].replace(['User Interface', 'Debug','Document and text', 'Integration', 'Core' ], [0,1,2,3,4])\n",
    "\n",
    "#after that we drop the column which contains the textual labels\n",
    "\n",
    "new_df_eval = df_eval.drop(columns=['label'])\n",
    "new_df_eval['Label'].unique()"
   ]
  },
  {
   "cell_type": "code",
   "execution_count": 35,
   "metadata": {},
   "outputs": [],
   "source": [
    "# preprocess our evaluation dataset\n",
    "\n",
    "\n",
    "def form_sentence(tweet):\n",
    "    tweet = re.sub(r\"(?:\\#+[\\w_]+[\\w\\'_\\-]*[\\w_]+)\", '', tweet)\n",
    "    tweet = re.sub(r'<[^>]+>', '', tweet)\n",
    "    tweet = re.sub(r'http[s]?://(?:[a-z]|[0-9]|[$-_@.&+]|[!*\\(\\),]|(?:%[0-9a-f][0-9a-f]))+', '', tweet)\n",
    "    tweet_blob = TextBlob(tweet)\n",
    "    return ' '.join(tweet_blob.words)\n",
    "\n",
    "\n",
    "def no_user_alpha(tweet):\n",
    "    tweet_list = [ele for ele in tweet.split() if ele != 'user']\n",
    "    clean_tokens = [t for t in tweet_list if re.match(r'[^\\W\\d]*$', t)]\n",
    "    clean_s = ' '.join(clean_tokens)\n",
    "    clean_mess = [word for word in clean_s.split() if word.lower() not in stopwords.words('english')]\n",
    "    return clean_mess\n",
    "\n",
    "\n",
    "def normalization(tweet_list):\n",
    "    lem = WordNetLemmatizer()\n",
    "    normalized_tweet = []\n",
    "    for word in tweet_list:\n",
    "        normalized_text = lem.lemmatize(word, 'v')\n",
    "        normalized_tweet.append(normalized_text)\n",
    "    return normalized_tweet\n",
    "\n",
    "\n",
    "Final_words_eval = [] \n",
    "\n",
    "\n",
    "\n",
    "for data in new_df_eval['text']:\n",
    "    filtered = normalization(no_user_alpha(form_sentence(data)))\n",
    "    word_Final = ' '.join(filtered)\n",
    "    Final_words_eval.append(word_Final)\n",
    "    \n",
    "\n",
    "\n",
    "# store preprocessed data to new dataframe called final_bodyTrain    \n",
    "    \n",
    "final_body_eval = pd.DataFrame(Final_words_train, columns=['body'])\n"
   ]
  },
  {
   "cell_type": "code",
   "execution_count": 37,
   "metadata": {},
   "outputs": [],
   "source": [
    "token = Tokenizer()\n",
    "token.fit_on_texts(final_body_eval['body'])\n",
    "\n",
    "#integer encode the documents\n",
    "seq = token.texts_to_sequences(final_body_eval['body'])\n",
    "\n",
    "# pad the document\n",
    "\n",
    "max_length = 100\n",
    "pad_seq = pad_sequences(seq, maxlen=max_length, padding='post')\n"
   ]
  },
  {
   "cell_type": "code",
   "execution_count": 38,
   "metadata": {
    "scrolled": true
   },
   "outputs": [
    {
     "data": {
      "text/plain": [
       "array([[0.15741694, 0.41862983, 0.01163317, 0.3218309 , 0.0904891 ],\n",
       "       [0.65723926, 0.04766425, 0.12399331, 0.04522521, 0.12587804],\n",
       "       [0.05830264, 0.7350734 , 0.00386232, 0.16260813, 0.04015345],\n",
       "       ...,\n",
       "       [0.22474867, 0.174095  , 0.13077545, 0.13418965, 0.33619124],\n",
       "       [0.77369153, 0.04771454, 0.02924141, 0.02706683, 0.12228565],\n",
       "       [0.30155584, 0.1169453 , 0.15155444, 0.12283603, 0.30710837]],\n",
       "      dtype=float32)"
      ]
     },
     "execution_count": 38,
     "metadata": {},
     "output_type": "execute_result"
    }
   ],
   "source": [
    "#predict the result using the trained model\n",
    "\n",
    "pred = model.predict(pad_seq)\n",
    "pred"
   ]
  },
  {
   "cell_type": "code",
   "execution_count": 39,
   "metadata": {
    "collapsed": true
   },
   "outputs": [
    {
     "name": "stdout",
     "output_type": "stream",
     "text": [
      "[1 0 1 3 0 1 4 2 2 1 1 4 2 3 1 0 3 1 4 0 0 3 4 4 4 3 2 4 4 0 0 3 0 4 0 0 3\n",
      " 3 4 3 4 4 1 0 4 2 0 0 0 1 0 2 4 0 2 4 0 1 1 4 3 3 2 3 4 3 0 4 3 4 4 0 4 4\n",
      " 1 4 4 4 1 4 1 0 2 1 1 2 0 1 0 4 3 2 2 1 0 0 0 1 1 1 1 3 0 0 1 1 0 1 1 3 3\n",
      " 1 4 4 2 0 3 4 1 2 4 0 3 2 2 2 2 0 4 4 0 2 0 2 1 3 2 0 3 1 0 4 4 2 3 1 2 4\n",
      " 0 1 1 4 0 4 2 2 3 2 4 2 2 2 0 4 0 2 0 2 4 0 1 4 2 4 3 3 0 4 2 0 2 4 0 1 0\n",
      " 3 0 4 2 1 2 3 0 1 1 1 2 1 1 4 3 3 0 3 0 4 0 2 3 2 3 4 1 3 3 0 0 1 1 2 4 2\n",
      " 4 3 0 1 4 2 4 4 0 0 1 4 3 4 4 4 0 0 0 1 0 2 2 4 2 2 3 2 0 1 4 3 4 1 1 1 4\n",
      " 1 3 4 4 2 0 2 1 1 2 3 4 2 3 0 2 3 2 3 4 3 3 3 0 0 1 4 2 1 1 2 0 1 0 4 1 0\n",
      " 4 0 1 4 2 3 4 2 4 4 3 2 2 1 2 0 0 0 3 0 0 1 1 3 3 2 4 1 3 4 0 1 4 2 4 4 3\n",
      " 2 0 2 0 0 0 2 4 0 0 4 0 2 3 2 4 1 2 3 4 4 1 4 3 1 0 1 3 3 3 2 2 2 1 0 1 3\n",
      " 0 2 3 2 4 1 0 0 1 1 4 2 4 0 1 1 2 0 3 0 0 0 2 4 2 1 2 3 4 2 4 4 4 3 4 4 3\n",
      " 1 1 4 1 4 0 1 2 1 4 3 3 1 2 2 2 0 2 1 4 2 1 0 2 0 4 4 3 1 2 4 3 2 4 1 4 4\n",
      " 2 2 3 4 2 4 3 0 1 2 0 1 3 4 0 0 0 0 0 4 4 2 1 4 2 2 2 0 4 1 3 0 1 2 4 1 0\n",
      " 4 4 4 0 4 2 3 4 1 1 1 0 0 1 1 3 0 3 4 0 1 0 2 1 0 1 1 3 2 2 1 1 1 1 4 0 2\n",
      " 0 4 0 3 1 0 4 2 0 4 4 3 3 4 1 1 0 3 4 3 2 2 2 4 4 0 4 1 2 4 1 0 0 0 1 0 3\n",
      " 2 1 3 0 0 0 3 0 3 2 0 1 4 2 1 3 1 2 3 3 3 2 3 3 0 2 4 0 4 2 0 2 1 4 3 4 2\n",
      " 3 0 0 0 0 4 4 0 4 2 1 3 2 0 1 2 2 2 1 3 2 4 1 1 3 1 2 3 2 3 3 3 2 0 0 3 4\n",
      " 3 0 0 0 0 0 0 0 2 1 2 3 4 1 2 4 1 2 2 2 4 3 4 1 3 2 1 4 3 0 0 1 0 0 3 3 4\n",
      " 4 3 4 0 1 0 4 2 1 2 4 2 0 4 0 1 2 1 2 2 2 3 1 4 3 1 4 0 2 3 1 2 1 2 1 1 3\n",
      " 2 1 2 2 1 3 4 3 3 3 0 2 3 4 2 2 3 3 4 2 1 4 4 0 2 3 3 1 0 3 4 0 2 4 2 3 3\n",
      " 3 1 2 4 2 0 1 4 3 2 4 0 4 0 2 0 0 1 2 1 1 2 2 2 4 3 3 1 0 2 3 4 4 4 3 2 0\n",
      " 4 4 4 0 1 1 3 2 0 4 0 0 3 1 3 4 1 3 1 2 1 4 0 4 4 3 2 2 4 3 2 3 3 4 2 4 0\n",
      " 3 2 4 1 0 3 3 4 2 4 2 2 2 2 3 3 1 2 4 1 1 1 4 3 2 3 3 4 1 3 3 0 4 0 4 4 1\n",
      " 3 0 0 2 2 1 1 0 0 0 4 4 0 4 0 4 4 1 0 2 4 3 3 2 2 4 4 2 0 1 3 4 2 4 3 0 3\n",
      " 0 4 3 1 2 3 1 2 3 2 1 4 3 3 1 2 3 0 2 4 3 2 0 1 3 1 2 1 2 3 3 4 1 4 3 2 4\n",
      " 0 3 2 4 4 3 0 4 4 4 3 3 2 4 2 3 2 0 2 3 1 2 0 1 0 1 0 4 2 0 0 1 1 1 4 0 2\n",
      " 4 3 0 0 2 2 0 2 4 0 3 1 3 3 2 0 1 2 1 3 2 1 4 1 3 2 0 2 3 4 4 4 2 4 0 4]\n"
     ]
    }
   ],
   "source": [
    "# get the label class\n",
    "\n",
    "classes = np.argmax(pred, axis = 1)\n",
    "print(classes)"
   ]
  },
  {
   "cell_type": "code",
   "execution_count": 62,
   "metadata": {},
   "outputs": [],
   "source": [
    "%matplotlib inline\n",
    "from sklearn.metrics import confusion_matrix, f1_score,classification_report, accuracy_score\n",
    "import itertools\n",
    "import matplotlib.pyplot as plt"
   ]
  },
  {
   "cell_type": "code",
   "execution_count": 41,
   "metadata": {},
   "outputs": [
    {
     "name": "stdout",
     "output_type": "stream",
     "text": [
      "0.8552517546899242\n"
     ]
    }
   ],
   "source": [
    "# f1 score\n",
    "print(f1_score(new_df_eval['Label'], classes , average=\"macro\"))\n"
   ]
  },
  {
   "cell_type": "code",
   "execution_count": 74,
   "metadata": {},
   "outputs": [
    {
     "name": "stdout",
     "output_type": "stream",
     "text": [
      "accuracy for the evaluation dataset is 0.8547094188376754\n"
     ]
    }
   ],
   "source": [
    "print('accuracy for the evaluation dataset is {}'.format(accuracy_score(y_true=new_df_eval['Label'], y_pred=classes, normalize=True)))"
   ]
  },
  {
   "cell_type": "code",
   "execution_count": 67,
   "metadata": {},
   "outputs": [],
   "source": [
    "target_names = ['User Interface', 'Debug','Document and text', 'Integration', 'Core']"
   ]
  },
  {
   "cell_type": "code",
   "execution_count": 68,
   "metadata": {},
   "outputs": [
    {
     "name": "stdout",
     "output_type": "stream",
     "text": [
      "                   precision    recall  f1-score   support\n",
      "\n",
      "   User Interface       0.76      0.79      0.78       195\n",
      "            Debug       0.91      0.87      0.89       194\n",
      "Document and text       0.93      0.95      0.94       204\n",
      "      Integration       0.91      0.82      0.87       200\n",
      "             Core       0.78      0.83      0.80       205\n",
      "\n",
      "         accuracy                           0.85       998\n",
      "        macro avg       0.86      0.85      0.86       998\n",
      "     weighted avg       0.86      0.85      0.86       998\n",
      "\n"
     ]
    }
   ],
   "source": [
    "print(classification_report(y_true=new_df_eval['Label'], y_pred=classes, target_names=target_names))"
   ]
  },
  {
   "cell_type": "code",
   "execution_count": 42,
   "metadata": {},
   "outputs": [],
   "source": [
    "cm = confusion_matrix(y_true=new_df_eval['Label'], y_pred=classes)"
   ]
  },
  {
   "cell_type": "code",
   "execution_count": 56,
   "metadata": {},
   "outputs": [],
   "source": [
    "def plot_confusion_matrix(cm, classes,\n",
    "                        normalize=False,\n",
    "                        title='Confusion matrix',\n",
    "                        cmap=plt.cm.Blues):\n",
    "# plotting the confusion matrix\n",
    "    plt.imshow(cm, interpolation='nearest', cmap=cmap)\n",
    "    plt.title(title)\n",
    "    plt.colorbar()\n",
    "    tick_marks = np.arange(len(classes))\n",
    "    plt.xticks(tick_marks, classes, rotation=90)\n",
    "    plt.yticks(tick_marks, classes)\n",
    "    \n",
    "\n",
    "    if normalize:\n",
    "        cm = cm.astype('float') / cm.sum(axis=1)[:, np.newaxis]\n",
    "        print(\"Normalized confusion matrix\")\n",
    "    else:\n",
    "        print('Confusion matrix, without normalization')\n",
    "\n",
    "    print(cm)\n",
    "\n",
    "    thresh = cm.max() / 2.\n",
    "    for i, j in itertools.product(range(cm.shape[0]), range(cm.shape[1])):\n",
    "        plt.text(j, i, cm[i, j],\n",
    "            horizontalalignment=\"center\",\n",
    "            color=\"white\" if cm[i, j] > thresh else \"black\")\n",
    "\n",
    "    plt.tight_layout()\n",
    "    plt.ylabel('True label')\n",
    "    plt.xlabel('Predicted label')\n",
    "    \n"
   ]
  },
  {
   "cell_type": "code",
   "execution_count": 50,
   "metadata": {},
   "outputs": [],
   "source": [
    "cm_plot_labels = ['User Interface', 'Debug','Document and text', 'Integration', 'Core']"
   ]
  },
  {
   "cell_type": "code",
   "execution_count": 57,
   "metadata": {},
   "outputs": [
    {
     "name": "stdout",
     "output_type": "stream",
     "text": [
      "Confusion matrix, without normalization\n",
      "[[155   3   2   7  28]\n",
      " [ 11 169   0   5   9]\n",
      " [  4   1 194   3   2]\n",
      " [ 11   6   8 165  10]\n",
      " [ 23   6   5   1 170]]\n"
     ]
    },
    {
     "data": {
      "image/png": "[encoded data removed]",
      "text/plain": [
       "<Figure size 432x288 with 2 Axes>"
      ]
     },
     "metadata": {
      "needs_background": "light"
     },
     "output_type": "display_data"
    }
   ],
   "source": [
    "plot_confusion_matrix(cm=cm, classes=cm_plot_labels, title='Confusion Matrix')"
   ]
  }
 ],
 "metadata": {
  "colab": {
   "authorship_tag": "ABX9TyMn9CQZz2O8/xkBiRblGV4K",
   "name": "Untitled0.ipynb",
   "provenance": []
  },
  "kernelspec": {
   "display_name": "Python 3",
   "language": "python",
   "name": "python3"
  },
  "language_info": {
   "codemirror_mode": {
    "name": "ipython",
    "version": 3
   },
   "file_extension": ".py",
   "mimetype": "text/x-python",
   "name": "python",
   "nbconvert_exporter": "python",
   "pygments_lexer": "ipython3",
   "version": "3.7.3"
  }
 },
 "nbformat": 4,
 "nbformat_minor": 1
}
